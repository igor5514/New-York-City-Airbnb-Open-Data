{
 "cells": [
  {
   "cell_type": "markdown",
   "id": "associate-humanitarian",
   "metadata": {
    "papermill": {
     "duration": 0.096659,
     "end_time": "2021-05-25T06:18:28.266528",
     "exception": false,
     "start_time": "2021-05-25T06:18:28.169869",
     "status": "completed"
    },
    "tags": []
   },
   "source": [
    "# Name: Kenzin Igor\n"
   ]
  },
  {
   "cell_type": "code",
   "execution_count": 1,
   "id": "responsible-asthma",
   "metadata": {
    "_cell_guid": "b1076dfc-b9ad-4769-8c92-a6c4dae69d19",
    "_uuid": "8f2839f25d086af736a60e9eeb907d3b93b6e0e5",
    "execution": {
     "iopub.execute_input": "2021-05-25T06:18:28.453340Z",
     "iopub.status.busy": "2021-05-25T06:18:28.451579Z",
     "iopub.status.idle": "2021-05-25T06:18:28.473299Z",
     "shell.execute_reply": "2021-05-25T06:18:28.473773Z",
     "shell.execute_reply.started": "2021-05-22T19:11:09.896413Z"
    },
    "papermill": {
     "duration": 0.11686,
     "end_time": "2021-05-25T06:18:28.474023",
     "exception": false,
     "start_time": "2021-05-25T06:18:28.357163",
     "status": "completed"
    },
    "tags": []
   },
   "outputs": [
    {
     "name": "stdout",
     "output_type": "stream",
     "text": [
      "/kaggle/input/new-york-city-airbnb-open-data/AB_NYC_2019.csv\n",
      "/kaggle/input/new-york-city-airbnb-open-data/New_York_City_.png\n"
     ]
    }
   ],
   "source": [
    "# This Python 3 environment comes with many helpful analytics libraries installed\n",
    "# It is defined by the kaggle/python Docker image: https://github.com/kaggle/docker-python\n",
    "# For example, here's several helpful packages to load\n",
    "\n",
    "import numpy as np # linear algebra\n",
    "import pandas as pd # data processing, CSV file I/O (e.g. pd.read_csv)\n",
    "\n",
    "# Input data files are available in the read-only \"../input/\" directory\n",
    "# For example, running this (by clicking run or pressing Shift+Enter) will list all files under the input directory\n",
    "\n",
    "import os\n",
    "for dirname, _, filenames in os.walk('/kaggle/input'):\n",
    "    for filename in filenames:\n",
    "        print(os.path.join(dirname, filename))\n",
    "\n",
    "# You can write up to 20GB to the current directory (/kaggle/working/) that gets preserved as output when you create a version using \"Save & Run All\" \n",
    "# You can also write temporary files to /kaggle/temp/, but they won't be saved outside of the current session"
   ]
  },
  {
   "cell_type": "code",
   "execution_count": 2,
   "id": "ultimate-decline",
   "metadata": {
    "execution": {
     "iopub.execute_input": "2021-05-25T06:18:28.664534Z",
     "iopub.status.busy": "2021-05-25T06:18:28.663766Z",
     "iopub.status.idle": "2021-05-25T06:18:29.410927Z",
     "shell.execute_reply": "2021-05-25T06:18:29.411514Z",
     "shell.execute_reply.started": "2021-05-22T19:11:09.917382Z"
    },
    "papermill": {
     "duration": 0.846021,
     "end_time": "2021-05-25T06:18:29.411729",
     "exception": false,
     "start_time": "2021-05-25T06:18:28.565708",
     "status": "completed"
    },
    "tags": []
   },
   "outputs": [],
   "source": [
    "# Seaborn is a Python data visualization library based on matplotlib. It provides a high-level interface for drawing attractive and informative statistical graphics.\n",
    "import seaborn as sns"
   ]
  },
  {
   "cell_type": "code",
   "execution_count": 3,
   "id": "worth-seattle",
   "metadata": {
    "execution": {
     "iopub.execute_input": "2021-05-25T06:18:29.599934Z",
     "iopub.status.busy": "2021-05-25T06:18:29.598969Z",
     "iopub.status.idle": "2021-05-25T06:18:29.606689Z",
     "shell.execute_reply": "2021-05-25T06:18:29.607163Z",
     "shell.execute_reply.started": "2021-05-25T06:12:46.433242Z"
    },
    "papermill": {
     "duration": 0.103497,
     "end_time": "2021-05-25T06:18:29.607329",
     "exception": false,
     "start_time": "2021-05-25T06:18:29.503832",
     "status": "completed"
    },
    "tags": []
   },
   "outputs": [],
   "source": [
    "import matplotlib.pyplot as plt\n",
    "from collections import deque\n",
    "%matplotlib inline\n",
    "\n",
    "# Set multiple theme parameters in one step.\n",
    "# Each set of parameters can be set directly or temporarily, see the referenced functions below for more information.\n",
    "# color_codes: bool\n",
    "# If True and palette is a seaborn palette, remap the shorthand color codes (e.g. “b”, “g”, “r”, etc.) to the colors from this palette.\n",
    "sns.set(color_codes=True)"
   ]
  },
  {
   "cell_type": "markdown",
   "id": "theoretical-cargo",
   "metadata": {
    "papermill": {
     "duration": 0.091514,
     "end_time": "2021-05-25T06:18:29.790490",
     "exception": false,
     "start_time": "2021-05-25T06:18:29.698976",
     "status": "completed"
    },
    "tags": []
   },
   "source": [
    "# Data scanning, Data cleaning and basic understandings of the dataset"
   ]
  },
  {
   "cell_type": "code",
   "execution_count": 4,
   "id": "arbitrary-peninsula",
   "metadata": {
    "execution": {
     "iopub.execute_input": "2021-05-25T06:18:29.977502Z",
     "iopub.status.busy": "2021-05-25T06:18:29.976694Z",
     "iopub.status.idle": "2021-05-25T06:18:30.265926Z",
     "shell.execute_reply": "2021-05-25T06:18:30.265113Z",
     "shell.execute_reply.started": "2021-05-25T06:12:52.936917Z"
    },
    "papermill": {
     "duration": 0.384178,
     "end_time": "2021-05-25T06:18:30.266145",
     "exception": false,
     "start_time": "2021-05-25T06:18:29.881967",
     "status": "completed"
    },
    "tags": []
   },
   "outputs": [
    {
     "data": {
      "text/html": [
       "<div>\n",
       "<style scoped>\n",
       "    .dataframe tbody tr th:only-of-type {\n",
       "        vertical-align: middle;\n",
       "    }\n",
       "\n",
       "    .dataframe tbody tr th {\n",
       "        vertical-align: top;\n",
       "    }\n",
       "\n",
       "    .dataframe thead th {\n",
       "        text-align: right;\n",
       "    }\n",
       "</style>\n",
       "<table border=\"1\" class=\"dataframe\">\n",
       "  <thead>\n",
       "    <tr style=\"text-align: right;\">\n",
       "      <th></th>\n",
       "      <th>id</th>\n",
       "      <th>name</th>\n",
       "      <th>host_id</th>\n",
       "      <th>host_name</th>\n",
       "      <th>neighbourhood_group</th>\n",
       "      <th>neighbourhood</th>\n",
       "      <th>latitude</th>\n",
       "      <th>longitude</th>\n",
       "      <th>room_type</th>\n",
       "      <th>price</th>\n",
       "      <th>minimum_nights</th>\n",
       "      <th>number_of_reviews</th>\n",
       "      <th>last_review</th>\n",
       "      <th>reviews_per_month</th>\n",
       "      <th>calculated_host_listings_count</th>\n",
       "      <th>availability_365</th>\n",
       "    </tr>\n",
       "  </thead>\n",
       "  <tbody>\n",
       "    <tr>\n",
       "      <th>0</th>\n",
       "      <td>2539</td>\n",
       "      <td>Clean &amp; quiet apt home by the park</td>\n",
       "      <td>2787</td>\n",
       "      <td>John</td>\n",
       "      <td>Brooklyn</td>\n",
       "      <td>Kensington</td>\n",
       "      <td>40.64749</td>\n",
       "      <td>-73.97237</td>\n",
       "      <td>Private room</td>\n",
       "      <td>149</td>\n",
       "      <td>1</td>\n",
       "      <td>9</td>\n",
       "      <td>2018-10-19</td>\n",
       "      <td>0.21</td>\n",
       "      <td>6</td>\n",
       "      <td>365</td>\n",
       "    </tr>\n",
       "    <tr>\n",
       "      <th>1</th>\n",
       "      <td>2595</td>\n",
       "      <td>Skylit Midtown Castle</td>\n",
       "      <td>2845</td>\n",
       "      <td>Jennifer</td>\n",
       "      <td>Manhattan</td>\n",
       "      <td>Midtown</td>\n",
       "      <td>40.75362</td>\n",
       "      <td>-73.98377</td>\n",
       "      <td>Entire home/apt</td>\n",
       "      <td>225</td>\n",
       "      <td>1</td>\n",
       "      <td>45</td>\n",
       "      <td>2019-05-21</td>\n",
       "      <td>0.38</td>\n",
       "      <td>2</td>\n",
       "      <td>355</td>\n",
       "    </tr>\n",
       "    <tr>\n",
       "      <th>2</th>\n",
       "      <td>3647</td>\n",
       "      <td>THE VILLAGE OF HARLEM....NEW YORK !</td>\n",
       "      <td>4632</td>\n",
       "      <td>Elisabeth</td>\n",
       "      <td>Manhattan</td>\n",
       "      <td>Harlem</td>\n",
       "      <td>40.80902</td>\n",
       "      <td>-73.94190</td>\n",
       "      <td>Private room</td>\n",
       "      <td>150</td>\n",
       "      <td>3</td>\n",
       "      <td>0</td>\n",
       "      <td>NaN</td>\n",
       "      <td>NaN</td>\n",
       "      <td>1</td>\n",
       "      <td>365</td>\n",
       "    </tr>\n",
       "    <tr>\n",
       "      <th>3</th>\n",
       "      <td>3831</td>\n",
       "      <td>Cozy Entire Floor of Brownstone</td>\n",
       "      <td>4869</td>\n",
       "      <td>LisaRoxanne</td>\n",
       "      <td>Brooklyn</td>\n",
       "      <td>Clinton Hill</td>\n",
       "      <td>40.68514</td>\n",
       "      <td>-73.95976</td>\n",
       "      <td>Entire home/apt</td>\n",
       "      <td>89</td>\n",
       "      <td>1</td>\n",
       "      <td>270</td>\n",
       "      <td>2019-07-05</td>\n",
       "      <td>4.64</td>\n",
       "      <td>1</td>\n",
       "      <td>194</td>\n",
       "    </tr>\n",
       "    <tr>\n",
       "      <th>4</th>\n",
       "      <td>5022</td>\n",
       "      <td>Entire Apt: Spacious Studio/Loft by central park</td>\n",
       "      <td>7192</td>\n",
       "      <td>Laura</td>\n",
       "      <td>Manhattan</td>\n",
       "      <td>East Harlem</td>\n",
       "      <td>40.79851</td>\n",
       "      <td>-73.94399</td>\n",
       "      <td>Entire home/apt</td>\n",
       "      <td>80</td>\n",
       "      <td>10</td>\n",
       "      <td>9</td>\n",
       "      <td>2018-11-19</td>\n",
       "      <td>0.10</td>\n",
       "      <td>1</td>\n",
       "      <td>0</td>\n",
       "    </tr>\n",
       "  </tbody>\n",
       "</table>\n",
       "</div>"
      ],
      "text/plain": [
       "     id                                              name  host_id  \\\n",
       "0  2539                Clean & quiet apt home by the park     2787   \n",
       "1  2595                             Skylit Midtown Castle     2845   \n",
       "2  3647               THE VILLAGE OF HARLEM....NEW YORK !     4632   \n",
       "3  3831                   Cozy Entire Floor of Brownstone     4869   \n",
       "4  5022  Entire Apt: Spacious Studio/Loft by central park     7192   \n",
       "\n",
       "     host_name neighbourhood_group neighbourhood  latitude  longitude  \\\n",
       "0         John            Brooklyn    Kensington  40.64749  -73.97237   \n",
       "1     Jennifer           Manhattan       Midtown  40.75362  -73.98377   \n",
       "2    Elisabeth           Manhattan        Harlem  40.80902  -73.94190   \n",
       "3  LisaRoxanne            Brooklyn  Clinton Hill  40.68514  -73.95976   \n",
       "4        Laura           Manhattan   East Harlem  40.79851  -73.94399   \n",
       "\n",
       "         room_type  price  minimum_nights  number_of_reviews last_review  \\\n",
       "0     Private room    149               1                  9  2018-10-19   \n",
       "1  Entire home/apt    225               1                 45  2019-05-21   \n",
       "2     Private room    150               3                  0         NaN   \n",
       "3  Entire home/apt     89               1                270  2019-07-05   \n",
       "4  Entire home/apt     80              10                  9  2018-11-19   \n",
       "\n",
       "   reviews_per_month  calculated_host_listings_count  availability_365  \n",
       "0               0.21                               6               365  \n",
       "1               0.38                               2               355  \n",
       "2                NaN                               1               365  \n",
       "3               4.64                               1               194  \n",
       "4               0.10                               1                 0  "
      ]
     },
     "execution_count": 4,
     "metadata": {},
     "output_type": "execute_result"
    }
   ],
   "source": [
    "# Print the Dataset out\n",
    "dataset = pd.read_csv(\"../input/new-york-city-airbnb-open-data/AB_NYC_2019.csv\")\n",
    "dataset.head()\n"
   ]
  },
  {
   "cell_type": "code",
   "execution_count": 5,
   "id": "accurate-silly",
   "metadata": {
    "execution": {
     "iopub.execute_input": "2021-05-25T06:18:30.488963Z",
     "iopub.status.busy": "2021-05-25T06:18:30.463364Z",
     "iopub.status.idle": "2021-05-25T06:18:30.497326Z",
     "shell.execute_reply": "2021-05-25T06:18:30.496759Z",
     "shell.execute_reply.started": "2021-05-25T06:12:56.137264Z"
    },
    "papermill": {
     "duration": 0.129049,
     "end_time": "2021-05-25T06:18:30.497459",
     "exception": false,
     "start_time": "2021-05-25T06:18:30.368410",
     "status": "completed"
    },
    "tags": []
   },
   "outputs": [
    {
     "data": {
      "text/plain": [
       "id                                    0\n",
       "name                                 16\n",
       "host_id                               0\n",
       "host_name                            21\n",
       "neighbourhood_group                   0\n",
       "neighbourhood                         0\n",
       "latitude                              0\n",
       "longitude                             0\n",
       "room_type                             0\n",
       "price                                 0\n",
       "minimum_nights                        0\n",
       "number_of_reviews                     0\n",
       "last_review                       10052\n",
       "reviews_per_month                 10052\n",
       "calculated_host_listings_count        0\n",
       "availability_365                      0\n",
       "dtype: int64"
      ]
     },
     "execution_count": 5,
     "metadata": {},
     "output_type": "execute_result"
    }
   ],
   "source": [
    "# Display the number of null values can be found in each column \n",
    "dataset.isnull().sum()"
   ]
  },
  {
   "cell_type": "markdown",
   "id": "neural-approval",
   "metadata": {
    "papermill": {
     "duration": 0.091535,
     "end_time": "2021-05-25T06:18:30.681696",
     "exception": false,
     "start_time": "2021-05-25T06:18:30.590161",
     "status": "completed"
    },
    "tags": []
   },
   "source": [
    "There are 16 null name and 21 null host_name"
   ]
  },
  {
   "cell_type": "code",
   "execution_count": 6,
   "id": "ignored-remove",
   "metadata": {
    "execution": {
     "iopub.execute_input": "2021-05-25T06:18:30.873321Z",
     "iopub.status.busy": "2021-05-25T06:18:30.872381Z",
     "iopub.status.idle": "2021-05-25T06:18:30.876791Z",
     "shell.execute_reply": "2021-05-25T06:18:30.876309Z",
     "shell.execute_reply.started": "2021-05-25T06:12:58.911538Z"
    },
    "papermill": {
     "duration": 0.103171,
     "end_time": "2021-05-25T06:18:30.876926",
     "exception": false,
     "start_time": "2021-05-25T06:18:30.773755",
     "status": "completed"
    },
    "tags": []
   },
   "outputs": [
    {
     "data": {
      "text/plain": [
       "(48895, 16)"
      ]
     },
     "execution_count": 6,
     "metadata": {},
     "output_type": "execute_result"
    }
   ],
   "source": [
    "# The codes below returns the dimension of the dataset which is a tuple (a,b) where a is the total number of row and b is the total number of column\n",
    "dataset.shape"
   ]
  },
  {
   "cell_type": "markdown",
   "id": "brutal-mitchell",
   "metadata": {
    "papermill": {
     "duration": 0.095375,
     "end_time": "2021-05-25T06:18:31.064909",
     "exception": false,
     "start_time": "2021-05-25T06:18:30.969534",
     "status": "completed"
    },
    "tags": []
   },
   "source": [
    "There are a total of 48895 rows, which means there are a total of 48895 host_id and host_name"
   ]
  },
  {
   "cell_type": "code",
   "execution_count": 7,
   "id": "neutral-master",
   "metadata": {
    "execution": {
     "iopub.execute_input": "2021-05-25T06:18:31.257065Z",
     "iopub.status.busy": "2021-05-25T06:18:31.256137Z",
     "iopub.status.idle": "2021-05-25T06:18:31.263067Z",
     "shell.execute_reply": "2021-05-25T06:18:31.262580Z",
     "shell.execute_reply.started": "2021-05-25T06:13:01.143123Z"
    },
    "papermill": {
     "duration": 0.103731,
     "end_time": "2021-05-25T06:18:31.263222",
     "exception": false,
     "start_time": "2021-05-25T06:18:31.159491",
     "status": "completed"
    },
    "tags": []
   },
   "outputs": [
    {
     "name": "stdout",
     "output_type": "stream",
     "text": [
      "Percentage of null name:  0.03272318232948154 %\n",
      "Percentage of null name:  0.04294917680744453 %\n"
     ]
    }
   ],
   "source": [
    "# Find out the null percentage of name and host_name\n",
    "print(\"Percentage of null name: \", 16/48895*100, \"%\")\n",
    "print(\"Percentage of null name: \", 21/48895*100, \"%\")"
   ]
  },
  {
   "cell_type": "markdown",
   "id": "right-estimate",
   "metadata": {
    "papermill": {
     "duration": 0.092329,
     "end_time": "2021-05-25T06:18:31.448241",
     "exception": false,
     "start_time": "2021-05-25T06:18:31.355912",
     "status": "completed"
    },
    "tags": []
   },
   "source": [
    "The null percentage is much much lower than 0,1%, but they are vitals data to this research so we need to fill them up with some temp data in order for the research algorithms to work"
   ]
  },
  {
   "cell_type": "code",
   "execution_count": 8,
   "id": "documentary-feeding",
   "metadata": {
    "execution": {
     "iopub.execute_input": "2021-05-25T06:18:31.645548Z",
     "iopub.status.busy": "2021-05-25T06:18:31.644879Z",
     "iopub.status.idle": "2021-05-25T06:18:31.647466Z",
     "shell.execute_reply": "2021-05-25T06:18:31.647908Z",
     "shell.execute_reply.started": "2021-05-25T06:13:03.048954Z"
    },
    "papermill": {
     "duration": 0.10735,
     "end_time": "2021-05-25T06:18:31.648099",
     "exception": false,
     "start_time": "2021-05-25T06:18:31.540749",
     "status": "completed"
    },
    "tags": []
   },
   "outputs": [],
   "source": [
    "# replace all null host_name with \"No information provided\"\n",
    "dataset.host_name.fillna(\"No information provided\", inplace = True)"
   ]
  },
  {
   "cell_type": "code",
   "execution_count": 9,
   "id": "collect-conservative",
   "metadata": {
    "execution": {
     "iopub.execute_input": "2021-05-25T06:18:31.842933Z",
     "iopub.status.busy": "2021-05-25T06:18:31.842312Z",
     "iopub.status.idle": "2021-05-25T06:18:31.846599Z",
     "shell.execute_reply": "2021-05-25T06:18:31.846089Z",
     "shell.execute_reply.started": "2021-05-25T06:13:04.211303Z"
    },
    "papermill": {
     "duration": 0.105915,
     "end_time": "2021-05-25T06:18:31.846730",
     "exception": false,
     "start_time": "2021-05-25T06:18:31.740815",
     "status": "completed"
    },
    "tags": []
   },
   "outputs": [],
   "source": [
    "# replace all null name with \"No Name provided\"\n",
    "dataset.name.fillna(\"No Name provided\" , inplace = True)"
   ]
  },
  {
   "cell_type": "code",
   "execution_count": 10,
   "id": "bridal-voluntary",
   "metadata": {
    "execution": {
     "iopub.execute_input": "2021-05-25T06:18:32.037235Z",
     "iopub.status.busy": "2021-05-25T06:18:32.036587Z",
     "iopub.status.idle": "2021-05-25T06:18:32.070166Z",
     "shell.execute_reply": "2021-05-25T06:18:32.069674Z",
     "shell.execute_reply.started": "2021-05-25T06:13:06.131291Z"
    },
    "papermill": {
     "duration": 0.131496,
     "end_time": "2021-05-25T06:18:32.070307",
     "exception": false,
     "start_time": "2021-05-25T06:18:31.938811",
     "status": "completed"
    },
    "tags": []
   },
   "outputs": [
    {
     "data": {
      "text/plain": [
       "id                                    0\n",
       "name                                  0\n",
       "host_id                               0\n",
       "host_name                             0\n",
       "neighbourhood_group                   0\n",
       "neighbourhood                         0\n",
       "latitude                              0\n",
       "longitude                             0\n",
       "room_type                             0\n",
       "price                                 0\n",
       "minimum_nights                        0\n",
       "number_of_reviews                     0\n",
       "last_review                       10052\n",
       "reviews_per_month                 10052\n",
       "calculated_host_listings_count        0\n",
       "availability_365                      0\n",
       "dtype: int64"
      ]
     },
     "execution_count": 10,
     "metadata": {},
     "output_type": "execute_result"
    }
   ],
   "source": [
    "# Check for null again\n",
    "dataset.isnull().sum()"
   ]
  },
  {
   "cell_type": "markdown",
   "id": "personal-reserve",
   "metadata": {
    "papermill": {
     "duration": 0.092834,
     "end_time": "2021-05-25T06:18:32.255783",
     "exception": false,
     "start_time": "2021-05-25T06:18:32.162949",
     "status": "completed"
    },
    "tags": []
   },
   "source": [
    "last_review and reviews_per_month are variables that considered to be not much necessary toward this data research"
   ]
  },
  {
   "cell_type": "code",
   "execution_count": 11,
   "id": "looking-museum",
   "metadata": {
    "execution": {
     "iopub.execute_input": "2021-05-25T06:18:32.449579Z",
     "iopub.status.busy": "2021-05-25T06:18:32.448894Z",
     "iopub.status.idle": "2021-05-25T06:18:32.502675Z",
     "shell.execute_reply": "2021-05-25T06:18:32.503237Z",
     "shell.execute_reply.started": "2021-05-25T06:13:08.822990Z"
    },
    "papermill": {
     "duration": 0.155138,
     "end_time": "2021-05-25T06:18:32.503393",
     "exception": false,
     "start_time": "2021-05-25T06:18:32.348255",
     "status": "completed"
    },
    "tags": []
   },
   "outputs": [
    {
     "data": {
      "text/html": [
       "<div>\n",
       "<style scoped>\n",
       "    .dataframe tbody tr th:only-of-type {\n",
       "        vertical-align: middle;\n",
       "    }\n",
       "\n",
       "    .dataframe tbody tr th {\n",
       "        vertical-align: top;\n",
       "    }\n",
       "\n",
       "    .dataframe thead th {\n",
       "        text-align: right;\n",
       "    }\n",
       "</style>\n",
       "<table border=\"1\" class=\"dataframe\">\n",
       "  <thead>\n",
       "    <tr style=\"text-align: right;\">\n",
       "      <th></th>\n",
       "      <th>id</th>\n",
       "      <th>host_id</th>\n",
       "      <th>latitude</th>\n",
       "      <th>longitude</th>\n",
       "      <th>price</th>\n",
       "      <th>minimum_nights</th>\n",
       "      <th>number_of_reviews</th>\n",
       "      <th>reviews_per_month</th>\n",
       "      <th>calculated_host_listings_count</th>\n",
       "      <th>availability_365</th>\n",
       "    </tr>\n",
       "  </thead>\n",
       "  <tbody>\n",
       "    <tr>\n",
       "      <th>count</th>\n",
       "      <td>4.889500e+04</td>\n",
       "      <td>4.889500e+04</td>\n",
       "      <td>48895.000000</td>\n",
       "      <td>48895.000000</td>\n",
       "      <td>48895.000000</td>\n",
       "      <td>48895.000000</td>\n",
       "      <td>48895.000000</td>\n",
       "      <td>38843.000000</td>\n",
       "      <td>48895.000000</td>\n",
       "      <td>48895.000000</td>\n",
       "    </tr>\n",
       "    <tr>\n",
       "      <th>mean</th>\n",
       "      <td>1.901714e+07</td>\n",
       "      <td>6.762001e+07</td>\n",
       "      <td>40.728949</td>\n",
       "      <td>-73.952170</td>\n",
       "      <td>152.720687</td>\n",
       "      <td>7.029962</td>\n",
       "      <td>23.274466</td>\n",
       "      <td>1.373221</td>\n",
       "      <td>7.143982</td>\n",
       "      <td>112.781327</td>\n",
       "    </tr>\n",
       "    <tr>\n",
       "      <th>std</th>\n",
       "      <td>1.098311e+07</td>\n",
       "      <td>7.861097e+07</td>\n",
       "      <td>0.054530</td>\n",
       "      <td>0.046157</td>\n",
       "      <td>240.154170</td>\n",
       "      <td>20.510550</td>\n",
       "      <td>44.550582</td>\n",
       "      <td>1.680442</td>\n",
       "      <td>32.952519</td>\n",
       "      <td>131.622289</td>\n",
       "    </tr>\n",
       "    <tr>\n",
       "      <th>min</th>\n",
       "      <td>2.539000e+03</td>\n",
       "      <td>2.438000e+03</td>\n",
       "      <td>40.499790</td>\n",
       "      <td>-74.244420</td>\n",
       "      <td>0.000000</td>\n",
       "      <td>1.000000</td>\n",
       "      <td>0.000000</td>\n",
       "      <td>0.010000</td>\n",
       "      <td>1.000000</td>\n",
       "      <td>0.000000</td>\n",
       "    </tr>\n",
       "    <tr>\n",
       "      <th>25%</th>\n",
       "      <td>9.471945e+06</td>\n",
       "      <td>7.822033e+06</td>\n",
       "      <td>40.690100</td>\n",
       "      <td>-73.983070</td>\n",
       "      <td>69.000000</td>\n",
       "      <td>1.000000</td>\n",
       "      <td>1.000000</td>\n",
       "      <td>0.190000</td>\n",
       "      <td>1.000000</td>\n",
       "      <td>0.000000</td>\n",
       "    </tr>\n",
       "    <tr>\n",
       "      <th>50%</th>\n",
       "      <td>1.967728e+07</td>\n",
       "      <td>3.079382e+07</td>\n",
       "      <td>40.723070</td>\n",
       "      <td>-73.955680</td>\n",
       "      <td>106.000000</td>\n",
       "      <td>3.000000</td>\n",
       "      <td>5.000000</td>\n",
       "      <td>0.720000</td>\n",
       "      <td>1.000000</td>\n",
       "      <td>45.000000</td>\n",
       "    </tr>\n",
       "    <tr>\n",
       "      <th>75%</th>\n",
       "      <td>2.915218e+07</td>\n",
       "      <td>1.074344e+08</td>\n",
       "      <td>40.763115</td>\n",
       "      <td>-73.936275</td>\n",
       "      <td>175.000000</td>\n",
       "      <td>5.000000</td>\n",
       "      <td>24.000000</td>\n",
       "      <td>2.020000</td>\n",
       "      <td>2.000000</td>\n",
       "      <td>227.000000</td>\n",
       "    </tr>\n",
       "    <tr>\n",
       "      <th>max</th>\n",
       "      <td>3.648724e+07</td>\n",
       "      <td>2.743213e+08</td>\n",
       "      <td>40.913060</td>\n",
       "      <td>-73.712990</td>\n",
       "      <td>10000.000000</td>\n",
       "      <td>1250.000000</td>\n",
       "      <td>629.000000</td>\n",
       "      <td>58.500000</td>\n",
       "      <td>327.000000</td>\n",
       "      <td>365.000000</td>\n",
       "    </tr>\n",
       "  </tbody>\n",
       "</table>\n",
       "</div>"
      ],
      "text/plain": [
       "                 id       host_id      latitude     longitude         price  \\\n",
       "count  4.889500e+04  4.889500e+04  48895.000000  48895.000000  48895.000000   \n",
       "mean   1.901714e+07  6.762001e+07     40.728949    -73.952170    152.720687   \n",
       "std    1.098311e+07  7.861097e+07      0.054530      0.046157    240.154170   \n",
       "min    2.539000e+03  2.438000e+03     40.499790    -74.244420      0.000000   \n",
       "25%    9.471945e+06  7.822033e+06     40.690100    -73.983070     69.000000   \n",
       "50%    1.967728e+07  3.079382e+07     40.723070    -73.955680    106.000000   \n",
       "75%    2.915218e+07  1.074344e+08     40.763115    -73.936275    175.000000   \n",
       "max    3.648724e+07  2.743213e+08     40.913060    -73.712990  10000.000000   \n",
       "\n",
       "       minimum_nights  number_of_reviews  reviews_per_month  \\\n",
       "count    48895.000000       48895.000000       38843.000000   \n",
       "mean         7.029962          23.274466           1.373221   \n",
       "std         20.510550          44.550582           1.680442   \n",
       "min          1.000000           0.000000           0.010000   \n",
       "25%          1.000000           1.000000           0.190000   \n",
       "50%          3.000000           5.000000           0.720000   \n",
       "75%          5.000000          24.000000           2.020000   \n",
       "max       1250.000000         629.000000          58.500000   \n",
       "\n",
       "       calculated_host_listings_count  availability_365  \n",
       "count                    48895.000000      48895.000000  \n",
       "mean                         7.143982        112.781327  \n",
       "std                         32.952519        131.622289  \n",
       "min                          1.000000          0.000000  \n",
       "25%                          1.000000          0.000000  \n",
       "50%                          1.000000         45.000000  \n",
       "75%                          2.000000        227.000000  \n",
       "max                        327.000000        365.000000  "
      ]
     },
     "execution_count": 11,
     "metadata": {},
     "output_type": "execute_result"
    }
   ],
   "source": [
    "# describe() is used to view some basic statistical details like percentile, mean, std etc. of a data frame or a series of numeric values.\n",
    "dataset.describe()"
   ]
  },
  {
   "cell_type": "code",
   "execution_count": 12,
   "id": "cathedral-biotechnology",
   "metadata": {
    "execution": {
     "iopub.execute_input": "2021-05-25T06:18:32.694829Z",
     "iopub.status.busy": "2021-05-25T06:18:32.694199Z",
     "iopub.status.idle": "2021-05-25T06:18:32.748655Z",
     "shell.execute_reply": "2021-05-25T06:18:32.749134Z",
     "shell.execute_reply.started": "2021-05-25T06:14:55.539244Z"
    },
    "papermill": {
     "duration": 0.152743,
     "end_time": "2021-05-25T06:18:32.749302",
     "exception": false,
     "start_time": "2021-05-25T06:18:32.596559",
     "status": "completed"
    },
    "tags": []
   },
   "outputs": [
    {
     "name": "stdout",
     "output_type": "stream",
     "text": [
      "Total Neighbourhoods: 221\n"
     ]
    }
   ],
   "source": [
    "# print total unique neighbourhoods count\n",
    "print (\"Total Neighbourhoods:\", len(np.unique(dataset.neighbourhood)))"
   ]
  },
  {
   "cell_type": "code",
   "execution_count": 13,
   "id": "timely-theorem",
   "metadata": {
    "execution": {
     "iopub.execute_input": "2021-05-25T06:18:32.939360Z",
     "iopub.status.busy": "2021-05-25T06:18:32.938722Z",
     "iopub.status.idle": "2021-05-25T06:18:32.986764Z",
     "shell.execute_reply": "2021-05-25T06:18:32.986259Z",
     "shell.execute_reply.started": "2021-05-25T06:14:57.714222Z"
    },
    "papermill": {
     "duration": 0.144746,
     "end_time": "2021-05-25T06:18:32.986917",
     "exception": false,
     "start_time": "2021-05-25T06:18:32.842171",
     "status": "completed"
    },
    "tags": []
   },
   "outputs": [
    {
     "name": "stdout",
     "output_type": "stream",
     "text": [
      "Total Listing group: 5\n"
     ]
    }
   ],
   "source": [
    "# print total unique neighbourhood group\n",
    "print (\"Total Listing group:\", len(np.unique(dataset.neighbourhood_group)))"
   ]
  },
  {
   "cell_type": "markdown",
   "id": "fifteen-tribe",
   "metadata": {
    "papermill": {
     "duration": 0.095387,
     "end_time": "2021-05-25T06:18:33.175389",
     "exception": false,
     "start_time": "2021-05-25T06:18:33.080002",
     "status": "completed"
    },
    "tags": []
   },
   "source": [
    "We can see here that 221 neighbourhoods are part of 5 main major neighbourhood group"
   ]
  },
  {
   "cell_type": "code",
   "execution_count": 14,
   "id": "early-catalyst",
   "metadata": {
    "execution": {
     "iopub.execute_input": "2021-05-25T06:18:33.369214Z",
     "iopub.status.busy": "2021-05-25T06:18:33.368547Z",
     "iopub.status.idle": "2021-05-25T06:18:33.371028Z",
     "shell.execute_reply": "2021-05-25T06:18:33.371527Z",
     "shell.execute_reply.started": "2021-05-25T06:14:59.444577Z"
    },
    "papermill": {
     "duration": 0.102213,
     "end_time": "2021-05-25T06:18:33.371696",
     "exception": false,
     "start_time": "2021-05-25T06:18:33.269483",
     "status": "completed"
    },
    "tags": []
   },
   "outputs": [
    {
     "name": "stdout",
     "output_type": "stream",
     "text": [
      "% of neighbourhood group & the total neighbourhoods count:  2.262443438914027 %\n"
     ]
    }
   ],
   "source": [
    "# Print the percentage of neighbourhood group and the total neighbourhoods count\n",
    "print(\"% of neighbourhood group & the total neighbourhoods count: \", 5/221*100, \"%\")"
   ]
  },
  {
   "cell_type": "code",
   "execution_count": 15,
   "id": "strategic-affair",
   "metadata": {
    "execution": {
     "iopub.execute_input": "2021-05-25T06:18:33.562986Z",
     "iopub.status.busy": "2021-05-25T06:18:33.562422Z",
     "iopub.status.idle": "2021-05-25T06:18:33.610735Z",
     "shell.execute_reply": "2021-05-25T06:18:33.610112Z",
     "shell.execute_reply.started": "2021-05-25T06:15:00.937224Z"
    },
    "papermill": {
     "duration": 0.143991,
     "end_time": "2021-05-25T06:18:33.610869",
     "exception": false,
     "start_time": "2021-05-25T06:18:33.466878",
     "status": "completed"
    },
    "tags": []
   },
   "outputs": [
    {
     "name": "stdout",
     "output_type": "stream",
     "text": [
      "Total Listing room type: 3\n"
     ]
    }
   ],
   "source": [
    "# print total unique roomtype\n",
    "print (\"Total Listing room type:\", len(np.unique(dataset.room_type)))"
   ]
  },
  {
   "cell_type": "code",
   "execution_count": 16,
   "id": "furnished-prediction",
   "metadata": {
    "execution": {
     "iopub.execute_input": "2021-05-25T06:18:33.816932Z",
     "iopub.status.busy": "2021-05-25T06:18:33.816324Z",
     "iopub.status.idle": "2021-05-25T06:18:33.819765Z",
     "shell.execute_reply": "2021-05-25T06:18:33.820293Z",
     "shell.execute_reply.started": "2021-05-25T06:15:02.456891Z"
    },
    "papermill": {
     "duration": 0.115714,
     "end_time": "2021-05-25T06:18:33.820451",
     "exception": false,
     "start_time": "2021-05-25T06:18:33.704737",
     "status": "completed"
    },
    "tags": []
   },
   "outputs": [
    {
     "data": {
      "text/plain": [
       "Entire home/apt    25409\n",
       "Private room       22326\n",
       "Shared room         1160\n",
       "Name: room_type, dtype: int64"
      ]
     },
     "execution_count": 16,
     "metadata": {},
     "output_type": "execute_result"
    }
   ],
   "source": [
    "# Print room type distribution\n",
    "dataset['room_type'].value_counts()"
   ]
  },
  {
   "cell_type": "code",
   "execution_count": 17,
   "id": "retired-liver",
   "metadata": {
    "execution": {
     "iopub.execute_input": "2021-05-25T06:18:34.030009Z",
     "iopub.status.busy": "2021-05-25T06:18:34.029377Z",
     "iopub.status.idle": "2021-05-25T06:18:34.245337Z",
     "shell.execute_reply": "2021-05-25T06:18:34.244692Z",
     "shell.execute_reply.started": "2021-05-25T06:15:03.990106Z"
    },
    "papermill": {
     "duration": 0.33011,
     "end_time": "2021-05-25T06:18:34.245472",
     "exception": false,
     "start_time": "2021-05-25T06:18:33.915362",
     "status": "completed"
    },
    "tags": []
   },
   "outputs": [
    {
     "data": {
      "text/plain": [
       "<AxesSubplot:ylabel='room_type'>"
      ]
     },
     "execution_count": 17,
     "metadata": {},
     "output_type": "execute_result"
    },
    {
     "data": {
      "image/png": "[encoded data removed]",
      "text/plain": [
       "<Figure size 1000x1000 with 1 Axes>"
      ]
     },
     "metadata": {},
     "output_type": "display_data"
    }
   ],
   "source": [
    "fig = plt.figure(figsize=(10,10), dpi=100)\n",
    "dataset['room_type'].value_counts().plot(kind='pie',  autopct='%1.0f%%', startangle=360, fontsize=16)"
   ]
  },
  {
   "cell_type": "markdown",
   "id": "industrial-michigan",
   "metadata": {
    "papermill": {
     "duration": 0.095773,
     "end_time": "2021-05-25T06:18:34.437711",
     "exception": false,
     "start_time": "2021-05-25T06:18:34.341938",
     "status": "completed"
    },
    "tags": []
   },
   "source": [
    "There are only three main room types in this dataset"
   ]
  },
  {
   "cell_type": "markdown",
   "id": "vocal-boating",
   "metadata": {
    "papermill": {
     "duration": 0.096483,
     "end_time": "2021-05-25T06:18:34.629289",
     "exception": false,
     "start_time": "2021-05-25T06:18:34.532806",
     "status": "completed"
    },
    "tags": []
   },
   "source": [
    "# Use Hash Table to store id and name of airbnb host of the dataset\n"
   ]
  },
  {
   "cell_type": "markdown",
   "id": "threatened-butter",
   "metadata": {
    "papermill": {
     "duration": 0.096365,
     "end_time": "2021-05-25T06:18:34.821289",
     "exception": false,
     "start_time": "2021-05-25T06:18:34.724924",
     "status": "completed"
    },
    "tags": []
   },
   "source": [
    "Because we have a huge dataset with 48895 rows and 16 column. And this data research project requires us to read and visualize multiple datas as once. Hash Table data structure comes in handy since they are very fast with the access time of an element is on average O(1). We can easily search for any host name with time complexity of O(1) with just the provided id"
   ]
  },
  {
   "cell_type": "markdown",
   "id": "invalid-reason",
   "metadata": {
    "papermill": {
     "duration": 0.099402,
     "end_time": "2021-05-25T06:18:35.016505",
     "exception": false,
     "start_time": "2021-05-25T06:18:34.917103",
     "status": "completed"
    },
    "tags": []
   },
   "source": [
    "We will initiated the Hashtable and store our dataset inside it"
   ]
  },
  {
   "cell_type": "code",
   "execution_count": 18,
   "id": "fantastic-southwest",
   "metadata": {
    "execution": {
     "iopub.execute_input": "2021-05-25T06:18:35.241500Z",
     "iopub.status.busy": "2021-05-25T06:18:35.240765Z",
     "iopub.status.idle": "2021-05-25T06:18:35.242685Z",
     "shell.execute_reply": "2021-05-25T06:18:35.243171Z",
     "shell.execute_reply.started": "2021-05-25T06:15:16.902207Z"
    },
    "papermill": {
     "duration": 0.115169,
     "end_time": "2021-05-25T06:18:35.243332",
     "exception": false,
     "start_time": "2021-05-25T06:18:35.128163",
     "status": "completed"
    },
    "tags": []
   },
   "outputs": [],
   "source": [
    "# Initiate Hash Table class\n",
    "\n",
    "class HashTable:\n",
    "    def __init__(self, length):\n",
    "       # Initiate our array with empty values.\n",
    "        self.array = [None] * length\n",
    "    \n",
    "    def hash(self, key):\n",
    "        \"\"\"Get the index of our array for a specific string key\"\"\"\n",
    "        length = len(self.array)\n",
    "        return hash(key) % length\n",
    "        \n",
    "    def add(self, key, value):\n",
    "        \"\"\"Add a value to our array by its key\"\"\"\n",
    "        index = self.hash(key)\n",
    "        if self.array[index] is not None:\n",
    "            # This index already contain some values.\n",
    "            # This means that this add MIGHT be an update\n",
    "            # to a key that already exist. Instead of just storing\n",
    "            # the value we have to first look if the key exist.\n",
    "            for kvp in self.array[index]:\n",
    "                # If key is found, then update\n",
    "                # its current value to the new value.\n",
    "                if kvp[0] == key:\n",
    "                    kvp[1] = value\n",
    "                    break\n",
    "            else:\n",
    "                # If no breaks was hit in the for loop, it \n",
    "                # means that no existing key was found, \n",
    "                # so we can simply just add it to the end.\n",
    "                self.array[index].append([key, value])\n",
    "        else:\n",
    "            # This index is empty. We should initiate \n",
    "            # a list and append our key-value-pair to it.\n",
    "            self.array[index] = []\n",
    "            self.array[index].append([key, value])\n",
    "        if self.is_full():\n",
    "            self.double()\n",
    "    \n",
    "    def get(self, key):\n",
    "        \"\"\"Get a value by key\"\"\"\n",
    "        index = self.hash(key)\n",
    "        if self.array[index] is None:\n",
    "            return \"No value can be found\"\n",
    "        else:\n",
    "            # Loop through all key-value-pairs\n",
    "            # and find if our key exist. If it does \n",
    "            # then return its value.\n",
    "            for kvp in self.array[index]:\n",
    "                if kvp[0] == key:\n",
    "                    return kvp[1]\n",
    "            \n",
    "            # If no return was done during loop,\n",
    "            # it means key didn't exist.\n",
    "            return \"No value can be found\"\n",
    "    def is_full(self):\n",
    "        \"\"\"Determines if the HashTable is too populated.\"\"\"\n",
    "        items = 0\n",
    "        # Count how many indexes in our array\n",
    "        # that is populated with values.\n",
    "        for item in self.array:\n",
    "            if item is not None:\n",
    "                items += 1\n",
    "        # Return bool value based on if the \n",
    "        # amount of populated items are more \n",
    "        # than half the length of the list.\n",
    "        return items > len(self.array)/2\n",
    "        \n",
    "    def double(self):\n",
    "        \"\"\"Double the list length and re-add values\"\"\"\n",
    "        ht2 = HashTable(length=len(self.array)*2)\n",
    "        for i in range(len(self.array)):\n",
    "            if self.array[i] is None:\n",
    "                continue\n",
    "            \n",
    "            # Since our list is now a different length,\n",
    "            # we need to re-add all of our values to \n",
    "            # the new list for its hash to return correct\n",
    "            # index.\n",
    "            for kvp in self.array[i]:\n",
    "                ht2.add(kvp[0], kvp[1])\n",
    "        \n",
    "        # Finally we just replace our current list with \n",
    "        # the new list of values that we created in ht2.\n",
    "        self.array = ht2.array\n",
    "    def print_items(self):\n",
    "        \"\"\"Print Method for the class\"\"\"\n",
    "        index = len(self.array)\n",
    "        for kvp in range(index):\n",
    "                return self.array[kvp]"
   ]
  },
  {
   "cell_type": "markdown",
   "id": "mediterranean-confirmation",
   "metadata": {
    "papermill": {
     "duration": 0.095938,
     "end_time": "2021-05-25T06:18:35.436673",
     "exception": false,
     "start_time": "2021-05-25T06:18:35.340735",
     "status": "completed"
    },
    "tags": []
   },
   "source": [
    "As we can see earlier, we have a total of 5 main neighbourhood, we will spread the dataset into smaller subsets of 5 main neighbourhood"
   ]
  },
  {
   "cell_type": "markdown",
   "id": "brutal-museum",
   "metadata": {
    "papermill": {
     "duration": 0.095284,
     "end_time": "2021-05-25T06:18:35.627143",
     "exception": false,
     "start_time": "2021-05-25T06:18:35.531859",
     "status": "completed"
    },
    "tags": []
   },
   "source": [
    "Then we put 5 smaller subsets into 5 hash tables"
   ]
  },
  {
   "cell_type": "code",
   "execution_count": 19,
   "id": "collective-saturday",
   "metadata": {
    "execution": {
     "iopub.execute_input": "2021-05-25T06:18:35.840010Z",
     "iopub.status.busy": "2021-05-25T06:18:35.839285Z",
     "iopub.status.idle": "2021-05-25T06:18:35.891347Z",
     "shell.execute_reply": "2021-05-25T06:18:35.892177Z",
     "shell.execute_reply.started": "2021-05-25T06:15:22.243235Z"
    },
    "papermill": {
     "duration": 0.167367,
     "end_time": "2021-05-25T06:18:35.892394",
     "exception": false,
     "start_time": "2021-05-25T06:18:35.725027",
     "status": "completed"
    },
    "tags": []
   },
   "outputs": [
    {
     "name": "stdout",
     "output_type": "stream",
     "text": [
      "['Bronx' 'Brooklyn' 'Manhattan' 'Queens' 'Staten Island']\n"
     ]
    }
   ],
   "source": [
    "print(np.unique(dataset.neighbourhood_group))"
   ]
  },
  {
   "cell_type": "markdown",
   "id": "authorized-fleece",
   "metadata": {
    "papermill": {
     "duration": 0.109457,
     "end_time": "2021-05-25T06:18:36.133454",
     "exception": false,
     "start_time": "2021-05-25T06:18:36.023997",
     "status": "completed"
    },
    "tags": []
   },
   "source": [
    "### Adding all data within neighbourhood group of Bronx to Hash Table: hashtableBronx with key of id and value of host name"
   ]
  },
  {
   "cell_type": "code",
   "execution_count": 20,
   "id": "elementary-seller",
   "metadata": {
    "execution": {
     "iopub.execute_input": "2021-05-25T06:18:36.346371Z",
     "iopub.status.busy": "2021-05-25T06:18:36.336108Z",
     "iopub.status.idle": "2021-05-25T06:18:36.939350Z",
     "shell.execute_reply": "2021-05-25T06:18:36.938758Z",
     "shell.execute_reply.started": "2021-05-25T06:15:23.909521Z"
    },
    "papermill": {
     "duration": 0.707832,
     "end_time": "2021-05-25T06:18:36.939504",
     "exception": false,
     "start_time": "2021-05-25T06:18:36.231672",
     "status": "completed"
    },
    "tags": []
   },
   "outputs": [],
   "source": [
    "datasetBronx = []\n",
    "for i in range (len(dataset.neighbourhood_group)):\n",
    "    if dataset.neighbourhood_group[i] == \"Bronx\":\n",
    "        datasetBronx.append(dataset.host_name[i])\n",
    "        \n"
   ]
  },
  {
   "cell_type": "code",
   "execution_count": 21,
   "id": "careful-temple",
   "metadata": {
    "execution": {
     "iopub.execute_input": "2021-05-25T06:18:37.171412Z",
     "iopub.status.busy": "2021-05-25T06:18:37.166414Z",
     "iopub.status.idle": "2021-05-25T06:18:37.733243Z",
     "shell.execute_reply": "2021-05-25T06:18:37.732579Z",
     "shell.execute_reply.started": "2021-05-25T06:15:25.680386Z"
    },
    "papermill": {
     "duration": 0.698899,
     "end_time": "2021-05-25T06:18:37.733378",
     "exception": false,
     "start_time": "2021-05-25T06:18:37.034479",
     "status": "completed"
    },
    "tags": []
   },
   "outputs": [],
   "source": [
    "datasetBronx_id = []\n",
    "for i in range (len(dataset.neighbourhood_group)):\n",
    "    if dataset.neighbourhood_group[i] == \"Bronx\":\n",
    "        datasetBronx_id.append(dataset.id[i])"
   ]
  },
  {
   "cell_type": "code",
   "execution_count": 22,
   "id": "owned-charm",
   "metadata": {
    "execution": {
     "iopub.execute_input": "2021-05-25T06:18:37.928800Z",
     "iopub.status.busy": "2021-05-25T06:18:37.928139Z",
     "iopub.status.idle": "2021-05-25T06:18:37.930025Z",
     "shell.execute_reply": "2021-05-25T06:18:37.930491Z",
     "shell.execute_reply.started": "2021-05-25T06:15:27.464733Z"
    },
    "papermill": {
     "duration": 0.102816,
     "end_time": "2021-05-25T06:18:37.930665",
     "exception": false,
     "start_time": "2021-05-25T06:18:37.827849",
     "status": "completed"
    },
    "tags": []
   },
   "outputs": [],
   "source": [
    "hashtableBronx = HashTable(len(datasetBronx))"
   ]
  },
  {
   "cell_type": "code",
   "execution_count": 23,
   "id": "given-broadcast",
   "metadata": {
    "execution": {
     "iopub.execute_input": "2021-05-25T06:18:38.127921Z",
     "iopub.status.busy": "2021-05-25T06:18:38.127323Z",
     "iopub.status.idle": "2021-05-25T06:18:38.245489Z",
     "shell.execute_reply": "2021-05-25T06:18:38.244939Z",
     "shell.execute_reply.started": "2021-05-25T06:15:28.677483Z"
    },
    "papermill": {
     "duration": 0.218867,
     "end_time": "2021-05-25T06:18:38.245632",
     "exception": false,
     "start_time": "2021-05-25T06:18:38.026765",
     "status": "completed"
    },
    "tags": []
   },
   "outputs": [],
   "source": [
    "\n",
    "for i in range(len(datasetBronx)):\n",
    "    hashtableBronx.add(datasetBronx_id[i],datasetBronx[i])"
   ]
  },
  {
   "cell_type": "markdown",
   "id": "medieval-guest",
   "metadata": {
    "papermill": {
     "duration": 0.099151,
     "end_time": "2021-05-25T06:18:38.442580",
     "exception": false,
     "start_time": "2021-05-25T06:18:38.343429",
     "status": "completed"
    },
    "tags": []
   },
   "source": [
    " ## Adding all data within neighbourhood group of Brooklyn to Hash Table: hashtableBrooklyn with key of id and value of host name"
   ]
  },
  {
   "cell_type": "code",
   "execution_count": 24,
   "id": "martial-junction",
   "metadata": {
    "execution": {
     "iopub.execute_input": "2021-05-25T06:18:38.666869Z",
     "iopub.status.busy": "2021-05-25T06:18:38.661793Z",
     "iopub.status.idle": "2021-05-25T06:18:40.361262Z",
     "shell.execute_reply": "2021-05-25T06:18:40.361751Z",
     "shell.execute_reply.started": "2021-05-25T06:15:31.935007Z"
    },
    "papermill": {
     "duration": 1.822183,
     "end_time": "2021-05-25T06:18:40.361919",
     "exception": false,
     "start_time": "2021-05-25T06:18:38.539736",
     "status": "completed"
    },
    "tags": []
   },
   "outputs": [
    {
     "name": "stdout",
     "output_type": "stream",
     "text": [
      "20104\n",
      "20104\n"
     ]
    }
   ],
   "source": [
    "datasetBrooklyn = []\n",
    "for i in range (len(dataset.neighbourhood_group)):\n",
    "    if dataset.neighbourhood_group[i] == \"Brooklyn\":\n",
    "        datasetBrooklyn.append(dataset.host_name[i])\n",
    "datasetBrooklyn_id = []\n",
    "for i in range (len(dataset.neighbourhood_group)):\n",
    "    if dataset.neighbourhood_group[i] == \"Brooklyn\":\n",
    "        datasetBrooklyn_id.append(dataset.id[i])\n",
    "print(len(datasetBrooklyn))\n",
    "print(len(datasetBrooklyn_id))"
   ]
  },
  {
   "cell_type": "code",
   "execution_count": 25,
   "id": "matched-question",
   "metadata": {
    "execution": {
     "iopub.execute_input": "2021-05-25T06:18:40.595521Z",
     "iopub.status.busy": "2021-05-25T06:18:40.590428Z",
     "iopub.status.idle": "2021-05-25T06:19:15.251040Z",
     "shell.execute_reply": "2021-05-25T06:19:15.250521Z",
     "shell.execute_reply.started": "2021-05-25T06:15:34.042815Z"
    },
    "papermill": {
     "duration": 34.791905,
     "end_time": "2021-05-25T06:19:15.251218",
     "exception": false,
     "start_time": "2021-05-25T06:18:40.459313",
     "status": "completed"
    },
    "tags": []
   },
   "outputs": [],
   "source": [
    "hashtableBrooklyn = HashTable(len(datasetBrooklyn))\n",
    "for i in range(len(datasetBrooklyn)):\n",
    "    hashtableBrooklyn.add(datasetBrooklyn_id[i],datasetBrooklyn[i])"
   ]
  },
  {
   "cell_type": "markdown",
   "id": "liable-civilian",
   "metadata": {
    "papermill": {
     "duration": 0.097079,
     "end_time": "2021-05-25T06:19:15.446792",
     "exception": false,
     "start_time": "2021-05-25T06:19:15.349713",
     "status": "completed"
    },
    "tags": []
   },
   "source": [
    " ## Adding all data within neighbourhood group of Manhattan to Hash Table: hashtableManhattan with key of id and value of host name"
   ]
  },
  {
   "cell_type": "code",
   "execution_count": 26,
   "id": "essential-magic",
   "metadata": {
    "execution": {
     "iopub.execute_input": "2021-05-25T06:19:15.726772Z",
     "iopub.status.busy": "2021-05-25T06:19:15.721775Z",
     "iopub.status.idle": "2021-05-25T06:19:17.456874Z",
     "shell.execute_reply": "2021-05-25T06:19:17.456155Z",
     "shell.execute_reply.started": "2021-05-25T06:16:08.942341Z"
    },
    "papermill": {
     "duration": 1.912728,
     "end_time": "2021-05-25T06:19:17.457057",
     "exception": false,
     "start_time": "2021-05-25T06:19:15.544329",
     "status": "completed"
    },
    "tags": []
   },
   "outputs": [
    {
     "name": "stdout",
     "output_type": "stream",
     "text": [
      "21661\n",
      "21661\n"
     ]
    }
   ],
   "source": [
    "datasetManhattan = []\n",
    "for i in range (len(dataset.neighbourhood_group)):\n",
    "    if dataset.neighbourhood_group[i] == \"Manhattan\":\n",
    "        datasetManhattan.append(dataset.host_name[i])\n",
    "datasetManhattan_id = []\n",
    "for i in range (len(dataset.neighbourhood_group)):\n",
    "    if dataset.neighbourhood_group[i] == \"Manhattan\":\n",
    "        datasetManhattan_id.append(dataset.id[i])\n",
    "print(len(datasetManhattan))\n",
    "print(len(datasetManhattan_id))"
   ]
  },
  {
   "cell_type": "code",
   "execution_count": 27,
   "id": "retired-leeds",
   "metadata": {
    "execution": {
     "iopub.execute_input": "2021-05-25T06:19:17.677055Z",
     "iopub.status.busy": "2021-05-25T06:19:17.666656Z",
     "iopub.status.idle": "2021-05-25T06:19:57.940510Z",
     "shell.execute_reply": "2021-05-25T06:19:57.939850Z",
     "shell.execute_reply.started": "2021-05-25T06:16:10.771219Z"
    },
    "papermill": {
     "duration": 40.384756,
     "end_time": "2021-05-25T06:19:57.940657",
     "exception": false,
     "start_time": "2021-05-25T06:19:17.555901",
     "status": "completed"
    },
    "tags": []
   },
   "outputs": [],
   "source": [
    "hashtableManhattan = HashTable(len(datasetManhattan))\n",
    "for i in range(len(datasetManhattan)):\n",
    "    hashtableManhattan.add(datasetManhattan_id[i],datasetManhattan[i] )"
   ]
  },
  {
   "cell_type": "markdown",
   "id": "listed-vegetation",
   "metadata": {
    "papermill": {
     "duration": 0.095852,
     "end_time": "2021-05-25T06:19:58.131694",
     "exception": false,
     "start_time": "2021-05-25T06:19:58.035842",
     "status": "completed"
    },
    "tags": []
   },
   "source": [
    " ## Adding all data within neighbourhood group of Queens to Hash Table: hashtableQueens with key of id and value of host name"
   ]
  },
  {
   "cell_type": "code",
   "execution_count": 28,
   "id": "suspected-silly",
   "metadata": {
    "execution": {
     "iopub.execute_input": "2021-05-25T06:19:58.385494Z",
     "iopub.status.busy": "2021-05-25T06:19:58.364620Z",
     "iopub.status.idle": "2021-05-25T06:19:59.657293Z",
     "shell.execute_reply": "2021-05-25T06:19:59.656624Z",
     "shell.execute_reply.started": "2021-05-25T06:16:51.804620Z"
    },
    "papermill": {
     "duration": 1.425832,
     "end_time": "2021-05-25T06:19:59.657428",
     "exception": false,
     "start_time": "2021-05-25T06:19:58.231596",
     "status": "completed"
    },
    "tags": []
   },
   "outputs": [
    {
     "name": "stdout",
     "output_type": "stream",
     "text": [
      "5666\n",
      "5666\n"
     ]
    }
   ],
   "source": [
    "datasetQueens = []\n",
    "for i in range (len(dataset.neighbourhood_group)):\n",
    "    if dataset.neighbourhood_group[i] == \"Queens\":\n",
    "        datasetQueens.append(dataset.host_name[i])\n",
    "datasetQueens_id = []\n",
    "for i in range (len(dataset.neighbourhood_group)):\n",
    "    if dataset.neighbourhood_group[i] == \"Queens\":\n",
    "        datasetQueens_id.append(dataset.id[i])\n",
    "print(len(datasetQueens))\n",
    "print(len(datasetQueens_id))"
   ]
  },
  {
   "cell_type": "code",
   "execution_count": 29,
   "id": "nasty-oregon",
   "metadata": {
    "execution": {
     "iopub.execute_input": "2021-05-25T06:19:59.890895Z",
     "iopub.status.busy": "2021-05-25T06:19:59.885839Z",
     "iopub.status.idle": "2021-05-25T06:20:02.491637Z",
     "shell.execute_reply": "2021-05-25T06:20:02.491126Z",
     "shell.execute_reply.started": "2021-05-25T06:16:53.229329Z"
    },
    "papermill": {
     "duration": 2.735997,
     "end_time": "2021-05-25T06:20:02.491782",
     "exception": false,
     "start_time": "2021-05-25T06:19:59.755785",
     "status": "completed"
    },
    "tags": []
   },
   "outputs": [],
   "source": [
    "hashtableQueens = HashTable(len(datasetQueens))\n",
    "for i in range(len(datasetQueens)):\n",
    "    hashtableQueens.add(datasetQueens_id[i],datasetQueens[i] )"
   ]
  },
  {
   "cell_type": "markdown",
   "id": "entertaining-sudan",
   "metadata": {
    "papermill": {
     "duration": 0.097113,
     "end_time": "2021-05-25T06:20:02.684053",
     "exception": false,
     "start_time": "2021-05-25T06:20:02.586940",
     "status": "completed"
    },
    "tags": []
   },
   "source": [
    "## Adding all data within neighbourhood group of Staten Island to Hash Table: hashtableStatenIsland with key of id and value of host name"
   ]
  },
  {
   "cell_type": "markdown",
   "id": "accessible-toilet",
   "metadata": {
    "papermill": {
     "duration": 0.09749,
     "end_time": "2021-05-25T06:20:02.879282",
     "exception": false,
     "start_time": "2021-05-25T06:20:02.781792",
     "status": "completed"
    },
    "tags": []
   },
   "source": []
  },
  {
   "cell_type": "code",
   "execution_count": 30,
   "id": "assumed-emphasis",
   "metadata": {
    "execution": {
     "iopub.execute_input": "2021-05-25T06:20:03.125541Z",
     "iopub.status.busy": "2021-05-25T06:20:03.104674Z",
     "iopub.status.idle": "2021-05-25T06:20:04.287540Z",
     "shell.execute_reply": "2021-05-25T06:20:04.286559Z",
     "shell.execute_reply.started": "2021-05-25T06:16:55.960750Z"
    },
    "papermill": {
     "duration": 1.310894,
     "end_time": "2021-05-25T06:20:04.287718",
     "exception": false,
     "start_time": "2021-05-25T06:20:02.976824",
     "status": "completed"
    },
    "tags": []
   },
   "outputs": [
    {
     "name": "stdout",
     "output_type": "stream",
     "text": [
      "373\n",
      "373\n"
     ]
    }
   ],
   "source": [
    "datasetStatenIslands = []\n",
    "for i in range (len(dataset.neighbourhood_group)):\n",
    "    if dataset.neighbourhood_group[i] == \"Staten Island\":\n",
    "        datasetStatenIslands.append(dataset.host_name[i])\n",
    "datasetStatenIslands_id = []\n",
    "for i in range (len(dataset.neighbourhood_group)):\n",
    "    if dataset.neighbourhood_group[i] == \"Staten Island\":\n",
    "        datasetStatenIslands_id.append(dataset.id[i])\n",
    "print(len(datasetStatenIslands))\n",
    "print(len(datasetStatenIslands_id))"
   ]
  },
  {
   "cell_type": "code",
   "execution_count": 31,
   "id": "bored-rachel",
   "metadata": {
    "execution": {
     "iopub.execute_input": "2021-05-25T06:20:04.483766Z",
     "iopub.status.busy": "2021-05-25T06:20:04.482789Z",
     "iopub.status.idle": "2021-05-25T06:20:04.531394Z",
     "shell.execute_reply": "2021-05-25T06:20:04.530843Z",
     "shell.execute_reply.started": "2021-05-25T06:16:57.247784Z"
    },
    "papermill": {
     "duration": 0.148258,
     "end_time": "2021-05-25T06:20:04.531538",
     "exception": false,
     "start_time": "2021-05-25T06:20:04.383280",
     "status": "completed"
    },
    "tags": []
   },
   "outputs": [],
   "source": [
    "hashtableStatenIsland = HashTable(len(datasetQueens))\n",
    "for i in range(len(datasetStatenIslands)):\n",
    "    hashtableStatenIsland.add(datasetStatenIslands_id[i],datasetStatenIslands[i] )"
   ]
  },
  {
   "cell_type": "markdown",
   "id": "correct-hypothetical",
   "metadata": {
    "papermill": {
     "duration": 0.097703,
     "end_time": "2021-05-25T06:20:04.723888",
     "exception": false,
     "start_time": "2021-05-25T06:20:04.626185",
     "status": "completed"
    },
    "tags": []
   },
   "source": [
    "# Area with most Airbnb houses"
   ]
  },
  {
   "cell_type": "code",
   "execution_count": 32,
   "id": "dated-chain",
   "metadata": {
    "execution": {
     "iopub.execute_input": "2021-05-25T06:20:04.919666Z",
     "iopub.status.busy": "2021-05-25T06:20:04.919005Z",
     "iopub.status.idle": "2021-05-25T06:20:04.922332Z",
     "shell.execute_reply": "2021-05-25T06:20:04.923019Z",
     "shell.execute_reply.started": "2021-05-25T06:16:57.300263Z"
    },
    "papermill": {
     "duration": 0.104952,
     "end_time": "2021-05-25T06:20:04.923268",
     "exception": false,
     "start_time": "2021-05-25T06:20:04.818316",
     "status": "completed"
    },
    "tags": []
   },
   "outputs": [
    {
     "name": "stdout",
     "output_type": "stream",
     "text": [
      "total number of airbnb houses in Bronx:  1091\n",
      "total number of airbnb houses in Brooklyn: 20104\n",
      "total number of airbnb houses in Manhattan: 21661\n",
      "total number of airbnb houses in Queens:  5666\n",
      "total number of airbnb houses in Staten Islands:  373\n"
     ]
    }
   ],
   "source": [
    "print(\"total number of airbnb houses in Bronx: \",len(datasetBronx))\n",
    "print(\"total number of airbnb houses in Brooklyn:\",len(datasetBrooklyn))\n",
    "print(\"total number of airbnb houses in Manhattan:\",len(datasetManhattan))\n",
    "print(\"total number of airbnb houses in Queens: \", len(datasetQueens))\n",
    "print(\"total number of airbnb houses in Staten Islands: \", len(datasetStatenIslands))\n",
    "\n"
   ]
  },
  {
   "cell_type": "code",
   "execution_count": 33,
   "id": "revolutionary-county",
   "metadata": {
    "execution": {
     "iopub.execute_input": "2021-05-25T06:20:05.123259Z",
     "iopub.status.busy": "2021-05-25T06:20:05.122596Z",
     "iopub.status.idle": "2021-05-25T06:20:05.251821Z",
     "shell.execute_reply": "2021-05-25T06:20:05.252322Z",
     "shell.execute_reply.started": "2021-05-25T06:16:57.309084Z"
    },
    "papermill": {
     "duration": 0.229438,
     "end_time": "2021-05-25T06:20:05.252491",
     "exception": false,
     "start_time": "2021-05-25T06:20:05.023053",
     "status": "completed"
    },
    "tags": []
   },
   "outputs": [
    {
     "data": {
      "image/png": "[encoded data removed]",
      "text/plain": [
       "<Figure size 432x288 with 1 Axes>"
      ]
     },
     "metadata": {},
     "output_type": "display_data"
    }
   ],
   "source": [
    "fig = plt.figure()\n",
    "ax = fig.add_axes([0,0,1,1])\n",
    "Area = ['Bronx', 'Brooklyn', 'Manhattan', 'Queens', 'Staten Islands']\n",
    "Houses = [1091,20104,21661,5666,373]\n",
    "ax.bar(Area,Houses)\n",
    "plt.show()"
   ]
  },
  {
   "cell_type": "markdown",
   "id": "smoking-disease",
   "metadata": {
    "papermill": {
     "duration": 0.098154,
     "end_time": "2021-05-25T06:20:05.450428",
     "exception": false,
     "start_time": "2021-05-25T06:20:05.352274",
     "status": "completed"
    },
    "tags": []
   },
   "source": [
    "We can easily see that Manhattan has the most airbnb houses of 21661"
   ]
  },
  {
   "cell_type": "code",
   "execution_count": 34,
   "id": "funded-spanking",
   "metadata": {
    "execution": {
     "iopub.execute_input": "2021-05-25T06:20:05.653475Z",
     "iopub.status.busy": "2021-05-25T06:20:05.652791Z",
     "iopub.status.idle": "2021-05-25T06:20:05.837588Z",
     "shell.execute_reply": "2021-05-25T06:20:05.836773Z",
     "shell.execute_reply.started": "2021-05-25T06:16:57.452379Z"
    },
    "papermill": {
     "duration": 0.289522,
     "end_time": "2021-05-25T06:20:05.837722",
     "exception": false,
     "start_time": "2021-05-25T06:20:05.548200",
     "status": "completed"
    },
    "tags": []
   },
   "outputs": [
    {
     "data": {
      "text/plain": [
       "<AxesSubplot:ylabel='neighbourhood_group'>"
      ]
     },
     "execution_count": 34,
     "metadata": {},
     "output_type": "execute_result"
    },
    {
     "data": {
      "image/png": "[encoded data removed]",
      "text/plain": [
       "<Figure size 1000x1000 with 1 Axes>"
      ]
     },
     "metadata": {},
     "output_type": "display_data"
    }
   ],
   "source": [
    "fig = plt.figure(figsize=(10,10), dpi=100)\n",
    "dataset['neighbourhood_group'].value_counts().plot(kind='pie',  autopct='%1.0f%%', startangle=360, fontsize=16)"
   ]
  },
  {
   "cell_type": "markdown",
   "id": "careful-diesel",
   "metadata": {
    "papermill": {
     "duration": 0.100971,
     "end_time": "2021-05-25T06:20:06.039283",
     "exception": false,
     "start_time": "2021-05-25T06:20:05.938312",
     "status": "completed"
    },
    "tags": []
   },
   "source": [
    "Manhattan has the total houses of 44%, largest compare to Bronx, Queens, Brooklyn and Staten Island"
   ]
  },
  {
   "cell_type": "markdown",
   "id": "approximate-crash",
   "metadata": {
    "papermill": {
     "duration": 0.098354,
     "end_time": "2021-05-25T06:20:06.236320",
     "exception": false,
     "start_time": "2021-05-25T06:20:06.137966",
     "status": "completed"
    },
    "tags": []
   },
   "source": [
    "# Use Binary Search Tree to sort, find and get value of price, minimum_nights, number_of_reviews, reviews_per_month and availability_365, calculated_host_listings_count"
   ]
  },
  {
   "cell_type": "markdown",
   "id": "vulnerable-reproduction",
   "metadata": {
    "papermill": {
     "duration": 0.099126,
     "end_time": "2021-05-25T06:20:06.435522",
     "exception": false,
     "start_time": "2021-05-25T06:20:06.336396",
     "status": "completed"
    },
    "tags": []
   },
   "source": [
    "First, we implement the datas into the Binary Search Tree Data Structure. Binary Search Tree is defined as a tree data structure with nodes store a key greater than all their left child nodes and less than all of their right child nodes. \n",
    "\n",
    "Binary search tree algorith provide an average Big-O complexity of O(log(n)) for retrieval, insertion, update, and delete operations. Log(n) is much faster than the linear O(n) time required to find items in an unsorted array. \n",
    "\n",
    "Since BST is super fast in terms of data retrieval with the time complexity of O(log(n)), It is very useful for the finding and the sorting of ours dataset.\n",
    "\n"
   ]
  },
  {
   "cell_type": "markdown",
   "id": "sunset-relaxation",
   "metadata": {
    "papermill": {
     "duration": 0.097043,
     "end_time": "2021-05-25T06:20:06.630106",
     "exception": false,
     "start_time": "2021-05-25T06:20:06.533063",
     "status": "completed"
    },
    "tags": []
   },
   "source": [
    "***Note:  For the implementation of the Binary Search Tree class, we must always make sure that the tree is balanced. If the tree becomes unbalanced all the fast O(log(n)) operations will quickly degrade to O(n).**"
   ]
  },
  {
   "cell_type": "code",
   "execution_count": 35,
   "id": "banner-performer",
   "metadata": {
    "execution": {
     "iopub.execute_input": "2021-05-25T06:20:06.846414Z",
     "iopub.status.busy": "2021-05-25T06:20:06.840750Z",
     "iopub.status.idle": "2021-05-25T06:20:06.848237Z",
     "shell.execute_reply": "2021-05-25T06:20:06.848652Z",
     "shell.execute_reply.started": "2021-05-25T06:16:57.652506Z"
    },
    "papermill": {
     "duration": 0.12071,
     "end_time": "2021-05-25T06:20:06.848816",
     "exception": false,
     "start_time": "2021-05-25T06:20:06.728106",
     "status": "completed"
    },
    "tags": []
   },
   "outputs": [],
   "source": [
    "# Binary Search Tree class implementation\n",
    "class BinarySearchTree:\n",
    "    \n",
    "    def __init__(self, val=None):\n",
    "        \"\"\"Initiate The tree with __init__\"\"\"\n",
    "        self.left = None\n",
    "        self.right = None\n",
    "        self.val = val\n",
    "    \n",
    "    def insert(self, val):\n",
    "        \"\"\"Method for data insertion \"\"\"\n",
    "        if not self.val:\n",
    "            self.val = val\n",
    "            return\n",
    "\n",
    "        if self.val == val:\n",
    "            return\n",
    "    # Make sure that the data is inserted correctly for the tree to be balanced\n",
    "        if val < self.val:\n",
    "            if self.left:\n",
    "                self.left.insert(val)\n",
    "                return\n",
    "            self.left = BinarySearchTree(val)\n",
    "            return\n",
    "\n",
    "        if self.right:\n",
    "            self.right.insert(val)\n",
    "            return\n",
    "        self.right = BinarySearchTree(val)\n",
    "\n",
    "    def get_min(self):\n",
    "        \"\"\"Get minimum value stored in the tree\"\"\"\n",
    "        current = self\n",
    "        while current.left is not None:\n",
    "            current = current.left\n",
    "        return current.val\n",
    "\n",
    "    def get_max(self):\n",
    "        \"\"\"Get minimum value stored in the tree\"\"\"\n",
    "        current = self\n",
    "        while current.right is not None:\n",
    "            current = current.right\n",
    "        return current.val\n",
    "\n",
    "    def delete(self, val):\n",
    "        \"\"\"Delete data from the Tree\"\"\"\n",
    "        if self == None:\n",
    "            return self\n",
    "        if val < self.val:\n",
    "            if self.left:\n",
    "                self.left = self.left.delete(val)\n",
    "            return self\n",
    "        if val > self.val:\n",
    "            if self.right:\n",
    "                self.right = self.right.delete(val)\n",
    "            return self\n",
    "        if self.right == None:\n",
    "            return self.left\n",
    "        if self.left == None:\n",
    "            return self.right\n",
    "        min_larger_node = self.right\n",
    "        while min_larger_node.left:\n",
    "            min_larger_node = min_larger_node.left\n",
    "        self.val = min_larger_node.val\n",
    "        self.right = self.right.delete(min_larger_node.val)\n",
    "        return self\n",
    "\n",
    "    def exists(self, val):\n",
    "        \"\"\"Check wether a specific data is already existed in a Tree. This function returns a Boolean of True or False\"\"\"\n",
    "        if val == self.val:\n",
    "            return True\n",
    "\n",
    "        if val < self.val:\n",
    "            if self.left == None:\n",
    "                return False\n",
    "            return self.left.exists(val)\n",
    "\n",
    "        if self.right == None:\n",
    "            return False\n",
    "        return self.right.exists(val)\n",
    "\n",
    "    def preorder(self, vals):\n",
    "        \"\"\"Print out the tree with preorder traversing\"\"\"\n",
    "        if self.val is not None:\n",
    "            vals.append(self.val)\n",
    "        if self.left is not None:\n",
    "            self.left.preorder(vals)\n",
    "        if self.right is not None:\n",
    "            self.right.preorder(vals)\n",
    "        return vals\n",
    "\n",
    "    def inorder(self, vals):\n",
    "        \"\"\"Print out the tree with inorder traversing\"\"\"\n",
    "        if self.left is not None:\n",
    "            self.left.inorder(vals)\n",
    "        if self.val is not None:\n",
    "            vals.append(self.val)\n",
    "        if self.right is not None:\n",
    "            self.right.inorder(vals)\n",
    "        return vals\n",
    "\n",
    "    def postorder(self, vals):\n",
    "        \"\"\"Print out the tree with postorder traversing\"\"\"\n",
    "        if self.left is not None:\n",
    "            self.left.postorder(vals)\n",
    "        if self.right is not None:\n",
    "            self.right.postorder(vals)\n",
    "        if self.val is not None:\n",
    "            vals.append(self.val)\n",
    "        return vals"
   ]
  },
  {
   "cell_type": "markdown",
   "id": "continued-fundamentals",
   "metadata": {
    "papermill": {
     "duration": 0.099656,
     "end_time": "2021-05-25T06:20:07.047818",
     "exception": false,
     "start_time": "2021-05-25T06:20:06.948162",
     "status": "completed"
    },
    "tags": []
   },
   "source": [
    "## Price research"
   ]
  },
  {
   "cell_type": "code",
   "execution_count": 36,
   "id": "turned-document",
   "metadata": {
    "execution": {
     "iopub.execute_input": "2021-05-25T06:20:07.252298Z",
     "iopub.status.busy": "2021-05-25T06:20:07.251656Z",
     "iopub.status.idle": "2021-05-25T06:20:07.256631Z",
     "shell.execute_reply": "2021-05-25T06:20:07.257360Z",
     "shell.execute_reply.started": "2021-05-25T06:16:57.837432Z"
    },
    "papermill": {
     "duration": 0.10903,
     "end_time": "2021-05-25T06:20:07.257555",
     "exception": false,
     "start_time": "2021-05-25T06:20:07.148525",
     "status": "completed"
    },
    "tags": []
   },
   "outputs": [
    {
     "name": "stdout",
     "output_type": "stream",
     "text": [
      "48895\n"
     ]
    }
   ],
   "source": [
    "print(len(dataset.price))"
   ]
  },
  {
   "cell_type": "code",
   "execution_count": 37,
   "id": "timely-building",
   "metadata": {
    "execution": {
     "iopub.execute_input": "2021-05-25T06:20:07.461222Z",
     "iopub.status.busy": "2021-05-25T06:20:07.460550Z",
     "iopub.status.idle": "2021-05-25T06:20:07.467220Z",
     "shell.execute_reply": "2021-05-25T06:20:07.466179Z",
     "shell.execute_reply.started": "2021-05-25T06:16:57.860526Z"
    },
    "papermill": {
     "duration": 0.109003,
     "end_time": "2021-05-25T06:20:07.467392",
     "exception": false,
     "start_time": "2021-05-25T06:20:07.358389",
     "status": "completed"
    },
    "tags": []
   },
   "outputs": [
    {
     "name": "stdout",
     "output_type": "stream",
     "text": [
      "0        149\n",
      "1        225\n",
      "2        150\n",
      "3         89\n",
      "4         80\n",
      "        ... \n",
      "48890     70\n",
      "48891     40\n",
      "48892    115\n",
      "48893     55\n",
      "48894     90\n",
      "Name: price, Length: 48895, dtype: int64\n"
     ]
    }
   ],
   "source": [
    "print(dataset.price)"
   ]
  },
  {
   "cell_type": "code",
   "execution_count": 38,
   "id": "stable-steps",
   "metadata": {
    "execution": {
     "iopub.execute_input": "2021-05-25T06:20:07.719976Z",
     "iopub.status.busy": "2021-05-25T06:20:07.683471Z",
     "iopub.status.idle": "2021-05-25T06:20:08.458837Z",
     "shell.execute_reply": "2021-05-25T06:20:08.458273Z",
     "shell.execute_reply.started": "2021-05-25T06:16:57.876231Z"
    },
    "papermill": {
     "duration": 0.890503,
     "end_time": "2021-05-25T06:20:08.458984",
     "exception": false,
     "start_time": "2021-05-25T06:20:07.568481",
     "status": "completed"
    },
    "tags": []
   },
   "outputs": [],
   "source": [
    "# initiate the Binary Search Tree into bst_price\n",
    "bst_price = BinarySearchTree()\n",
    "for i in range(len(dataset.price)):\n",
    "    bst_price.insert(dataset.price[i])\n",
    "    "
   ]
  },
  {
   "cell_type": "code",
   "execution_count": 39,
   "id": "renewable-discussion",
   "metadata": {
    "execution": {
     "iopub.execute_input": "2021-05-25T06:20:08.685447Z",
     "iopub.status.busy": "2021-05-25T06:20:08.684486Z",
     "iopub.status.idle": "2021-05-25T06:20:08.688316Z",
     "shell.execute_reply": "2021-05-25T06:20:08.688814Z",
     "shell.execute_reply.started": "2021-05-25T06:16:58.695675Z"
    },
    "papermill": {
     "duration": 0.126037,
     "end_time": "2021-05-25T06:20:08.688976",
     "exception": false,
     "start_time": "2021-05-25T06:20:08.562939",
     "status": "completed"
    },
    "tags": []
   },
   "outputs": [
    {
     "data": {
      "text/plain": [
       "[0,\n",
       " 10,\n",
       " 11,\n",
       " 12,\n",
       " 13,\n",
       " 15,\n",
       " 16,\n",
       " 18,\n",
       " 19,\n",
       " 20,\n",
       " 21,\n",
       " 22,\n",
       " 23,\n",
       " 24,\n",
       " 25,\n",
       " 26,\n",
       " 27,\n",
       " 28,\n",
       " 29,\n",
       " 30,\n",
       " 31,\n",
       " 32,\n",
       " 33,\n",
       " 34,\n",
       " 35,\n",
       " 36,\n",
       " 37,\n",
       " 38,\n",
       " 39,\n",
       " 40,\n",
       " 41,\n",
       " 42,\n",
       " 43,\n",
       " 44,\n",
       " 45,\n",
       " 46,\n",
       " 47,\n",
       " 48,\n",
       " 49,\n",
       " 50,\n",
       " 51,\n",
       " 52,\n",
       " 53,\n",
       " 54,\n",
       " 55,\n",
       " 56,\n",
       " 57,\n",
       " 58,\n",
       " 59,\n",
       " 60,\n",
       " 61,\n",
       " 62,\n",
       " 63,\n",
       " 64,\n",
       " 65,\n",
       " 66,\n",
       " 67,\n",
       " 68,\n",
       " 69,\n",
       " 70,\n",
       " 71,\n",
       " 72,\n",
       " 73,\n",
       " 74,\n",
       " 75,\n",
       " 76,\n",
       " 77,\n",
       " 78,\n",
       " 79,\n",
       " 80,\n",
       " 81,\n",
       " 82,\n",
       " 83,\n",
       " 84,\n",
       " 85,\n",
       " 86,\n",
       " 87,\n",
       " 88,\n",
       " 89,\n",
       " 90,\n",
       " 91,\n",
       " 92,\n",
       " 93,\n",
       " 94,\n",
       " 95,\n",
       " 96,\n",
       " 97,\n",
       " 98,\n",
       " 99,\n",
       " 100,\n",
       " 101,\n",
       " 102,\n",
       " 103,\n",
       " 104,\n",
       " 105,\n",
       " 106,\n",
       " 107,\n",
       " 108,\n",
       " 109,\n",
       " 110,\n",
       " 111,\n",
       " 112,\n",
       " 113,\n",
       " 114,\n",
       " 115,\n",
       " 116,\n",
       " 117,\n",
       " 118,\n",
       " 119,\n",
       " 120,\n",
       " 121,\n",
       " 122,\n",
       " 123,\n",
       " 124,\n",
       " 125,\n",
       " 126,\n",
       " 127,\n",
       " 128,\n",
       " 129,\n",
       " 130,\n",
       " 131,\n",
       " 132,\n",
       " 133,\n",
       " 134,\n",
       " 135,\n",
       " 136,\n",
       " 137,\n",
       " 138,\n",
       " 139,\n",
       " 140,\n",
       " 141,\n",
       " 142,\n",
       " 143,\n",
       " 144,\n",
       " 145,\n",
       " 146,\n",
       " 147,\n",
       " 148,\n",
       " 149,\n",
       " 150,\n",
       " 151,\n",
       " 152,\n",
       " 153,\n",
       " 154,\n",
       " 155,\n",
       " 156,\n",
       " 157,\n",
       " 158,\n",
       " 159,\n",
       " 160,\n",
       " 161,\n",
       " 162,\n",
       " 163,\n",
       " 164,\n",
       " 165,\n",
       " 166,\n",
       " 167,\n",
       " 168,\n",
       " 169,\n",
       " 170,\n",
       " 171,\n",
       " 172,\n",
       " 173,\n",
       " 174,\n",
       " 175,\n",
       " 176,\n",
       " 177,\n",
       " 178,\n",
       " 179,\n",
       " 180,\n",
       " 181,\n",
       " 182,\n",
       " 183,\n",
       " 184,\n",
       " 185,\n",
       " 186,\n",
       " 187,\n",
       " 188,\n",
       " 189,\n",
       " 190,\n",
       " 191,\n",
       " 192,\n",
       " 193,\n",
       " 194,\n",
       " 195,\n",
       " 196,\n",
       " 197,\n",
       " 198,\n",
       " 199,\n",
       " 200,\n",
       " 201,\n",
       " 202,\n",
       " 203,\n",
       " 204,\n",
       " 205,\n",
       " 206,\n",
       " 207,\n",
       " 208,\n",
       " 209,\n",
       " 210,\n",
       " 211,\n",
       " 212,\n",
       " 213,\n",
       " 214,\n",
       " 215,\n",
       " 216,\n",
       " 217,\n",
       " 218,\n",
       " 219,\n",
       " 220,\n",
       " 221,\n",
       " 222,\n",
       " 223,\n",
       " 224,\n",
       " 225,\n",
       " 226,\n",
       " 227,\n",
       " 228,\n",
       " 229,\n",
       " 230,\n",
       " 231,\n",
       " 232,\n",
       " 233,\n",
       " 234,\n",
       " 235,\n",
       " 236,\n",
       " 237,\n",
       " 238,\n",
       " 239,\n",
       " 240,\n",
       " 241,\n",
       " 242,\n",
       " 243,\n",
       " 244,\n",
       " 245,\n",
       " 246,\n",
       " 247,\n",
       " 248,\n",
       " 249,\n",
       " 250,\n",
       " 251,\n",
       " 252,\n",
       " 253,\n",
       " 254,\n",
       " 255,\n",
       " 256,\n",
       " 257,\n",
       " 258,\n",
       " 259,\n",
       " 260,\n",
       " 261,\n",
       " 262,\n",
       " 263,\n",
       " 264,\n",
       " 265,\n",
       " 266,\n",
       " 267,\n",
       " 268,\n",
       " 269,\n",
       " 270,\n",
       " 271,\n",
       " 272,\n",
       " 273,\n",
       " 274,\n",
       " 275,\n",
       " 276,\n",
       " 277,\n",
       " 278,\n",
       " 279,\n",
       " 280,\n",
       " 281,\n",
       " 282,\n",
       " 283,\n",
       " 284,\n",
       " 285,\n",
       " 287,\n",
       " 288,\n",
       " 289,\n",
       " 290,\n",
       " 291,\n",
       " 292,\n",
       " 293,\n",
       " 294,\n",
       " 295,\n",
       " 296,\n",
       " 297,\n",
       " 298,\n",
       " 299,\n",
       " 300,\n",
       " 301,\n",
       " 302,\n",
       " 303,\n",
       " 304,\n",
       " 305,\n",
       " 306,\n",
       " 307,\n",
       " 308,\n",
       " 309,\n",
       " 310,\n",
       " 311,\n",
       " 312,\n",
       " 313,\n",
       " 314,\n",
       " 315,\n",
       " 316,\n",
       " 317,\n",
       " 318,\n",
       " 319,\n",
       " 320,\n",
       " 321,\n",
       " 322,\n",
       " 323,\n",
       " 324,\n",
       " 325,\n",
       " 327,\n",
       " 328,\n",
       " 329,\n",
       " 330,\n",
       " 331,\n",
       " 332,\n",
       " 333,\n",
       " 334,\n",
       " 335,\n",
       " 336,\n",
       " 337,\n",
       " 338,\n",
       " 339,\n",
       " 340,\n",
       " 341,\n",
       " 342,\n",
       " 343,\n",
       " 344,\n",
       " 345,\n",
       " 346,\n",
       " 347,\n",
       " 348,\n",
       " 349,\n",
       " 350,\n",
       " 352,\n",
       " 353,\n",
       " 355,\n",
       " 356,\n",
       " 358,\n",
       " 359,\n",
       " 360,\n",
       " 361,\n",
       " 362,\n",
       " 365,\n",
       " 367,\n",
       " 369,\n",
       " 370,\n",
       " 372,\n",
       " 373,\n",
       " 374,\n",
       " 375,\n",
       " 376,\n",
       " 377,\n",
       " 378,\n",
       " 379,\n",
       " 380,\n",
       " 381,\n",
       " 382,\n",
       " 383,\n",
       " 385,\n",
       " 386,\n",
       " 387,\n",
       " 388,\n",
       " 389,\n",
       " 390,\n",
       " 392,\n",
       " 393,\n",
       " 394,\n",
       " 395,\n",
       " 396,\n",
       " 397,\n",
       " 398,\n",
       " 399,\n",
       " 400,\n",
       " 402,\n",
       " 403,\n",
       " 404,\n",
       " 407,\n",
       " 408,\n",
       " 409,\n",
       " 410,\n",
       " 412,\n",
       " 414,\n",
       " 415,\n",
       " 416,\n",
       " 417,\n",
       " 418,\n",
       " 419,\n",
       " 420,\n",
       " 421,\n",
       " 422,\n",
       " 423,\n",
       " 424,\n",
       " 425,\n",
       " 426,\n",
       " 428,\n",
       " 429,\n",
       " 430,\n",
       " 431,\n",
       " 432,\n",
       " 433,\n",
       " 434,\n",
       " 435,\n",
       " 436,\n",
       " 438,\n",
       " 439,\n",
       " 440,\n",
       " 442,\n",
       " 443,\n",
       " 444,\n",
       " 445,\n",
       " 446,\n",
       " 447,\n",
       " 449,\n",
       " 450,\n",
       " 451,\n",
       " 452,\n",
       " 453,\n",
       " 454,\n",
       " 455,\n",
       " 459,\n",
       " 460,\n",
       " 462,\n",
       " 463,\n",
       " 465,\n",
       " 466,\n",
       " 468,\n",
       " 469,\n",
       " 470,\n",
       " 471,\n",
       " 472,\n",
       " 474,\n",
       " 475,\n",
       " 477,\n",
       " 478,\n",
       " 479,\n",
       " 480,\n",
       " 481,\n",
       " 483,\n",
       " 484,\n",
       " 485,\n",
       " 487,\n",
       " 488,\n",
       " 489,\n",
       " 490,\n",
       " 495,\n",
       " 496,\n",
       " 497,\n",
       " 498,\n",
       " 499,\n",
       " 500,\n",
       " 503,\n",
       " 505,\n",
       " 506,\n",
       " 509,\n",
       " 510,\n",
       " 515,\n",
       " 519,\n",
       " 520,\n",
       " 524,\n",
       " 525,\n",
       " 530,\n",
       " 531,\n",
       " 534,\n",
       " 539,\n",
       " 540,\n",
       " 545,\n",
       " 549,\n",
       " 550,\n",
       " 555,\n",
       " 559,\n",
       " 560,\n",
       " 561,\n",
       " 573,\n",
       " 575,\n",
       " 577,\n",
       " 578,\n",
       " 580,\n",
       " 583,\n",
       " 584,\n",
       " 585,\n",
       " 587,\n",
       " 589,\n",
       " 590,\n",
       " 595,\n",
       " 599,\n",
       " 600,\n",
       " 612,\n",
       " 615,\n",
       " 616,\n",
       " 619,\n",
       " 620,\n",
       " 625,\n",
       " 639,\n",
       " 640,\n",
       " 643,\n",
       " 647,\n",
       " 649,\n",
       " 650,\n",
       " 655,\n",
       " 659,\n",
       " 670,\n",
       " 672,\n",
       " 675,\n",
       " 680,\n",
       " 688,\n",
       " 689,\n",
       " 690,\n",
       " 692,\n",
       " 695,\n",
       " 699,\n",
       " 700,\n",
       " 714,\n",
       " 718,\n",
       " 720,\n",
       " 725,\n",
       " 737,\n",
       " 745,\n",
       " 748,\n",
       " 749,\n",
       " 750,\n",
       " 760,\n",
       " 766,\n",
       " 780,\n",
       " 785,\n",
       " 789,\n",
       " 790,\n",
       " 794,\n",
       " 795,\n",
       " 799,\n",
       " 800,\n",
       " 805,\n",
       " 814,\n",
       " 820,\n",
       " 822,\n",
       " 825,\n",
       " 830,\n",
       " 840,\n",
       " 843,\n",
       " 848,\n",
       " 850,\n",
       " 860,\n",
       " 875,\n",
       " 888,\n",
       " 890,\n",
       " 894,\n",
       " 895,\n",
       " 898,\n",
       " 899,\n",
       " 900,\n",
       " 913,\n",
       " 920,\n",
       " 930,\n",
       " 935,\n",
       " 945,\n",
       " 949,\n",
       " 950,\n",
       " 956,\n",
       " 974,\n",
       " 975,\n",
       " 980,\n",
       " 985,\n",
       " 990,\n",
       " 995,\n",
       " 999,\n",
       " 1000,\n",
       " 1002,\n",
       " 1020,\n",
       " 1046,\n",
       " 1050,\n",
       " 1066,\n",
       " 1067,\n",
       " 1075,\n",
       " 1080,\n",
       " 1095,\n",
       " 1099,\n",
       " 1100,\n",
       " 1115,\n",
       " 1145,\n",
       " 1150,\n",
       " 1170,\n",
       " 1177,\n",
       " 1195,\n",
       " 1200,\n",
       " 1250,\n",
       " 1295,\n",
       " 1299,\n",
       " 1300,\n",
       " 1306,\n",
       " 1308,\n",
       " 1315,\n",
       " 1333,\n",
       " 1350,\n",
       " 1369,\n",
       " 1395,\n",
       " 1400,\n",
       " 1450,\n",
       " 1475,\n",
       " 1485,\n",
       " 1494,\n",
       " 1495,\n",
       " 1497,\n",
       " 1500,\n",
       " 1550,\n",
       " 1599,\n",
       " 1600,\n",
       " 1680,\n",
       " 1700,\n",
       " 1731,\n",
       " 1749,\n",
       " 1750,\n",
       " 1763,\n",
       " 1795,\n",
       " 1799,\n",
       " 1800,\n",
       " 1880,\n",
       " 1899,\n",
       " 1900,\n",
       " 1978,\n",
       " 1999,\n",
       " 2000,\n",
       " 2010,\n",
       " 2100,\n",
       " 2103,\n",
       " 2200,\n",
       " 2250,\n",
       " 2300,\n",
       " 2350,\n",
       " 2400,\n",
       " 2500,\n",
       " 2545,\n",
       " 2590,\n",
       " 2600,\n",
       " 2626,\n",
       " 2695,\n",
       " 2750,\n",
       " 2800,\n",
       " 2850,\n",
       " 2900,\n",
       " 2990,\n",
       " 2995,\n",
       " 2999,\n",
       " 3000,\n",
       " 3200,\n",
       " 3210,\n",
       " 3512,\n",
       " 3518,\n",
       " 3600,\n",
       " 3613,\n",
       " 3750,\n",
       " 3800,\n",
       " 3900,\n",
       " 4000,\n",
       " 4100,\n",
       " 4160,\n",
       " 4200,\n",
       " 4500,\n",
       " 5000,\n",
       " 5100,\n",
       " 5250,\n",
       " 6000,\n",
       " 6419,\n",
       " 6500,\n",
       " 6800,\n",
       " 7500,\n",
       " 7703,\n",
       " 8000,\n",
       " 8500,\n",
       " 9999,\n",
       " 10000]"
      ]
     },
     "execution_count": 39,
     "metadata": {},
     "output_type": "execute_result"
    }
   ],
   "source": [
    "# Traver the tree in preorder\n",
    "bst_price.inorder([])"
   ]
  },
  {
   "cell_type": "markdown",
   "id": "upset-jonathan",
   "metadata": {
    "papermill": {
     "duration": 0.105824,
     "end_time": "2021-05-25T06:20:08.897836",
     "exception": false,
     "start_time": "2021-05-25T06:20:08.792012",
     "status": "completed"
    },
    "tags": []
   },
   "source": [
    "The Inorder traverse of the Binary Search Tree gives us an array of price range price from lowest to highest\n",
    "In order to analyse the time complexity of a tree traversal you have to think in the terms of number of nodes visited. If a tree has n nodes, then each node is visited only once in inorder traversal and hence the complexity is O(n)."
   ]
  },
  {
   "cell_type": "code",
   "execution_count": 40,
   "id": "respected-arthritis",
   "metadata": {
    "execution": {
     "iopub.execute_input": "2021-05-25T06:20:09.106036Z",
     "iopub.status.busy": "2021-05-25T06:20:09.105084Z",
     "iopub.status.idle": "2021-05-25T06:20:09.110182Z",
     "shell.execute_reply": "2021-05-25T06:20:09.110661Z",
     "shell.execute_reply.started": "2021-05-25T06:16:58.720578Z"
    },
    "papermill": {
     "duration": 0.110462,
     "end_time": "2021-05-25T06:20:09.110816",
     "exception": false,
     "start_time": "2021-05-25T06:20:09.000354",
     "status": "completed"
    },
    "tags": []
   },
   "outputs": [
    {
     "data": {
      "text/plain": [
       "10000"
      ]
     },
     "execution_count": 40,
     "metadata": {},
     "output_type": "execute_result"
    }
   ],
   "source": [
    "# Get the maximum price\n",
    "bst_price.get_max()"
   ]
  },
  {
   "cell_type": "code",
   "execution_count": 41,
   "id": "handy-broadway",
   "metadata": {
    "execution": {
     "iopub.execute_input": "2021-05-25T06:20:09.343121Z",
     "iopub.status.busy": "2021-05-25T06:20:09.342183Z",
     "iopub.status.idle": "2021-05-25T06:20:10.047636Z",
     "shell.execute_reply": "2021-05-25T06:20:10.046940Z",
     "shell.execute_reply.started": "2021-05-25T06:16:58.728788Z"
    },
    "papermill": {
     "duration": 0.832706,
     "end_time": "2021-05-25T06:20:10.047758",
     "exception": false,
     "start_time": "2021-05-25T06:20:09.215052",
     "status": "completed"
    },
    "tags": []
   },
   "outputs": [
    {
     "name": "stdout",
     "output_type": "stream",
     "text": [
      "7003697\n",
      "13894339\n",
      "22436899\n"
     ]
    }
   ],
   "source": [
    "# get the id of the max price\n",
    "for i in range(len(dataset.price)):\n",
    "    if dataset.price[i] == bst_price.get_max():\n",
    "        print(dataset.id[i])\n",
    "       "
   ]
  },
  {
   "cell_type": "markdown",
   "id": "flexible-campbell",
   "metadata": {
    "papermill": {
     "duration": 0.104595,
     "end_time": "2021-05-25T06:20:10.258865",
     "exception": false,
     "start_time": "2021-05-25T06:20:10.154270",
     "status": "completed"
    },
    "tags": []
   },
   "source": [
    "We got 3 ids of 3 Airbnb house with the largest price value. Now we will pass these ids into our 5 hash tables to search for the host names"
   ]
  },
  {
   "cell_type": "markdown",
   "id": "adjusted-mandate",
   "metadata": {
    "papermill": {
     "duration": 0.104415,
     "end_time": "2021-05-25T06:20:10.467311",
     "exception": false,
     "start_time": "2021-05-25T06:20:10.362896",
     "status": "completed"
    },
    "tags": []
   },
   "source": [
    "### 7003697"
   ]
  },
  {
   "cell_type": "code",
   "execution_count": 42,
   "id": "supreme-compromise",
   "metadata": {
    "execution": {
     "iopub.execute_input": "2021-05-25T06:20:10.681376Z",
     "iopub.status.busy": "2021-05-25T06:20:10.680687Z",
     "iopub.status.idle": "2021-05-25T06:20:10.683672Z",
     "shell.execute_reply": "2021-05-25T06:20:10.684204Z",
     "shell.execute_reply.started": "2021-05-25T06:16:59.486494Z"
    },
    "papermill": {
     "duration": 0.112463,
     "end_time": "2021-05-25T06:20:10.684386",
     "exception": false,
     "start_time": "2021-05-25T06:20:10.571923",
     "status": "completed"
    },
    "tags": []
   },
   "outputs": [
    {
     "data": {
      "text/plain": [
       "'No value can be found'"
      ]
     },
     "execution_count": 42,
     "metadata": {},
     "output_type": "execute_result"
    }
   ],
   "source": [
    "hashtableBronx.get(7003697)"
   ]
  },
  {
   "cell_type": "code",
   "execution_count": 43,
   "id": "boolean-secret",
   "metadata": {
    "execution": {
     "iopub.execute_input": "2021-05-25T06:20:10.930263Z",
     "iopub.status.busy": "2021-05-25T06:20:10.929623Z",
     "iopub.status.idle": "2021-05-25T06:20:10.935757Z",
     "shell.execute_reply": "2021-05-25T06:20:10.936317Z",
     "shell.execute_reply.started": "2021-05-25T06:16:59.497708Z"
    },
    "papermill": {
     "duration": 0.131572,
     "end_time": "2021-05-25T06:20:10.936489",
     "exception": false,
     "start_time": "2021-05-25T06:20:10.804917",
     "status": "completed"
    },
    "tags": []
   },
   "outputs": [
    {
     "data": {
      "text/plain": [
       "'No value can be found'"
      ]
     },
     "execution_count": 43,
     "metadata": {},
     "output_type": "execute_result"
    }
   ],
   "source": [
    "hashtableBrooklyn.get(7003697)"
   ]
  },
  {
   "cell_type": "code",
   "execution_count": 44,
   "id": "removed-notification",
   "metadata": {
    "execution": {
     "iopub.execute_input": "2021-05-25T06:20:11.173283Z",
     "iopub.status.busy": "2021-05-25T06:20:11.172606Z",
     "iopub.status.idle": "2021-05-25T06:20:11.179376Z",
     "shell.execute_reply": "2021-05-25T06:20:11.178850Z",
     "shell.execute_reply.started": "2021-05-25T06:16:59.513699Z"
    },
    "papermill": {
     "duration": 0.122019,
     "end_time": "2021-05-25T06:20:11.179552",
     "exception": false,
     "start_time": "2021-05-25T06:20:11.057533",
     "status": "completed"
    },
    "tags": []
   },
   "outputs": [
    {
     "data": {
      "text/plain": [
       "'No value can be found'"
      ]
     },
     "execution_count": 44,
     "metadata": {},
     "output_type": "execute_result"
    }
   ],
   "source": [
    "hashtableManhattan.get(7003697)"
   ]
  },
  {
   "cell_type": "code",
   "execution_count": 45,
   "id": "numeric-public",
   "metadata": {
    "execution": {
     "iopub.execute_input": "2021-05-25T06:20:11.400639Z",
     "iopub.status.busy": "2021-05-25T06:20:11.399713Z",
     "iopub.status.idle": "2021-05-25T06:20:11.404161Z",
     "shell.execute_reply": "2021-05-25T06:20:11.403485Z",
     "shell.execute_reply.started": "2021-05-25T06:16:59.527472Z"
    },
    "papermill": {
     "duration": 0.116911,
     "end_time": "2021-05-25T06:20:11.404299",
     "exception": false,
     "start_time": "2021-05-25T06:20:11.287388",
     "status": "completed"
    },
    "tags": []
   },
   "outputs": [
    {
     "data": {
      "text/plain": [
       "'Kathrine'"
      ]
     },
     "execution_count": 45,
     "metadata": {},
     "output_type": "execute_result"
    }
   ],
   "source": [
    "hashtableQueens.get(7003697)"
   ]
  },
  {
   "cell_type": "code",
   "execution_count": 46,
   "id": "physical-warehouse",
   "metadata": {
    "execution": {
     "iopub.execute_input": "2021-05-25T06:20:11.627683Z",
     "iopub.status.busy": "2021-05-25T06:20:11.626691Z",
     "iopub.status.idle": "2021-05-25T06:20:11.631324Z",
     "shell.execute_reply": "2021-05-25T06:20:11.630638Z",
     "shell.execute_reply.started": "2021-05-25T06:16:59.548653Z"
    },
    "papermill": {
     "duration": 0.117275,
     "end_time": "2021-05-25T06:20:11.631470",
     "exception": false,
     "start_time": "2021-05-25T06:20:11.514195",
     "status": "completed"
    },
    "tags": []
   },
   "outputs": [
    {
     "data": {
      "text/plain": [
       "'No value can be found'"
      ]
     },
     "execution_count": 46,
     "metadata": {},
     "output_type": "execute_result"
    }
   ],
   "source": [
    "hashtableStatenIsland.get(7003697)"
   ]
  },
  {
   "cell_type": "markdown",
   "id": "solar-palmer",
   "metadata": {
    "papermill": {
     "duration": 0.107376,
     "end_time": "2021-05-25T06:20:11.847167",
     "exception": false,
     "start_time": "2021-05-25T06:20:11.739791",
     "status": "completed"
    },
    "tags": []
   },
   "source": [
    "Katherine, who is a host in Queens neighbourhood area, has an Airbnb house with a highest price of 10000. We can easily see that by a get() method from Hash Table with a fast time complexity of O(1). Because id is unique so that Hash Tables associated with a wrong neighbourhood group will not find any value, they will throw an error report as \"No value can be found\" as seen above."
   ]
  },
  {
   "cell_type": "markdown",
   "id": "raised-statement",
   "metadata": {
    "papermill": {
     "duration": 0.113619,
     "end_time": "2021-05-25T06:20:12.068237",
     "exception": false,
     "start_time": "2021-05-25T06:20:11.954618",
     "status": "completed"
    },
    "tags": []
   },
   "source": [
    "### 13894339 (same as going with 7003697)"
   ]
  },
  {
   "cell_type": "code",
   "execution_count": 47,
   "id": "military-inclusion",
   "metadata": {
    "execution": {
     "iopub.execute_input": "2021-05-25T06:20:12.337675Z",
     "iopub.status.busy": "2021-05-25T06:20:12.336803Z",
     "iopub.status.idle": "2021-05-25T06:20:12.340958Z",
     "shell.execute_reply": "2021-05-25T06:20:12.340368Z",
     "shell.execute_reply.started": "2021-05-25T06:16:59.566485Z"
    },
    "papermill": {
     "duration": 0.141096,
     "end_time": "2021-05-25T06:20:12.341108",
     "exception": false,
     "start_time": "2021-05-25T06:20:12.200012",
     "status": "completed"
    },
    "tags": []
   },
   "outputs": [
    {
     "data": {
      "text/plain": [
       "'No value can be found'"
      ]
     },
     "execution_count": 47,
     "metadata": {},
     "output_type": "execute_result"
    }
   ],
   "source": [
    "hashtableBronx.get(13894339)"
   ]
  },
  {
   "cell_type": "code",
   "execution_count": 48,
   "id": "second-plasma",
   "metadata": {
    "execution": {
     "iopub.execute_input": "2021-05-25T06:20:12.560527Z",
     "iopub.status.busy": "2021-05-25T06:20:12.559689Z",
     "iopub.status.idle": "2021-05-25T06:20:12.563700Z",
     "shell.execute_reply": "2021-05-25T06:20:12.563240Z",
     "shell.execute_reply.started": "2021-05-25T06:16:59.581615Z"
    },
    "papermill": {
     "duration": 0.115044,
     "end_time": "2021-05-25T06:20:12.563830",
     "exception": false,
     "start_time": "2021-05-25T06:20:12.448786",
     "status": "completed"
    },
    "tags": []
   },
   "outputs": [
    {
     "data": {
      "text/plain": [
       "'Erin'"
      ]
     },
     "execution_count": 48,
     "metadata": {},
     "output_type": "execute_result"
    }
   ],
   "source": [
    "hashtableBrooklyn.get(13894339)"
   ]
  },
  {
   "cell_type": "markdown",
   "id": "widespread-surprise",
   "metadata": {
    "papermill": {
     "duration": 0.10731,
     "end_time": "2021-05-25T06:20:12.777740",
     "exception": false,
     "start_time": "2021-05-25T06:20:12.670430",
     "status": "completed"
    },
    "tags": []
   },
   "source": [
    "Erin, who is a host in Brooklyn neighbourhood area, also has an Airbnb house with a highest price of 10000."
   ]
  },
  {
   "cell_type": "markdown",
   "id": "variable-valentine",
   "metadata": {
    "papermill": {
     "duration": 0.106313,
     "end_time": "2021-05-25T06:20:12.990837",
     "exception": false,
     "start_time": "2021-05-25T06:20:12.884524",
     "status": "completed"
    },
    "tags": []
   },
   "source": [
    "### 22436899"
   ]
  },
  {
   "cell_type": "code",
   "execution_count": 49,
   "id": "seasonal-lighter",
   "metadata": {
    "execution": {
     "iopub.execute_input": "2021-05-25T06:20:13.211006Z",
     "iopub.status.busy": "2021-05-25T06:20:13.210104Z",
     "iopub.status.idle": "2021-05-25T06:20:13.213555Z",
     "shell.execute_reply": "2021-05-25T06:20:13.214001Z",
     "shell.execute_reply.started": "2021-05-25T06:16:59.594922Z"
    },
    "papermill": {
     "duration": 0.116431,
     "end_time": "2021-05-25T06:20:13.214189",
     "exception": false,
     "start_time": "2021-05-25T06:20:13.097758",
     "status": "completed"
    },
    "tags": []
   },
   "outputs": [
    {
     "data": {
      "text/plain": [
       "'No value can be found'"
      ]
     },
     "execution_count": 49,
     "metadata": {},
     "output_type": "execute_result"
    }
   ],
   "source": [
    "hashtableBronx.get(22436899)"
   ]
  },
  {
   "cell_type": "code",
   "execution_count": 50,
   "id": "rough-beatles",
   "metadata": {
    "execution": {
     "iopub.execute_input": "2021-05-25T06:20:13.436331Z",
     "iopub.status.busy": "2021-05-25T06:20:13.435356Z",
     "iopub.status.idle": "2021-05-25T06:20:13.439675Z",
     "shell.execute_reply": "2021-05-25T06:20:13.439186Z",
     "shell.execute_reply.started": "2021-05-25T06:16:59.615059Z"
    },
    "papermill": {
     "duration": 0.116933,
     "end_time": "2021-05-25T06:20:13.439818",
     "exception": false,
     "start_time": "2021-05-25T06:20:13.322885",
     "status": "completed"
    },
    "tags": []
   },
   "outputs": [
    {
     "data": {
      "text/plain": [
       "'No value can be found'"
      ]
     },
     "execution_count": 50,
     "metadata": {},
     "output_type": "execute_result"
    }
   ],
   "source": [
    "hashtableBrooklyn.get(22436899)"
   ]
  },
  {
   "cell_type": "code",
   "execution_count": 51,
   "id": "cardiac-private",
   "metadata": {
    "execution": {
     "iopub.execute_input": "2021-05-25T06:20:13.662612Z",
     "iopub.status.busy": "2021-05-25T06:20:13.661658Z",
     "iopub.status.idle": "2021-05-25T06:20:13.666143Z",
     "shell.execute_reply": "2021-05-25T06:20:13.665522Z",
     "shell.execute_reply.started": "2021-05-25T06:16:59.632782Z"
    },
    "papermill": {
     "duration": 0.117859,
     "end_time": "2021-05-25T06:20:13.666292",
     "exception": false,
     "start_time": "2021-05-25T06:20:13.548433",
     "status": "completed"
    },
    "tags": []
   },
   "outputs": [
    {
     "data": {
      "text/plain": [
       "'Jelena'"
      ]
     },
     "execution_count": 51,
     "metadata": {},
     "output_type": "execute_result"
    }
   ],
   "source": [
    "hashtableManhattan.get(22436899)"
   ]
  },
  {
   "cell_type": "markdown",
   "id": "labeled-province",
   "metadata": {
    "papermill": {
     "duration": 0.109807,
     "end_time": "2021-05-25T06:20:13.887945",
     "exception": false,
     "start_time": "2021-05-25T06:20:13.778138",
     "status": "completed"
    },
    "tags": []
   },
   "source": [
    "The last person to join the '10000 - club' is Jelena and she has a home in Manhattan"
   ]
  },
  {
   "cell_type": "code",
   "execution_count": 52,
   "id": "handmade-administration",
   "metadata": {
    "execution": {
     "iopub.execute_input": "2021-05-25T06:20:14.110644Z",
     "iopub.status.busy": "2021-05-25T06:20:14.109643Z",
     "iopub.status.idle": "2021-05-25T06:20:14.115441Z",
     "shell.execute_reply": "2021-05-25T06:20:14.115889Z",
     "shell.execute_reply.started": "2021-05-25T06:16:59.648269Z"
    },
    "papermill": {
     "duration": 0.118134,
     "end_time": "2021-05-25T06:20:14.116105",
     "exception": false,
     "start_time": "2021-05-25T06:20:13.997971",
     "status": "completed"
    },
    "tags": []
   },
   "outputs": [
    {
     "data": {
      "text/plain": [
       "0"
      ]
     },
     "execution_count": 52,
     "metadata": {},
     "output_type": "execute_result"
    }
   ],
   "source": [
    "# get the minimum price \n",
    "bst_price.get_min()"
   ]
  },
  {
   "cell_type": "code",
   "execution_count": 53,
   "id": "loose-awareness",
   "metadata": {
    "execution": {
     "iopub.execute_input": "2021-05-25T06:20:14.396949Z",
     "iopub.status.busy": "2021-05-25T06:20:14.360796Z",
     "iopub.status.idle": "2021-05-25T06:20:15.039373Z",
     "shell.execute_reply": "2021-05-25T06:20:15.038663Z",
     "shell.execute_reply.started": "2021-05-25T06:16:59.666605Z"
    },
    "papermill": {
     "duration": 0.813011,
     "end_time": "2021-05-25T06:20:15.039540",
     "exception": false,
     "start_time": "2021-05-25T06:20:14.226529",
     "status": "completed"
    },
    "tags": []
   },
   "outputs": [
    {
     "name": "stdout",
     "output_type": "stream",
     "text": [
      "18750597\n",
      "20333471\n",
      "20523843\n",
      "20608117\n",
      "20624541\n",
      "20639628\n",
      "20639792\n",
      "20639914\n",
      "20933849\n",
      "21291569\n",
      "21304320\n",
      "number of min value found:  11\n"
     ]
    }
   ],
   "source": [
    "# get the id of the min price\n",
    "# store all the minimum value inside list \"min\"\n",
    "min = []\n",
    "for i in range(len(dataset.price)):\n",
    "    if dataset.price[i] == bst_price.get_min():\n",
    "        print(dataset.id[i])\n",
    "        min.append(dataset.id[i])\n",
    "print(\"number of min value found: \", len(min))\n",
    "       "
   ]
  },
  {
   "cell_type": "markdown",
   "id": "functional-mentor",
   "metadata": {
    "papermill": {
     "duration": 0.109396,
     "end_time": "2021-05-25T06:20:15.258791",
     "exception": false,
     "start_time": "2021-05-25T06:20:15.149395",
     "status": "completed"
    },
    "tags": []
   },
   "source": [
    "Surprisingly for us, in this dataset the lowest price for a house rent is 0! And there are a total of 11 house for rent like that!"
   ]
  },
  {
   "cell_type": "code",
   "execution_count": 54,
   "id": "plain-location",
   "metadata": {
    "execution": {
     "iopub.execute_input": "2021-05-25T06:20:15.481452Z",
     "iopub.status.busy": "2021-05-25T06:20:15.480729Z",
     "iopub.status.idle": "2021-05-25T06:20:15.484329Z",
     "shell.execute_reply": "2021-05-25T06:20:15.484822Z",
     "shell.execute_reply.started": "2021-05-25T06:17:00.432305Z"
    },
    "papermill": {
     "duration": 0.116825,
     "end_time": "2021-05-25T06:20:15.484982",
     "exception": false,
     "start_time": "2021-05-25T06:20:15.368157",
     "status": "completed"
    },
    "tags": []
   },
   "outputs": [
    {
     "name": "stdout",
     "output_type": "stream",
     "text": [
      "11\n"
     ]
    }
   ],
   "source": [
    "print(len(min))"
   ]
  },
  {
   "cell_type": "code",
   "execution_count": 55,
   "id": "magnetic-success",
   "metadata": {
    "execution": {
     "iopub.execute_input": "2021-05-25T06:20:15.714405Z",
     "iopub.status.busy": "2021-05-25T06:20:15.710436Z",
     "iopub.status.idle": "2021-05-25T06:20:15.739480Z",
     "shell.execute_reply": "2021-05-25T06:20:15.738951Z",
     "shell.execute_reply.started": "2021-05-25T06:17:00.440630Z"
    },
    "papermill": {
     "duration": 0.146168,
     "end_time": "2021-05-25T06:20:15.739620",
     "exception": false,
     "start_time": "2021-05-25T06:20:15.593452",
     "status": "completed"
    },
    "tags": []
   },
   "outputs": [
    {
     "name": "stdout",
     "output_type": "stream",
     "text": [
      "No value can be found with id 18750597 in Bronx\n",
      "Anisha with id 20333471 in Bronx\n",
      "No value can be found with id 20523843 in Bronx\n",
      "No value can be found with id 20608117 in Bronx\n",
      "No value can be found with id 20624541 in Bronx\n",
      "No value can be found with id 20639628 in Bronx\n",
      "No value can be found with id 20639792 in Bronx\n",
      "No value can be found with id 20639914 in Bronx\n",
      "No value can be found with id 20933849 in Bronx\n",
      "No value can be found with id 21291569 in Bronx\n",
      "No value can be found with id 21304320 in Bronx\n",
      "--------------------\n",
      "Kimberly with id 18750597 in Brooklyn\n",
      "No value can be found with id 20333471 in Brooklyn\n",
      "Martial Loft with id 20523843 in Brooklyn\n",
      "Lauren with id 20608117 in Brooklyn\n",
      "Aymeric with id 20624541 in Brooklyn\n",
      "Adeyemi with id 20639628 in Brooklyn\n",
      "Adeyemi with id 20639792 in Brooklyn\n",
      "Adeyemi with id 20639914 in Brooklyn\n",
      "No value can be found with id 20933849 in Brooklyn\n",
      "Sergii with id 21291569 in Brooklyn\n",
      "Sergii with id 21304320 in Brooklyn\n",
      "--------------------\n",
      "No value can be found with id 18750597 in Manhanttan\n",
      "No value can be found with id 20333471 in Manhanttan\n",
      "No value can be found with id 20523843 in Manhanttan\n",
      "No value can be found with id 20608117 in Manhanttan\n",
      "No value can be found with id 20624541 in Manhanttan\n",
      "No value can be found with id 20639628 in Manhanttan\n",
      "No value can be found with id 20639792 in Manhanttan\n",
      "No value can be found with id 20639914 in Manhanttan\n",
      "Qiuchi with id 20933849 in Manhanttan\n",
      "No value can be found with id 21291569 in Manhanttan\n",
      "No value can be found with id 21304320 in Manhanttan\n",
      "--------------------\n",
      "No value can be found with id 18750597 in Queens\n",
      "No value can be found with id 20333471 in Queens\n",
      "No value can be found with id 20523843 in Queens\n",
      "No value can be found with id 20608117 in Queens\n",
      "No value can be found with id 20624541 in Queens\n",
      "No value can be found with id 20639628 in Queens\n",
      "No value can be found with id 20639792 in Queens\n",
      "No value can be found with id 20639914 in Queens\n",
      "No value can be found with id 20933849 in Queens\n",
      "No value can be found with id 21291569 in Queens\n",
      "No value can be found with id 21304320 in Queens\n",
      "--------------------\n",
      "No value can be found with id 18750597 in Staten Island\n",
      "No value can be found with id 20333471 in Staten Island\n",
      "No value can be found with id 20523843 in Staten Island\n",
      "No value can be found with id 20608117 in Staten Island\n",
      "No value can be found with id 20624541 in Staten Island\n",
      "No value can be found with id 20639628 in Staten Island\n",
      "No value can be found with id 20639792 in Staten Island\n",
      "No value can be found with id 20639914 in Staten Island\n",
      "No value can be found with id 20933849 in Staten Island\n",
      "No value can be found with id 21291569 in Staten Island\n",
      "No value can be found with id 21304320 in Staten Island\n"
     ]
    }
   ],
   "source": [
    "for i in min:\n",
    "    print(hashtableBronx.get(i),\"with id\", i, \"in Bronx\")\n",
    "print(\"-\" * 20)    \n",
    "for i in min:\n",
    "    print(hashtableBrooklyn.get(i),\"with id\", i, \"in Brooklyn\")\n",
    "print(\"-\" * 20)\n",
    "for i in min:\n",
    "    print(hashtableManhattan.get(i), \"with id\", i, \"in Manhanttan\")\n",
    "print(\"-\" * 20)\n",
    "for i in min:\n",
    "    print(hashtableQueens.get(i), \"with id\", i, \"in Queens\")\n",
    "print(\"-\" * 20)\n",
    "for i in min:\n",
    "    print(hashtableStatenIsland.get(i), \"with id\", i, \"in Staten Island\")\n",
    "    \n",
    "    \n",
    "    "
   ]
  },
  {
   "cell_type": "markdown",
   "id": "neutral-circulation",
   "metadata": {
    "papermill": {
     "duration": 0.13569,
     "end_time": "2021-05-25T06:20:15.995294",
     "exception": false,
     "start_time": "2021-05-25T06:20:15.859604",
     "status": "completed"
    },
    "tags": []
   },
   "source": [
    "## Conclusion of price research"
   ]
  },
  {
   "cell_type": "markdown",
   "id": "tracked-forwarding",
   "metadata": {
    "papermill": {
     "duration": 0.133201,
     "end_time": "2021-05-25T06:20:16.241803",
     "exception": false,
     "start_time": "2021-05-25T06:20:16.108602",
     "status": "completed"
    },
    "tags": []
   },
   "source": [
    "Manhattan, Queens and Brooklyn are areas which has house that are for rent with the highest price (1000 Dollars)"
   ]
  },
  {
   "cell_type": "markdown",
   "id": "noted-florence",
   "metadata": {
    "papermill": {
     "duration": 0.11039,
     "end_time": "2021-05-25T06:20:16.471320",
     "exception": false,
     "start_time": "2021-05-25T06:20:16.360930",
     "status": "completed"
    },
    "tags": []
   },
   "source": [
    "Houses with the surpiringly low price at 0 cannot be found at Staten Island and Queens, but instead only in Manhanttan, Brooklyn and Bronx. Adeyemi is the host with the biggest number of lowest-price-house with 3 houses of id 20639628, 20639792 and 20639792 and all of them are located in Brooklyn, following Adeyemi is Sergii with 2 houses with id 21291569  and 21304320 . Brooklyn is the area with the most lowest price house (9 houses)"
   ]
  },
  {
   "cell_type": "markdown",
   "id": "finnish-folks",
   "metadata": {
    "papermill": {
     "duration": 0.110126,
     "end_time": "2021-05-25T06:20:16.691376",
     "exception": false,
     "start_time": "2021-05-25T06:20:16.581250",
     "status": "completed"
    },
    "tags": []
   },
   "source": [
    "Brooklyn and Manhattan both has houses with the highest price and the lowest price. the price difference is huge for these two areas. They are also the area which has the most airbnb houses for rent (has already been shown above)"
   ]
  },
  {
   "cell_type": "markdown",
   "id": "humanitarian-iceland",
   "metadata": {
    "papermill": {
     "duration": 0.111516,
     "end_time": "2021-05-25T06:20:16.914983",
     "exception": false,
     "start_time": "2021-05-25T06:20:16.803467",
     "status": "completed"
    },
    "tags": []
   },
   "source": [
    "Surprisingly, there are house for rent with the price of 0! "
   ]
  },
  {
   "cell_type": "markdown",
   "id": "comparable-magic",
   "metadata": {
    "papermill": {
     "duration": 0.112142,
     "end_time": "2021-05-25T06:20:17.138680",
     "exception": false,
     "start_time": "2021-05-25T06:20:17.026538",
     "status": "completed"
    },
    "tags": []
   },
   "source": [
    "## Minimum Night research"
   ]
  },
  {
   "cell_type": "code",
   "execution_count": 56,
   "id": "parallel-offense",
   "metadata": {
    "execution": {
     "iopub.execute_input": "2021-05-25T06:20:17.366846Z",
     "iopub.status.busy": "2021-05-25T06:20:17.365805Z",
     "iopub.status.idle": "2021-05-25T06:20:17.370752Z",
     "shell.execute_reply": "2021-05-25T06:20:17.370001Z",
     "shell.execute_reply.started": "2021-05-25T06:17:00.482107Z"
    },
    "papermill": {
     "duration": 0.120831,
     "end_time": "2021-05-25T06:20:17.370935",
     "exception": false,
     "start_time": "2021-05-25T06:20:17.250104",
     "status": "completed"
    },
    "tags": []
   },
   "outputs": [
    {
     "name": "stdout",
     "output_type": "stream",
     "text": [
      "0         1\n",
      "1         1\n",
      "2         3\n",
      "3         1\n",
      "4        10\n",
      "         ..\n",
      "48890     2\n",
      "48891     4\n",
      "48892    10\n",
      "48893     1\n",
      "48894     7\n",
      "Name: minimum_nights, Length: 48895, dtype: int64\n"
     ]
    }
   ],
   "source": [
    "# All datas from minimum_nights\n",
    "print(dataset.minimum_nights)"
   ]
  },
  {
   "cell_type": "code",
   "execution_count": 57,
   "id": "found-parade",
   "metadata": {
    "execution": {
     "iopub.execute_input": "2021-05-25T06:20:17.601055Z",
     "iopub.status.busy": "2021-05-25T06:20:17.600272Z",
     "iopub.status.idle": "2021-05-25T06:20:17.606425Z",
     "shell.execute_reply": "2021-05-25T06:20:17.605686Z",
     "shell.execute_reply.started": "2021-05-25T06:17:00.494485Z"
    },
    "papermill": {
     "duration": 0.12352,
     "end_time": "2021-05-25T06:20:17.606608",
     "exception": false,
     "start_time": "2021-05-25T06:20:17.483088",
     "status": "completed"
    },
    "tags": []
   },
   "outputs": [
    {
     "name": "stdout",
     "output_type": "stream",
     "text": [
      "[   1    3   10   45    2    5    4   90    7   14   60   29   30  180\n",
      "    9   31    6   15    8   26   28  200   50   17   21   11   25   13\n",
      "   35   27   18   20   40   44   65   55  120  365  122   19  240   88\n",
      "  115  150  370   16   80  181  265  300   59  185  360   56   12   70\n",
      "   39   24   32 1000  110  270   22   75  250   62   23 1250  364   74\n",
      "  198  100  500   43   91  480   53   99  160   47  999  186  366   68\n",
      "   93   87  183  299  175   98  133  354   42   33   37  225  400  105\n",
      "  184  153  134  222   58  210  275  182  114   85   36]\n"
     ]
    }
   ],
   "source": [
    "# Print all unique data in minimum_nights\n",
    "print(dataset.minimum_nights.unique())"
   ]
  },
  {
   "cell_type": "markdown",
   "id": "divided-gender",
   "metadata": {
    "papermill": {
     "duration": 0.112453,
     "end_time": "2021-05-25T06:20:17.830651",
     "exception": false,
     "start_time": "2021-05-25T06:20:17.718198",
     "status": "completed"
    },
    "tags": []
   },
   "source": [
    "***Use Merge Sort Algorithm to sort minimum_nights***"
   ]
  },
  {
   "cell_type": "code",
   "execution_count": 58,
   "id": "orange-gateway",
   "metadata": {
    "execution": {
     "iopub.execute_input": "2021-05-25T06:20:18.058067Z",
     "iopub.status.busy": "2021-05-25T06:20:18.057044Z",
     "iopub.status.idle": "2021-05-25T06:20:18.061284Z",
     "shell.execute_reply": "2021-05-25T06:20:18.061740Z",
     "shell.execute_reply.started": "2021-05-25T06:17:00.513010Z"
    },
    "papermill": {
     "duration": 0.120043,
     "end_time": "2021-05-25T06:20:18.061896",
     "exception": false,
     "start_time": "2021-05-25T06:20:17.941853",
     "status": "completed"
    },
    "tags": []
   },
   "outputs": [
    {
     "name": "stdout",
     "output_type": "stream",
     "text": [
      "109\n"
     ]
    }
   ],
   "source": [
    "minimum_night_list = []\n",
    "for i in dataset.minimum_nights.unique():\n",
    "    minimum_night_list.append(i)\n",
    "print(len(minimum_night_list))    "
   ]
  },
  {
   "cell_type": "code",
   "execution_count": 59,
   "id": "interim-vertical",
   "metadata": {
    "execution": {
     "iopub.execute_input": "2021-05-25T06:20:18.296645Z",
     "iopub.status.busy": "2021-05-25T06:20:18.295607Z",
     "iopub.status.idle": "2021-05-25T06:20:18.304039Z",
     "shell.execute_reply": "2021-05-25T06:20:18.304526Z",
     "shell.execute_reply.started": "2021-05-25T06:17:00.522210Z"
    },
    "papermill": {
     "duration": 0.128226,
     "end_time": "2021-05-25T06:20:18.304718",
     "exception": false,
     "start_time": "2021-05-25T06:20:18.176492",
     "status": "completed"
    },
    "tags": []
   },
   "outputs": [],
   "source": [
    "# Initiate Merge Sort Algorithm\n",
    "def mergeSort(arr):\n",
    "    if len(arr) > 1:\n",
    " \n",
    "         # Finding the mid of the array\n",
    "        mid = len(arr)//2\n",
    " \n",
    "        # Dividing the array elements\n",
    "        L = arr[:mid]\n",
    " \n",
    "        # into 2 halves\n",
    "        R = arr[mid:]\n",
    " \n",
    "        # Sorting the first half\n",
    "        mergeSort(L)\n",
    " \n",
    "        # Sorting the second half\n",
    "        mergeSort(R)\n",
    " \n",
    "        i = j = k = 0\n",
    " \n",
    "        # Copy data to temp arrays L[] and R[]\n",
    "        while i < len(L) and j < len(R):\n",
    "            if L[i] < R[j]:\n",
    "                arr[k] = L[i]\n",
    "                i += 1\n",
    "            else:\n",
    "                arr[k] = R[j]\n",
    "                j += 1\n",
    "            k += 1\n",
    " \n",
    "        # Checking if any element was left\n",
    "        while i < len(L):\n",
    "            arr[k] = L[i]\n",
    "            i += 1\n",
    "            k += 1\n",
    " \n",
    "        while j < len(R):\n",
    "            arr[k] = R[j]\n",
    "            j += 1\n",
    "            k += 1"
   ]
  },
  {
   "cell_type": "code",
   "execution_count": 60,
   "id": "numeric-alignment",
   "metadata": {
    "execution": {
     "iopub.execute_input": "2021-05-25T06:20:18.532369Z",
     "iopub.status.busy": "2021-05-25T06:20:18.531329Z",
     "iopub.status.idle": "2021-05-25T06:20:18.535722Z",
     "shell.execute_reply": "2021-05-25T06:20:18.536192Z",
     "shell.execute_reply.started": "2021-05-25T06:17:00.792885Z"
    },
    "papermill": {
     "duration": 0.119516,
     "end_time": "2021-05-25T06:20:18.536366",
     "exception": false,
     "start_time": "2021-05-25T06:20:18.416850",
     "status": "completed"
    },
    "tags": []
   },
   "outputs": [],
   "source": [
    "mergeSort(minimum_night_list)"
   ]
  },
  {
   "cell_type": "code",
   "execution_count": 61,
   "id": "bright-implement",
   "metadata": {
    "execution": {
     "iopub.execute_input": "2021-05-25T06:20:18.764513Z",
     "iopub.status.busy": "2021-05-25T06:20:18.763535Z",
     "iopub.status.idle": "2021-05-25T06:20:18.769399Z",
     "shell.execute_reply": "2021-05-25T06:20:18.769865Z",
     "shell.execute_reply.started": "2021-05-25T06:17:02.682078Z"
    },
    "papermill": {
     "duration": 0.120932,
     "end_time": "2021-05-25T06:20:18.770042",
     "exception": false,
     "start_time": "2021-05-25T06:20:18.649110",
     "status": "completed"
    },
    "tags": []
   },
   "outputs": [
    {
     "name": "stdout",
     "output_type": "stream",
     "text": [
      "[1, 2, 3, 4, 5, 6, 7, 8, 9, 10, 11, 12, 13, 14, 15, 16, 17, 18, 19, 20, 21, 22, 23, 24, 25, 26, 27, 28, 29, 30, 31, 32, 33, 35, 36, 37, 39, 40, 42, 43, 44, 45, 47, 50, 53, 55, 56, 58, 59, 60, 62, 65, 68, 70, 74, 75, 80, 85, 87, 88, 90, 91, 93, 98, 99, 100, 105, 110, 114, 115, 120, 122, 133, 134, 150, 153, 160, 175, 180, 181, 182, 183, 184, 185, 186, 198, 200, 210, 222, 225, 240, 250, 265, 270, 275, 299, 300, 354, 360, 364, 365, 366, 370, 400, 480, 500, 999, 1000, 1250]\n"
     ]
    }
   ],
   "source": [
    "print(minimum_night_list)"
   ]
  },
  {
   "cell_type": "markdown",
   "id": "pending-mortality",
   "metadata": {
    "papermill": {
     "duration": 0.111372,
     "end_time": "2021-05-25T06:20:18.995557",
     "exception": false,
     "start_time": "2021-05-25T06:20:18.884185",
     "status": "completed"
    },
    "tags": []
   },
   "source": [
    "We can easily observer that minimum_night list has been sorted from the lowest to the highest value. Many people rent the Airbnb houses for a vary range of days"
   ]
  },
  {
   "cell_type": "markdown",
   "id": "increased-queens",
   "metadata": {
    "papermill": {
     "duration": 0.120476,
     "end_time": "2021-05-25T06:20:19.250026",
     "exception": false,
     "start_time": "2021-05-25T06:20:19.129550",
     "status": "completed"
    },
    "tags": []
   },
   "source": [
    "We can see that there are people who rent the Airbnb house for 1250 days!"
   ]
  },
  {
   "cell_type": "markdown",
   "id": "integrated-johns",
   "metadata": {
    "papermill": {
     "duration": 0.11103,
     "end_time": "2021-05-25T06:20:19.472373",
     "exception": false,
     "start_time": "2021-05-25T06:20:19.361343",
     "status": "completed"
    },
    "tags": []
   },
   "source": [
    "Merge sort Algorithm analysis\n",
    "\n",
    "Time complexity: \n",
    "* Best Case Time Complexity: O(n*log n)\n",
    "\n",
    "* Worst Case Time Complexity: O(n*log n)\n",
    "\n",
    "* Average Time Complexity: O(n*log n)"
   ]
  },
  {
   "cell_type": "code",
   "execution_count": 62,
   "id": "coordinate-sphere",
   "metadata": {
    "execution": {
     "iopub.execute_input": "2021-05-25T06:20:19.700184Z",
     "iopub.status.busy": "2021-05-25T06:20:19.699551Z",
     "iopub.status.idle": "2021-05-25T06:20:19.706614Z",
     "shell.execute_reply": "2021-05-25T06:20:19.706080Z",
     "shell.execute_reply.started": "2021-05-25T06:17:06.825415Z"
    },
    "papermill": {
     "duration": 0.123246,
     "end_time": "2021-05-25T06:20:19.706751",
     "exception": false,
     "start_time": "2021-05-25T06:20:19.583505",
     "status": "completed"
    },
    "tags": []
   },
   "outputs": [
    {
     "data": {
      "text/plain": [
       "1      12720\n",
       "2      11696\n",
       "3       7999\n",
       "30      3760\n",
       "4       3303\n",
       "       ...  \n",
       "85         1\n",
       "182        1\n",
       "39         1\n",
       "87         1\n",
       "36         1\n",
       "Name: minimum_nights, Length: 109, dtype: int64"
      ]
     },
     "execution_count": 62,
     "metadata": {},
     "output_type": "execute_result"
    }
   ],
   "source": [
    "dataset['minimum_nights'].value_counts()\n",
    "    \n",
    "    "
   ]
  },
  {
   "cell_type": "markdown",
   "id": "authorized-train",
   "metadata": {
    "papermill": {
     "duration": 0.13227,
     "end_time": "2021-05-25T06:20:19.951041",
     "exception": false,
     "start_time": "2021-05-25T06:20:19.818771",
     "status": "completed"
    },
    "tags": []
   },
   "source": [
    "Most homes are for rent for only 1 and 2 night stay because the value count for 1 and 2 is the highest with 12720 and 11696 respectively"
   ]
  },
  {
   "cell_type": "markdown",
   "id": "honest-neighbor",
   "metadata": {
    "papermill": {
     "duration": 0.129716,
     "end_time": "2021-05-25T06:20:20.196590",
     "exception": false,
     "start_time": "2021-05-25T06:20:20.066874",
     "status": "completed"
    },
    "tags": []
   },
   "source": [
    "## Finding the hosts with most houses owned with calculated_host_listings_count"
   ]
  },
  {
   "cell_type": "code",
   "execution_count": 63,
   "id": "fundamental-bowling",
   "metadata": {
    "execution": {
     "iopub.execute_input": "2021-05-25T06:20:20.456876Z",
     "iopub.status.busy": "2021-05-25T06:20:20.456056Z",
     "iopub.status.idle": "2021-05-25T06:20:20.460167Z",
     "shell.execute_reply": "2021-05-25T06:20:20.459509Z",
     "shell.execute_reply.started": "2021-05-25T06:17:10.717936Z"
    },
    "papermill": {
     "duration": 0.125325,
     "end_time": "2021-05-25T06:20:20.460307",
     "exception": false,
     "start_time": "2021-05-25T06:20:20.334982",
     "status": "completed"
    },
    "tags": []
   },
   "outputs": [
    {
     "name": "stdout",
     "output_type": "stream",
     "text": [
      "0        6\n",
      "1        2\n",
      "2        1\n",
      "3        1\n",
      "4        1\n",
      "        ..\n",
      "48890    2\n",
      "48891    2\n",
      "48892    1\n",
      "48893    6\n",
      "48894    1\n",
      "Name: calculated_host_listings_count, Length: 48895, dtype: int64\n"
     ]
    }
   ],
   "source": [
    "print(dataset.calculated_host_listings_count)"
   ]
  },
  {
   "cell_type": "code",
   "execution_count": 64,
   "id": "packed-business",
   "metadata": {
    "execution": {
     "iopub.execute_input": "2021-05-25T06:20:20.687378Z",
     "iopub.status.busy": "2021-05-25T06:20:20.686644Z",
     "iopub.status.idle": "2021-05-25T06:20:21.455465Z",
     "shell.execute_reply": "2021-05-25T06:20:21.454904Z",
     "shell.execute_reply.started": "2021-05-25T06:17:12.468359Z"
    },
    "papermill": {
     "duration": 0.881867,
     "end_time": "2021-05-25T06:20:21.455611",
     "exception": false,
     "start_time": "2021-05-25T06:20:20.573744",
     "status": "completed"
    },
    "tags": []
   },
   "outputs": [],
   "source": [
    "# Put all calculated_host_listings_counts variables into Binary Tree Data Structure to implement the Binary Tree Search Algorithm\n",
    "bst_listings_count = BinarySearchTree()\n",
    "for i in range(len(dataset.calculated_host_listings_count)):\n",
    "    bst_listings_count.insert(dataset.calculated_host_listings_count[i])"
   ]
  },
  {
   "cell_type": "code",
   "execution_count": 65,
   "id": "continued-correspondence",
   "metadata": {
    "execution": {
     "iopub.execute_input": "2021-05-25T06:20:21.684633Z",
     "iopub.status.busy": "2021-05-25T06:20:21.683908Z",
     "iopub.status.idle": "2021-05-25T06:20:21.686640Z",
     "shell.execute_reply": "2021-05-25T06:20:21.687180Z",
     "shell.execute_reply.started": "2021-05-25T06:17:13.931220Z"
    },
    "papermill": {
     "duration": 0.11991,
     "end_time": "2021-05-25T06:20:21.687344",
     "exception": false,
     "start_time": "2021-05-25T06:20:21.567434",
     "status": "completed"
    },
    "tags": []
   },
   "outputs": [
    {
     "data": {
      "text/plain": [
       "[1,\n",
       " 2,\n",
       " 3,\n",
       " 4,\n",
       " 5,\n",
       " 6,\n",
       " 7,\n",
       " 8,\n",
       " 9,\n",
       " 10,\n",
       " 11,\n",
       " 12,\n",
       " 13,\n",
       " 14,\n",
       " 15,\n",
       " 16,\n",
       " 17,\n",
       " 18,\n",
       " 19,\n",
       " 20,\n",
       " 21,\n",
       " 23,\n",
       " 25,\n",
       " 26,\n",
       " 27,\n",
       " 28,\n",
       " 29,\n",
       " 30,\n",
       " 31,\n",
       " 32,\n",
       " 33,\n",
       " 34,\n",
       " 37,\n",
       " 39,\n",
       " 43,\n",
       " 47,\n",
       " 49,\n",
       " 50,\n",
       " 52,\n",
       " 65,\n",
       " 87,\n",
       " 91,\n",
       " 96,\n",
       " 103,\n",
       " 121,\n",
       " 232,\n",
       " 327]"
      ]
     },
     "execution_count": 65,
     "metadata": {},
     "output_type": "execute_result"
    }
   ],
   "source": [
    "# Inorder traverse of the Tree\n",
    "bst_listings_count.inorder([])"
   ]
  },
  {
   "cell_type": "markdown",
   "id": "criminal-window",
   "metadata": {
    "papermill": {
     "duration": 0.112833,
     "end_time": "2021-05-25T06:20:21.915244",
     "exception": false,
     "start_time": "2021-05-25T06:20:21.802411",
     "status": "completed"
    },
    "tags": []
   },
   "source": [
    "The Inorder traverse of the Binary Search Tree gives us an array of listing_counts price from lowest to highest.\n",
    "\n",
    "In order to analyse the time complexity of a tree traversal you have to think in the terms of number of nodes visited. If a tree has n nodes, then each node is visited only once in inorder traversal and hence the complexity is O(n).\n"
   ]
  },
  {
   "cell_type": "code",
   "execution_count": 66,
   "id": "voluntary-standard",
   "metadata": {
    "execution": {
     "iopub.execute_input": "2021-05-25T06:20:22.142760Z",
     "iopub.status.busy": "2021-05-25T06:20:22.142173Z",
     "iopub.status.idle": "2021-05-25T06:20:22.147740Z",
     "shell.execute_reply": "2021-05-25T06:20:22.148352Z",
     "shell.execute_reply.started": "2021-05-25T06:17:18.542994Z"
    },
    "papermill": {
     "duration": 0.120207,
     "end_time": "2021-05-25T06:20:22.148569",
     "exception": false,
     "start_time": "2021-05-25T06:20:22.028362",
     "status": "completed"
    },
    "tags": []
   },
   "outputs": [
    {
     "data": {
      "text/plain": [
       "327"
      ]
     },
     "execution_count": 66,
     "metadata": {},
     "output_type": "execute_result"
    }
   ],
   "source": [
    "# Get the maximum listing_counts\n",
    "bst_listings_count.get_max()"
   ]
  },
  {
   "cell_type": "markdown",
   "id": "black-gross",
   "metadata": {
    "papermill": {
     "duration": 0.111386,
     "end_time": "2021-05-25T06:20:22.374315",
     "exception": false,
     "start_time": "2021-05-25T06:20:22.262929",
     "status": "completed"
    },
    "tags": []
   },
   "source": [
    "The most-owned-house host has 327 different houses!"
   ]
  },
  {
   "cell_type": "code",
   "execution_count": 67,
   "id": "seventh-familiar",
   "metadata": {
    "execution": {
     "iopub.execute_input": "2021-05-25T06:20:22.603493Z",
     "iopub.status.busy": "2021-05-25T06:20:22.602814Z",
     "iopub.status.idle": "2021-05-25T06:20:23.288555Z",
     "shell.execute_reply": "2021-05-25T06:20:23.289063Z",
     "shell.execute_reply.started": "2021-05-25T06:17:20.373025Z"
    },
    "papermill": {
     "duration": 0.800998,
     "end_time": "2021-05-25T06:20:23.289367",
     "exception": false,
     "start_time": "2021-05-25T06:20:22.488369",
     "status": "completed"
    },
    "tags": []
   },
   "outputs": [],
   "source": [
    "# Find all the houses associated with this host through host id\n",
    "house_list = []\n",
    "for i in range(len(dataset.calculated_host_listings_count)):\n",
    "    if dataset.calculated_host_listings_count[i] == bst_listings_count.get_max():\n",
    "        house_list.append(dataset.id[i])\n",
    "       \n"
   ]
  },
  {
   "cell_type": "code",
   "execution_count": 68,
   "id": "worldwide-process",
   "metadata": {
    "execution": {
     "iopub.execute_input": "2021-05-25T06:20:23.533929Z",
     "iopub.status.busy": "2021-05-25T06:20:23.533349Z",
     "iopub.status.idle": "2021-05-25T06:20:23.538475Z",
     "shell.execute_reply": "2021-05-25T06:20:23.539147Z",
     "shell.execute_reply.started": "2021-05-25T06:17:22.535322Z"
    },
    "papermill": {
     "duration": 0.125435,
     "end_time": "2021-05-25T06:20:23.539371",
     "exception": false,
     "start_time": "2021-05-25T06:20:23.413936",
     "status": "completed"
    },
    "tags": []
   },
   "outputs": [
    {
     "name": "stdout",
     "output_type": "stream",
     "text": [
      "327\n"
     ]
    }
   ],
   "source": [
    "print(len(house_list))"
   ]
  },
  {
   "cell_type": "code",
   "execution_count": 69,
   "id": "deluxe-steal",
   "metadata": {
    "execution": {
     "iopub.execute_input": "2021-05-25T06:20:23.786035Z",
     "iopub.status.busy": "2021-05-25T06:20:23.784740Z",
     "iopub.status.idle": "2021-05-25T06:20:23.934855Z",
     "shell.execute_reply": "2021-05-25T06:20:23.935878Z",
     "shell.execute_reply.started": "2021-05-25T06:17:24.045921Z"
    },
    "papermill": {
     "duration": 0.278498,
     "end_time": "2021-05-25T06:20:23.936147",
     "exception": false,
     "start_time": "2021-05-25T06:20:23.657649",
     "status": "completed"
    },
    "tags": []
   },
   "outputs": [
    {
     "name": "stdout",
     "output_type": "stream",
     "text": [
      "--------------------\n",
      "--------------------\n",
      "Sonder (NYC) with id 30181691 in Manhanttan\n",
      "Sonder (NYC) with id 30181945 in Manhanttan\n",
      "Sonder (NYC) with id 30347708 in Manhanttan\n",
      "Sonder (NYC) with id 30937590 in Manhanttan\n",
      "Sonder (NYC) with id 30937591 in Manhanttan\n",
      "Sonder (NYC) with id 30937594 in Manhanttan\n",
      "Sonder (NYC) with id 30937595 in Manhanttan\n",
      "Sonder (NYC) with id 30937596 in Manhanttan\n",
      "Sonder (NYC) with id 30937597 in Manhanttan\n",
      "Sonder (NYC) with id 30937598 in Manhanttan\n",
      "Sonder (NYC) with id 30937740 in Manhanttan\n",
      "Sonder (NYC) with id 30937747 in Manhanttan\n",
      "Sonder (NYC) with id 30937750 in Manhanttan\n",
      "Sonder (NYC) with id 30937756 in Manhanttan\n",
      "Sonder (NYC) with id 30937759 in Manhanttan\n",
      "Sonder (NYC) with id 30937762 in Manhanttan\n",
      "Sonder (NYC) with id 30937764 in Manhanttan\n",
      "Sonder (NYC) with id 31378549 in Manhanttan\n",
      "Sonder (NYC) with id 32218558 in Manhanttan\n",
      "Sonder (NYC) with id 32218659 in Manhanttan\n",
      "Sonder (NYC) with id 32218803 in Manhanttan\n",
      "Sonder (NYC) with id 32219550 in Manhanttan\n",
      "Sonder (NYC) with id 32219678 in Manhanttan\n",
      "Sonder (NYC) with id 32223317 in Manhanttan\n",
      "Sonder (NYC) with id 32223854 in Manhanttan\n",
      "Sonder (NYC) with id 32224165 in Manhanttan\n",
      "Sonder (NYC) with id 32224172 in Manhanttan\n",
      "Sonder (NYC) with id 32224211 in Manhanttan\n",
      "Sonder (NYC) with id 32225184 in Manhanttan\n",
      "Sonder (NYC) with id 32225186 in Manhanttan\n",
      "Sonder (NYC) with id 32225187 in Manhanttan\n",
      "Sonder (NYC) with id 32225188 in Manhanttan\n",
      "Sonder (NYC) with id 32225189 in Manhanttan\n",
      "Sonder (NYC) with id 32225195 in Manhanttan\n",
      "Sonder (NYC) with id 32225197 in Manhanttan\n",
      "Sonder (NYC) with id 32225203 in Manhanttan\n",
      "Sonder (NYC) with id 32225206 in Manhanttan\n",
      "Sonder (NYC) with id 32225207 in Manhanttan\n",
      "Sonder (NYC) with id 32236518 in Manhanttan\n",
      "Sonder (NYC) with id 32236681 in Manhanttan\n",
      "Sonder (NYC) with id 32236951 in Manhanttan\n",
      "Sonder (NYC) with id 32237138 in Manhanttan\n",
      "Sonder (NYC) with id 32237148 in Manhanttan\n",
      "Sonder (NYC) with id 32237240 in Manhanttan\n",
      "Sonder (NYC) with id 32237306 in Manhanttan\n",
      "Sonder (NYC) with id 32237394 in Manhanttan\n",
      "Sonder (NYC) with id 32237413 in Manhanttan\n",
      "Sonder (NYC) with id 32237469 in Manhanttan\n",
      "Sonder (NYC) with id 32237493 in Manhanttan\n",
      "Sonder (NYC) with id 32237560 in Manhanttan\n",
      "Sonder (NYC) with id 32237566 in Manhanttan\n",
      "Sonder (NYC) with id 32237634 in Manhanttan\n",
      "Sonder (NYC) with id 32237640 in Manhanttan\n",
      "Sonder (NYC) with id 32237692 in Manhanttan\n",
      "Sonder (NYC) with id 32237736 in Manhanttan\n",
      "Sonder (NYC) with id 32237768 in Manhanttan\n",
      "Sonder (NYC) with id 32237811 in Manhanttan\n",
      "Sonder (NYC) with id 32238106 in Manhanttan\n",
      "Sonder (NYC) with id 32238131 in Manhanttan\n",
      "Sonder (NYC) with id 32238198 in Manhanttan\n",
      "Sonder (NYC) with id 32238229 in Manhanttan\n",
      "Sonder (NYC) with id 32238253 in Manhanttan\n",
      "Sonder (NYC) with id 32238307 in Manhanttan\n",
      "Sonder (NYC) with id 32238324 in Manhanttan\n",
      "Sonder (NYC) with id 32238387 in Manhanttan\n",
      "Sonder (NYC) with id 32238391 in Manhanttan\n",
      "Sonder (NYC) with id 32238462 in Manhanttan\n",
      "Sonder (NYC) with id 32238473 in Manhanttan\n",
      "Sonder (NYC) with id 32238548 in Manhanttan\n",
      "Sonder (NYC) with id 32238621 in Manhanttan\n",
      "Sonder (NYC) with id 32238730 in Manhanttan\n",
      "Sonder (NYC) with id 32238809 in Manhanttan\n",
      "Sonder (NYC) with id 32238821 in Manhanttan\n",
      "Sonder (NYC) with id 32239033 in Manhanttan\n",
      "Sonder (NYC) with id 32239034 in Manhanttan\n",
      "Sonder (NYC) with id 32239035 in Manhanttan\n",
      "Sonder (NYC) with id 32239039 in Manhanttan\n",
      "Sonder (NYC) with id 32239551 in Manhanttan\n",
      "Sonder (NYC) with id 32239640 in Manhanttan\n",
      "Sonder (NYC) with id 32239738 in Manhanttan\n",
      "Sonder (NYC) with id 32239944 in Manhanttan\n",
      "Sonder (NYC) with id 32239950 in Manhanttan\n",
      "Sonder (NYC) with id 32240076 in Manhanttan\n",
      "Sonder (NYC) with id 32240110 in Manhanttan\n",
      "Sonder (NYC) with id 32240183 in Manhanttan\n",
      "Sonder (NYC) with id 32240186 in Manhanttan\n",
      "Sonder (NYC) with id 32240388 in Manhanttan\n",
      "Sonder (NYC) with id 32240417 in Manhanttan\n",
      "Sonder (NYC) with id 32240476 in Manhanttan\n",
      "Sonder (NYC) with id 32240488 in Manhanttan\n",
      "Sonder (NYC) with id 32240533 in Manhanttan\n",
      "Sonder (NYC) with id 32240537 in Manhanttan\n",
      "Sonder (NYC) with id 32240590 in Manhanttan\n",
      "Sonder (NYC) with id 32240603 in Manhanttan\n",
      "Sonder (NYC) with id 32240788 in Manhanttan\n",
      "Sonder (NYC) with id 32240812 in Manhanttan\n",
      "Sonder (NYC) with id 32240873 in Manhanttan\n",
      "Sonder (NYC) with id 32240896 in Manhanttan\n",
      "Sonder (NYC) with id 32240933 in Manhanttan\n",
      "Sonder (NYC) with id 32240966 in Manhanttan\n",
      "Sonder (NYC) with id 32240970 in Manhanttan\n",
      "Sonder (NYC) with id 32241019 in Manhanttan\n",
      "Sonder (NYC) with id 32241027 in Manhanttan\n",
      "Sonder (NYC) with id 32241060 in Manhanttan\n",
      "Sonder (NYC) with id 32241096 in Manhanttan\n",
      "Sonder (NYC) with id 32241117 in Manhanttan\n",
      "Sonder (NYC) with id 32241142 in Manhanttan\n",
      "Sonder (NYC) with id 32241163 in Manhanttan\n",
      "Sonder (NYC) with id 32241185 in Manhanttan\n",
      "Sonder (NYC) with id 32241235 in Manhanttan\n",
      "Sonder (NYC) with id 32241242 in Manhanttan\n",
      "Sonder (NYC) with id 32241284 in Manhanttan\n",
      "Sonder (NYC) with id 32241288 in Manhanttan\n",
      "Sonder (NYC) with id 32241577 in Manhanttan\n",
      "Sonder (NYC) with id 32241600 in Manhanttan\n",
      "Sonder (NYC) with id 32465145 in Manhanttan\n",
      "Sonder (NYC) with id 32466156 in Manhanttan\n",
      "Sonder (NYC) with id 32466179 in Manhanttan\n",
      "Sonder (NYC) with id 32466246 in Manhanttan\n",
      "Sonder (NYC) with id 32466254 in Manhanttan\n",
      "Sonder (NYC) with id 32466398 in Manhanttan\n",
      "Sonder (NYC) with id 32466401 in Manhanttan\n",
      "Sonder (NYC) with id 32466500 in Manhanttan\n",
      "Sonder (NYC) with id 32466778 in Manhanttan\n",
      "Sonder (NYC) with id 32467087 in Manhanttan\n",
      "Sonder (NYC) with id 32568130 in Manhanttan\n",
      "Sonder (NYC) with id 32568567 in Manhanttan\n",
      "Sonder (NYC) with id 32573359 in Manhanttan\n",
      "Sonder (NYC) with id 32590674 in Manhanttan\n",
      "Sonder (NYC) with id 32590792 in Manhanttan\n",
      "Sonder (NYC) with id 32590874 in Manhanttan\n",
      "Sonder (NYC) with id 32634265 in Manhanttan\n",
      "Sonder (NYC) with id 32634304 in Manhanttan\n",
      "Sonder (NYC) with id 32634435 in Manhanttan\n",
      "Sonder (NYC) with id 32634514 in Manhanttan\n",
      "Sonder (NYC) with id 32634671 in Manhanttan\n",
      "Sonder (NYC) with id 32634720 in Manhanttan\n",
      "Sonder (NYC) with id 32634839 in Manhanttan\n",
      "Sonder (NYC) with id 32634874 in Manhanttan\n",
      "Sonder (NYC) with id 32634964 in Manhanttan\n",
      "Sonder (NYC) with id 32635018 in Manhanttan\n",
      "Sonder (NYC) with id 32635717 in Manhanttan\n",
      "Sonder (NYC) with id 32635722 in Manhanttan\n",
      "Sonder (NYC) with id 32662408 in Manhanttan\n",
      "Sonder (NYC) with id 32663403 in Manhanttan\n",
      "Sonder (NYC) with id 32667711 in Manhanttan\n",
      "Sonder (NYC) with id 32667713 in Manhanttan\n",
      "Sonder (NYC) with id 32740310 in Manhanttan\n",
      "Sonder (NYC) with id 32740475 in Manhanttan\n",
      "Sonder (NYC) with id 32740570 in Manhanttan\n",
      "Sonder (NYC) with id 32808737 in Manhanttan\n",
      "Sonder (NYC) with id 32808879 in Manhanttan\n",
      "Sonder (NYC) with id 32840626 in Manhanttan\n",
      "Sonder (NYC) with id 32866678 in Manhanttan\n",
      "Sonder (NYC) with id 32890531 in Manhanttan\n",
      "Sonder (NYC) with id 32892533 in Manhanttan\n",
      "Sonder (NYC) with id 32983049 in Manhanttan\n",
      "Sonder (NYC) with id 33072230 in Manhanttan\n",
      "Sonder (NYC) with id 33219156 in Manhanttan\n",
      "Sonder (NYC) with id 33220339 in Manhanttan\n",
      "Sonder (NYC) with id 33527468 in Manhanttan\n",
      "Sonder (NYC) with id 33527778 in Manhanttan\n",
      "Sonder (NYC) with id 33527998 in Manhanttan\n",
      "Sonder (NYC) with id 33528090 in Manhanttan\n",
      "Sonder (NYC) with id 33580008 in Manhanttan\n",
      "Sonder (NYC) with id 33612527 in Manhanttan\n",
      "Sonder (NYC) with id 33634956 in Manhanttan\n",
      "Sonder (NYC) with id 33635065 in Manhanttan\n",
      "Sonder (NYC) with id 33635292 in Manhanttan\n",
      "Sonder (NYC) with id 33636056 in Manhanttan\n",
      "Sonder (NYC) with id 33636178 in Manhanttan\n",
      "Sonder (NYC) with id 33636366 in Manhanttan\n",
      "Sonder (NYC) with id 33636449 in Manhanttan\n",
      "Sonder (NYC) with id 33636535 in Manhanttan\n",
      "Sonder (NYC) with id 33640884 in Manhanttan\n",
      "Sonder (NYC) with id 33640885 in Manhanttan\n",
      "Sonder (NYC) with id 33708600 in Manhanttan\n",
      "Sonder (NYC) with id 33708769 in Manhanttan\n",
      "Sonder (NYC) with id 33709053 in Manhanttan\n",
      "Sonder (NYC) with id 33709253 in Manhanttan\n",
      "Sonder (NYC) with id 33709466 in Manhanttan\n",
      "Sonder (NYC) with id 33709502 in Manhanttan\n",
      "Sonder (NYC) with id 33709503 in Manhanttan\n",
      "Sonder (NYC) with id 33709508 in Manhanttan\n",
      "Sonder (NYC) with id 33709754 in Manhanttan\n",
      "Sonder (NYC) with id 33711092 in Manhanttan\n",
      "Sonder (NYC) with id 33711189 in Manhanttan\n",
      "Sonder (NYC) with id 33711384 in Manhanttan\n",
      "Sonder (NYC) with id 33711735 in Manhanttan\n",
      "Sonder (NYC) with id 33712004 in Manhanttan\n",
      "Sonder (NYC) with id 33716426 in Manhanttan\n",
      "Sonder (NYC) with id 33717547 in Manhanttan\n",
      "Sonder (NYC) with id 33717639 in Manhanttan\n",
      "Sonder (NYC) with id 33831113 in Manhanttan\n",
      "Sonder (NYC) with id 33831116 in Manhanttan\n",
      "Sonder (NYC) with id 33831120 in Manhanttan\n",
      "Sonder (NYC) with id 33833470 in Manhanttan\n",
      "Sonder (NYC) with id 33833636 in Manhanttan\n",
      "Sonder (NYC) with id 33833887 in Manhanttan\n",
      "Sonder (NYC) with id 33990380 in Manhanttan\n",
      "Sonder (NYC) with id 33990485 in Manhanttan\n",
      "Sonder (NYC) with id 33990639 in Manhanttan\n",
      "Sonder (NYC) with id 33990756 in Manhanttan\n",
      "Sonder (NYC) with id 33991062 in Manhanttan\n",
      "Sonder (NYC) with id 33992824 in Manhanttan\n",
      "Sonder (NYC) with id 33998142 in Manhanttan\n",
      "Sonder (NYC) with id 33998269 in Manhanttan\n",
      "Sonder (NYC) with id 33998291 in Manhanttan\n",
      "Sonder (NYC) with id 34017043 in Manhanttan\n",
      "Sonder (NYC) with id 34017119 in Manhanttan\n",
      "Sonder (NYC) with id 34086656 in Manhanttan\n",
      "Sonder (NYC) with id 34086800 in Manhanttan\n",
      "Sonder (NYC) with id 34086944 in Manhanttan\n",
      "Sonder (NYC) with id 34087090 in Manhanttan\n",
      "Sonder (NYC) with id 34087749 in Manhanttan\n",
      "Sonder (NYC) with id 34087750 in Manhanttan\n",
      "Sonder (NYC) with id 34115136 in Manhanttan\n",
      "Sonder (NYC) with id 34116613 in Manhanttan\n",
      "Sonder (NYC) with id 34118644 in Manhanttan\n",
      "Sonder (NYC) with id 34118872 in Manhanttan\n",
      "Sonder (NYC) with id 34118882 in Manhanttan\n",
      "Sonder (NYC) with id 34120717 in Manhanttan\n",
      "Sonder (NYC) with id 34120798 in Manhanttan\n",
      "Sonder (NYC) with id 34147375 in Manhanttan\n",
      "Sonder (NYC) with id 34147709 in Manhanttan\n",
      "Sonder (NYC) with id 34147733 in Manhanttan\n",
      "Sonder (NYC) with id 34147828 in Manhanttan\n",
      "Sonder (NYC) with id 34175707 in Manhanttan\n",
      "Sonder (NYC) with id 34177117 in Manhanttan\n",
      "Sonder (NYC) with id 34181682 in Manhanttan\n",
      "Sonder (NYC) with id 34183825 in Manhanttan\n",
      "Sonder (NYC) with id 34183895 in Manhanttan\n",
      "Sonder (NYC) with id 34202946 in Manhanttan\n",
      "Sonder (NYC) with id 34203594 in Manhanttan\n",
      "Sonder (NYC) with id 34203595 in Manhanttan\n",
      "Sonder (NYC) with id 34204602 in Manhanttan\n",
      "Sonder (NYC) with id 34205286 in Manhanttan\n",
      "Sonder (NYC) with id 34205501 in Manhanttan\n",
      "Sonder (NYC) with id 34206373 in Manhanttan\n",
      "Sonder (NYC) with id 34207536 in Manhanttan\n",
      "Sonder (NYC) with id 34207537 in Manhanttan\n",
      "Sonder (NYC) with id 34208508 in Manhanttan\n",
      "Sonder (NYC) with id 34208509 in Manhanttan\n",
      "Sonder (NYC) with id 34209885 in Manhanttan\n",
      "Sonder (NYC) with id 34211618 in Manhanttan\n",
      "Sonder (NYC) with id 34212511 in Manhanttan\n",
      "Sonder (NYC) with id 34213482 in Manhanttan\n",
      "Sonder (NYC) with id 34213836 in Manhanttan\n",
      "Sonder (NYC) with id 34214603 in Manhanttan\n",
      "Sonder (NYC) with id 34217313 in Manhanttan\n",
      "Sonder (NYC) with id 34222262 in Manhanttan\n",
      "Sonder (NYC) with id 34222263 in Manhanttan\n",
      "Sonder (NYC) with id 34230311 in Manhanttan\n",
      "Sonder (NYC) with id 34280267 in Manhanttan\n",
      "Sonder (NYC) with id 34284408 in Manhanttan\n",
      "Sonder (NYC) with id 34284409 in Manhanttan\n",
      "Sonder (NYC) with id 34286519 in Manhanttan\n",
      "Sonder (NYC) with id 34288305 in Manhanttan\n",
      "Sonder (NYC) with id 34289331 in Manhanttan\n",
      "Sonder (NYC) with id 34291583 in Manhanttan\n",
      "Sonder (NYC) with id 34311549 in Manhanttan\n",
      "Sonder (NYC) with id 34312320 in Manhanttan\n",
      "Sonder (NYC) with id 34313143 in Manhanttan\n",
      "Sonder (NYC) with id 34313960 in Manhanttan\n",
      "Sonder (NYC) with id 34315235 in Manhanttan\n",
      "Sonder (NYC) with id 34317924 in Manhanttan\n",
      "Sonder (NYC) with id 34323565 in Manhanttan\n",
      "Sonder (NYC) with id 34323571 in Manhanttan\n",
      "Sonder (NYC) with id 34323636 in Manhanttan\n",
      "Sonder (NYC) with id 34323638 in Manhanttan\n",
      "Sonder (NYC) with id 34323686 in Manhanttan\n",
      "Sonder (NYC) with id 34323697 in Manhanttan\n",
      "Sonder (NYC) with id 34323711 in Manhanttan\n",
      "Sonder (NYC) with id 34323730 in Manhanttan\n",
      "Sonder (NYC) with id 34341669 in Manhanttan\n",
      "Sonder (NYC) with id 34341994 in Manhanttan\n",
      "Sonder (NYC) with id 34566104 in Manhanttan\n",
      "Sonder (NYC) with id 34569621 in Manhanttan\n",
      "Sonder (NYC) with id 34569686 in Manhanttan\n",
      "Sonder (NYC) with id 34569757 in Manhanttan\n",
      "Sonder (NYC) with id 34569801 in Manhanttan\n",
      "Sonder (NYC) with id 34570002 in Manhanttan\n",
      "Sonder (NYC) with id 34570512 in Manhanttan\n",
      "Sonder (NYC) with id 34570764 in Manhanttan\n",
      "Sonder (NYC) with id 34570816 in Manhanttan\n",
      "Sonder (NYC) with id 34570839 in Manhanttan\n",
      "Sonder (NYC) with id 34570862 in Manhanttan\n",
      "Sonder (NYC) with id 34684980 in Manhanttan\n",
      "Sonder (NYC) with id 34711249 in Manhanttan\n",
      "Sonder (NYC) with id 34714078 in Manhanttan\n",
      "Sonder (NYC) with id 34714305 in Manhanttan\n",
      "Sonder (NYC) with id 34932971 in Manhanttan\n",
      "Sonder (NYC) with id 34933454 in Manhanttan\n",
      "Sonder (NYC) with id 34933648 in Manhanttan\n",
      "Sonder (NYC) with id 34933929 in Manhanttan\n",
      "Sonder (NYC) with id 34934218 in Manhanttan\n",
      "Sonder (NYC) with id 35005134 in Manhanttan\n",
      "Sonder (NYC) with id 35005171 in Manhanttan\n",
      "Sonder (NYC) with id 35005183 in Manhanttan\n",
      "Sonder (NYC) with id 35005197 in Manhanttan\n",
      "Sonder (NYC) with id 35005234 in Manhanttan\n",
      "Sonder (NYC) with id 35005258 in Manhanttan\n",
      "Sonder (NYC) with id 35005343 in Manhanttan\n",
      "Sonder (NYC) with id 35005526 in Manhanttan\n",
      "Sonder (NYC) with id 35005563 in Manhanttan\n",
      "Sonder (NYC) with id 35005592 in Manhanttan\n",
      "Sonder (NYC) with id 35005637 in Manhanttan\n",
      "Sonder (NYC) with id 35005670 in Manhanttan\n",
      "Sonder (NYC) with id 35005701 in Manhanttan\n",
      "Sonder (NYC) with id 35005793 in Manhanttan\n",
      "Sonder (NYC) with id 35005829 in Manhanttan\n",
      "Sonder (NYC) with id 35005862 in Manhanttan\n",
      "Sonder (NYC) with id 35005877 in Manhanttan\n",
      "Sonder (NYC) with id 35005936 in Manhanttan\n",
      "Sonder (NYC) with id 35005963 in Manhanttan\n",
      "Sonder (NYC) with id 35034032 in Manhanttan\n",
      "Sonder (NYC) with id 35155320 in Manhanttan\n",
      "Sonder (NYC) with id 35155541 in Manhanttan\n",
      "Sonder (NYC) with id 35793693 in Manhanttan\n",
      "Sonder (NYC) with id 35793784 in Manhanttan\n",
      "Sonder (NYC) with id 35869234 in Manhanttan\n",
      "Sonder (NYC) with id 35869466 in Manhanttan\n",
      "Sonder (NYC) with id 35871510 in Manhanttan\n",
      "Sonder (NYC) with id 35871511 in Manhanttan\n",
      "Sonder (NYC) with id 35871515 in Manhanttan\n",
      "Sonder (NYC) with id 35936418 in Manhanttan\n",
      "Sonder (NYC) with id 35937891 in Manhanttan\n",
      "--------------------\n",
      "--------------------\n"
     ]
    }
   ],
   "source": [
    "# finding the host name and the area his/her houses are located by the get() method from Hash Table\n",
    "for i in house_list:\n",
    "    if hashtableBronx.get(i) != \"No value can be found\":\n",
    "        print(hashtableBronx.get(i),\"with id\", i, \"in Bronx\")\n",
    "print(\"-\" * 20)    \n",
    "for i in house_list:\n",
    "    if hashtableBrooklyn.get(i) != \"No value can be found\":\n",
    "        print(hashtableBrooklyn.get(i),\"with id\", i, \"in Brooklyn\")\n",
    "print(\"-\" * 20)\n",
    "for i in house_list:\n",
    "    if hashtableManhattan.get(i) != \"No value can be found\":\n",
    "        print(hashtableManhattan.get(i), \"with id\", i, \"in Manhanttan\")\n",
    "print(\"-\" * 20)\n",
    "for i in house_list:\n",
    "    if hashtableQueens.get(i) != \"No value can be found\":\n",
    "        print(hashtableQueens.get(i), \"with id\", i, \"in Queens\")\n",
    "print(\"-\" * 20)\n",
    "for i in house_list:\n",
    "    if hashtableStatenIsland.get(i) != \"No value can be found\":\n",
    "        print(hashtableStatenIsland.get(i), \"with id\", i, \"in Staten Island\")"
   ]
  },
  {
   "cell_type": "markdown",
   "id": "loaded-lingerie",
   "metadata": {
    "papermill": {
     "duration": 0.116776,
     "end_time": "2021-05-25T06:20:24.169911",
     "exception": false,
     "start_time": "2021-05-25T06:20:24.053135",
     "status": "completed"
    },
    "tags": []
   },
   "source": [
    "Time complexity already explained for the Hash Table get() algorithm above"
   ]
  },
  {
   "cell_type": "markdown",
   "id": "ranking-welding",
   "metadata": {
    "papermill": {
     "duration": 0.114212,
     "end_time": "2021-05-25T06:20:24.401630",
     "exception": false,
     "start_time": "2021-05-25T06:20:24.287418",
     "status": "completed"
    },
    "tags": []
   },
   "source": [
    "****Sonder (NYC) is the most houses owned host we are looking for and all of her houses are located in only Manhanttan as the result you can see above****"
   ]
  },
  {
   "cell_type": "markdown",
   "id": "chemical-cleaner",
   "metadata": {
    "papermill": {
     "duration": 0.112517,
     "end_time": "2021-05-25T06:20:24.629067",
     "exception": false,
     "start_time": "2021-05-25T06:20:24.516550",
     "status": "completed"
    },
    "tags": []
   },
   "source": [
    "### Finding the second most houses owned host"
   ]
  },
  {
   "cell_type": "markdown",
   "id": "conventional-murray",
   "metadata": {
    "papermill": {
     "duration": 0.113474,
     "end_time": "2021-05-25T06:20:24.856897",
     "exception": false,
     "start_time": "2021-05-25T06:20:24.743423",
     "status": "completed"
    },
    "tags": []
   },
   "source": [
    "We can see from the inorder traverse algorithm of the Binary Tree, the second largest number is 232"
   ]
  },
  {
   "cell_type": "markdown",
   "id": "changing-harvey",
   "metadata": {
    "papermill": {
     "duration": 0.113664,
     "end_time": "2021-05-25T06:20:25.085771",
     "exception": false,
     "start_time": "2021-05-25T06:20:24.972107",
     "status": "completed"
    },
    "tags": []
   },
   "source": [
    "Which mean the most houses owned busiest host has 232 different houses"
   ]
  },
  {
   "cell_type": "code",
   "execution_count": 70,
   "id": "adult-football",
   "metadata": {
    "execution": {
     "iopub.execute_input": "2021-05-25T06:20:25.335398Z",
     "iopub.status.busy": "2021-05-25T06:20:25.325040Z",
     "iopub.status.idle": "2021-05-25T06:20:25.972646Z",
     "shell.execute_reply": "2021-05-25T06:20:25.971974Z",
     "shell.execute_reply.started": "2021-05-25T06:17:31.613250Z"
    },
    "papermill": {
     "duration": 0.772039,
     "end_time": "2021-05-25T06:20:25.972783",
     "exception": false,
     "start_time": "2021-05-25T06:20:25.200744",
     "status": "completed"
    },
    "tags": []
   },
   "outputs": [],
   "source": [
    "# Find all the houses associated with this second host through host id\n",
    "house_list_2 = []\n",
    "for i in range(len(dataset.calculated_host_listings_count)):\n",
    "    if dataset.calculated_host_listings_count[i] == 232:\n",
    "        house_list_2.append(dataset.id[i])\n",
    "       \n"
   ]
  },
  {
   "cell_type": "code",
   "execution_count": 71,
   "id": "middle-adjustment",
   "metadata": {
    "execution": {
     "iopub.execute_input": "2021-05-25T06:20:26.217971Z",
     "iopub.status.busy": "2021-05-25T06:20:26.217191Z",
     "iopub.status.idle": "2021-05-25T06:20:26.221019Z",
     "shell.execute_reply": "2021-05-25T06:20:26.220417Z",
     "shell.execute_reply.started": "2021-05-25T06:17:32.857338Z"
    },
    "papermill": {
     "duration": 0.135637,
     "end_time": "2021-05-25T06:20:26.221179",
     "exception": false,
     "start_time": "2021-05-25T06:20:26.085542",
     "status": "completed"
    },
    "tags": []
   },
   "outputs": [
    {
     "name": "stdout",
     "output_type": "stream",
     "text": [
      "232\n"
     ]
    }
   ],
   "source": [
    "print(len(house_list_2))"
   ]
  },
  {
   "cell_type": "code",
   "execution_count": 72,
   "id": "headed-meaning",
   "metadata": {
    "execution": {
     "iopub.execute_input": "2021-05-25T06:20:26.493891Z",
     "iopub.status.busy": "2021-05-25T06:20:26.492902Z",
     "iopub.status.idle": "2021-05-25T06:20:26.602920Z",
     "shell.execute_reply": "2021-05-25T06:20:26.601795Z",
     "shell.execute_reply.started": "2021-05-25T06:17:34.326214Z"
    },
    "papermill": {
     "duration": 0.24521,
     "end_time": "2021-05-25T06:20:26.603115",
     "exception": false,
     "start_time": "2021-05-25T06:20:26.357905",
     "status": "completed"
    },
    "tags": []
   },
   "outputs": [
    {
     "name": "stdout",
     "output_type": "stream",
     "text": [
      "--------------------\n",
      "Blueground with id 30638114 in Brooklyn\n",
      "Blueground with id 36404936 in Brooklyn\n",
      "--------------------\n",
      "Blueground with id 20845031 in Manhanttan\n",
      "Blueground with id 22370388 in Manhanttan\n",
      "Blueground with id 23264421 in Manhanttan\n",
      "Blueground with id 23538486 in Manhanttan\n",
      "Blueground with id 24535218 in Manhanttan\n",
      "Blueground with id 24594717 in Manhanttan\n",
      "Blueground with id 24960138 in Manhanttan\n",
      "Blueground with id 25823670 in Manhanttan\n",
      "Blueground with id 26982403 in Manhanttan\n",
      "Blueground with id 28095496 in Manhanttan\n",
      "Blueground with id 28329243 in Manhanttan\n",
      "Blueground with id 28684892 in Manhanttan\n",
      "Blueground with id 28849818 in Manhanttan\n",
      "Blueground with id 29225254 in Manhanttan\n",
      "Blueground with id 29225417 in Manhanttan\n",
      "Blueground with id 29327591 in Manhanttan\n",
      "Blueground with id 29331191 in Manhanttan\n",
      "Blueground with id 30006770 in Manhanttan\n",
      "Blueground with id 30006962 in Manhanttan\n",
      "Blueground with id 30030480 in Manhanttan\n",
      "Blueground with id 30031616 in Manhanttan\n",
      "Blueground with id 30033284 in Manhanttan\n",
      "Blueground with id 30201476 in Manhanttan\n",
      "Blueground with id 30369420 in Manhanttan\n",
      "Blueground with id 30369889 in Manhanttan\n",
      "Blueground with id 30387064 in Manhanttan\n",
      "Blueground with id 30387132 in Manhanttan\n",
      "Blueground with id 30387173 in Manhanttan\n",
      "Blueground with id 30387196 in Manhanttan\n",
      "Blueground with id 30387218 in Manhanttan\n",
      "Blueground with id 30387263 in Manhanttan\n",
      "Blueground with id 30387280 in Manhanttan\n",
      "Blueground with id 30387305 in Manhanttan\n",
      "Blueground with id 30387328 in Manhanttan\n",
      "Blueground with id 30387351 in Manhanttan\n",
      "Blueground with id 30387377 in Manhanttan\n",
      "Blueground with id 30387425 in Manhanttan\n",
      "Blueground with id 30387445 in Manhanttan\n",
      "Blueground with id 30387469 in Manhanttan\n",
      "Blueground with id 30387495 in Manhanttan\n",
      "Blueground with id 30387553 in Manhanttan\n",
      "Blueground with id 30387566 in Manhanttan\n",
      "Blueground with id 30387600 in Manhanttan\n",
      "Blueground with id 30387648 in Manhanttan\n",
      "Blueground with id 30387788 in Manhanttan\n",
      "Blueground with id 30387820 in Manhanttan\n",
      "Blueground with id 30387838 in Manhanttan\n",
      "Blueground with id 30387856 in Manhanttan\n",
      "Blueground with id 30387885 in Manhanttan\n",
      "Blueground with id 30387916 in Manhanttan\n",
      "Blueground with id 30387960 in Manhanttan\n",
      "Blueground with id 30387983 in Manhanttan\n",
      "Blueground with id 30388011 in Manhanttan\n",
      "Blueground with id 30388057 in Manhanttan\n",
      "Blueground with id 30388079 in Manhanttan\n",
      "Blueground with id 30388100 in Manhanttan\n",
      "Blueground with id 30388159 in Manhanttan\n",
      "Blueground with id 30388225 in Manhanttan\n",
      "Blueground with id 30388284 in Manhanttan\n",
      "Blueground with id 30388313 in Manhanttan\n",
      "Blueground with id 30388333 in Manhanttan\n",
      "Blueground with id 30388352 in Manhanttan\n",
      "Blueground with id 30388383 in Manhanttan\n",
      "Blueground with id 30388429 in Manhanttan\n",
      "Blueground with id 30388449 in Manhanttan\n",
      "Blueground with id 30388479 in Manhanttan\n",
      "Blueground with id 30388528 in Manhanttan\n",
      "Blueground with id 30388552 in Manhanttan\n",
      "Blueground with id 30388587 in Manhanttan\n",
      "Blueground with id 30388617 in Manhanttan\n",
      "Blueground with id 30388668 in Manhanttan\n",
      "Blueground with id 30388718 in Manhanttan\n",
      "Blueground with id 30388750 in Manhanttan\n",
      "Blueground with id 30388841 in Manhanttan\n",
      "Blueground with id 30388944 in Manhanttan\n",
      "Blueground with id 30388972 in Manhanttan\n",
      "Blueground with id 30388999 in Manhanttan\n",
      "Blueground with id 30389026 in Manhanttan\n",
      "Blueground with id 30389066 in Manhanttan\n",
      "Blueground with id 30389115 in Manhanttan\n",
      "Blueground with id 30389147 in Manhanttan\n",
      "Blueground with id 30389192 in Manhanttan\n",
      "Blueground with id 30389224 in Manhanttan\n",
      "Blueground with id 30389263 in Manhanttan\n",
      "Blueground with id 30389280 in Manhanttan\n",
      "Blueground with id 30389309 in Manhanttan\n",
      "Blueground with id 30389336 in Manhanttan\n",
      "Blueground with id 30389441 in Manhanttan\n",
      "Blueground with id 30389474 in Manhanttan\n",
      "Blueground with id 30389504 in Manhanttan\n",
      "Blueground with id 30389559 in Manhanttan\n",
      "Blueground with id 30389586 in Manhanttan\n",
      "Blueground with id 30389608 in Manhanttan\n",
      "Blueground with id 30392517 in Manhanttan\n",
      "Blueground with id 30392543 in Manhanttan\n",
      "Blueground with id 30392569 in Manhanttan\n",
      "Blueground with id 30392623 in Manhanttan\n",
      "Blueground with id 30392649 in Manhanttan\n",
      "Blueground with id 30392677 in Manhanttan\n",
      "Blueground with id 30392704 in Manhanttan\n",
      "Blueground with id 30392780 in Manhanttan\n",
      "Blueground with id 30392806 in Manhanttan\n",
      "Blueground with id 30392834 in Manhanttan\n",
      "Blueground with id 30392874 in Manhanttan\n",
      "Blueground with id 30392909 in Manhanttan\n",
      "Blueground with id 30392930 in Manhanttan\n",
      "Blueground with id 30392986 in Manhanttan\n",
      "Blueground with id 30393018 in Manhanttan\n",
      "Blueground with id 30393045 in Manhanttan\n",
      "Blueground with id 30393099 in Manhanttan\n",
      "Blueground with id 30393171 in Manhanttan\n",
      "Blueground with id 30393194 in Manhanttan\n",
      "Blueground with id 30393223 in Manhanttan\n",
      "Blueground with id 30393251 in Manhanttan\n",
      "Blueground with id 30393286 in Manhanttan\n",
      "Blueground with id 30393322 in Manhanttan\n",
      "Blueground with id 30393342 in Manhanttan\n",
      "Blueground with id 30393355 in Manhanttan\n",
      "Blueground with id 30393377 in Manhanttan\n",
      "Blueground with id 30393414 in Manhanttan\n",
      "Blueground with id 30393464 in Manhanttan\n",
      "Blueground with id 30393497 in Manhanttan\n",
      "Blueground with id 30393527 in Manhanttan\n",
      "Blueground with id 30393555 in Manhanttan\n",
      "Blueground with id 30393583 in Manhanttan\n",
      "Blueground with id 30393609 in Manhanttan\n",
      "Blueground with id 30393638 in Manhanttan\n",
      "Blueground with id 30393670 in Manhanttan\n",
      "Blueground with id 30393689 in Manhanttan\n",
      "Blueground with id 30393759 in Manhanttan\n",
      "Blueground with id 30393778 in Manhanttan\n",
      "Blueground with id 30393803 in Manhanttan\n",
      "Blueground with id 30393836 in Manhanttan\n",
      "Blueground with id 30393882 in Manhanttan\n",
      "Blueground with id 30393896 in Manhanttan\n",
      "Blueground with id 30393921 in Manhanttan\n",
      "Blueground with id 30393944 in Manhanttan\n",
      "Blueground with id 30393969 in Manhanttan\n",
      "Blueground with id 30393998 in Manhanttan\n",
      "Blueground with id 30394018 in Manhanttan\n",
      "Blueground with id 30394053 in Manhanttan\n",
      "Blueground with id 30394071 in Manhanttan\n",
      "Blueground with id 30394105 in Manhanttan\n",
      "Blueground with id 30394133 in Manhanttan\n",
      "Blueground with id 30394155 in Manhanttan\n",
      "Blueground with id 30394179 in Manhanttan\n",
      "Blueground with id 30394203 in Manhanttan\n",
      "Blueground with id 30394223 in Manhanttan\n",
      "Blueground with id 30394274 in Manhanttan\n",
      "Blueground with id 30394324 in Manhanttan\n",
      "Blueground with id 30394340 in Manhanttan\n",
      "Blueground with id 30394380 in Manhanttan\n",
      "Blueground with id 30394403 in Manhanttan\n",
      "Blueground with id 30394423 in Manhanttan\n",
      "Blueground with id 30394446 in Manhanttan\n",
      "Blueground with id 30394467 in Manhanttan\n",
      "Blueground with id 30394494 in Manhanttan\n",
      "Blueground with id 30394518 in Manhanttan\n",
      "Blueground with id 30394541 in Manhanttan\n",
      "Blueground with id 30394622 in Manhanttan\n",
      "Blueground with id 30421561 in Manhanttan\n",
      "Blueground with id 30557583 in Manhanttan\n",
      "Blueground with id 30736279 in Manhanttan\n",
      "Blueground with id 30842262 in Manhanttan\n",
      "Blueground with id 31012734 in Manhanttan\n",
      "Blueground with id 31038331 in Manhanttan\n",
      "Blueground with id 31038347 in Manhanttan\n",
      "Blueground with id 31084737 in Manhanttan\n",
      "Blueground with id 31405999 in Manhanttan\n",
      "Blueground with id 31435734 in Manhanttan\n",
      "Blueground with id 31435773 in Manhanttan\n",
      "Blueground with id 31549470 in Manhanttan\n",
      "Blueground with id 31580460 in Manhanttan\n",
      "Blueground with id 31584089 in Manhanttan\n",
      "Blueground with id 31726939 in Manhanttan\n",
      "Blueground with id 31794109 in Manhanttan\n",
      "Blueground with id 31871475 in Manhanttan\n",
      "Blueground with id 32234674 in Manhanttan\n",
      "Blueground with id 32306605 in Manhanttan\n",
      "Blueground with id 32347436 in Manhanttan\n",
      "Blueground with id 32347622 in Manhanttan\n",
      "Blueground with id 32347796 in Manhanttan\n",
      "Blueground with id 32399523 in Manhanttan\n",
      "Blueground with id 32856048 in Manhanttan\n",
      "Blueground with id 32926087 in Manhanttan\n",
      "Blueground with id 33038567 in Manhanttan\n",
      "Blueground with id 33184032 in Manhanttan\n",
      "Blueground with id 33577934 in Manhanttan\n",
      "Blueground with id 33578217 in Manhanttan\n",
      "Blueground with id 33607276 in Manhanttan\n",
      "Blueground with id 33607399 in Manhanttan\n",
      "Blueground with id 33656088 in Manhanttan\n",
      "Blueground with id 33656120 in Manhanttan\n",
      "Blueground with id 33656146 in Manhanttan\n",
      "Blueground with id 33656304 in Manhanttan\n",
      "Blueground with id 33728093 in Manhanttan\n",
      "Blueground with id 33787919 in Manhanttan\n",
      "Blueground with id 33891559 in Manhanttan\n",
      "Blueground with id 34008808 in Manhanttan\n",
      "Blueground with id 34009172 in Manhanttan\n",
      "Blueground with id 34009196 in Manhanttan\n",
      "Blueground with id 34009215 in Manhanttan\n",
      "Blueground with id 34136999 in Manhanttan\n",
      "Blueground with id 34137207 in Manhanttan\n",
      "Blueground with id 34138042 in Manhanttan\n",
      "Blueground with id 34138100 in Manhanttan\n",
      "Blueground with id 34169395 in Manhanttan\n",
      "Blueground with id 34306772 in Manhanttan\n",
      "Blueground with id 34306801 in Manhanttan\n",
      "Blueground with id 34306827 in Manhanttan\n",
      "Blueground with id 34309557 in Manhanttan\n",
      "Blueground with id 34384911 in Manhanttan\n",
      "Blueground with id 34384950 in Manhanttan\n",
      "Blueground with id 34592979 in Manhanttan\n",
      "Blueground with id 34593016 in Manhanttan\n",
      "Blueground with id 34593055 in Manhanttan\n",
      "Blueground with id 34593096 in Manhanttan\n",
      "Blueground with id 36315540 in Manhanttan\n",
      "Blueground with id 36315612 in Manhanttan\n",
      "Blueground with id 36315657 in Manhanttan\n",
      "Blueground with id 36315692 in Manhanttan\n",
      "Blueground with id 36315721 in Manhanttan\n",
      "Blueground with id 36315759 in Manhanttan\n",
      "Blueground with id 36315794 in Manhanttan\n",
      "Blueground with id 36315828 in Manhanttan\n",
      "Blueground with id 36404568 in Manhanttan\n",
      "Blueground with id 36404684 in Manhanttan\n",
      "Blueground with id 36404784 in Manhanttan\n",
      "Blueground with id 36404815 in Manhanttan\n",
      "Blueground with id 36404972 in Manhanttan\n",
      "--------------------\n",
      "--------------------\n"
     ]
    }
   ],
   "source": [
    "# finding the host name and the area his/her houses are located by the get() method from Hash Table\n",
    "for i in house_list_2:\n",
    "    if hashtableBronx.get(i) != \"No value can be found\":\n",
    "        print(hashtableBronx.get(i),\"with id\", i, \"in Bronx\")\n",
    "print(\"-\" * 20)    \n",
    "for i in house_list_2:\n",
    "    if hashtableBrooklyn.get(i) != \"No value can be found\":\n",
    "        print(hashtableBrooklyn.get(i),\"with id\", i, \"in Brooklyn\")\n",
    "print(\"-\" * 20)\n",
    "for i in house_list_2:\n",
    "    if hashtableManhattan.get(i) != \"No value can be found\":\n",
    "        print(hashtableManhattan.get(i), \"with id\", i, \"in Manhanttan\")\n",
    "print(\"-\" * 20)\n",
    "for i in house_list_2:\n",
    "    if hashtableQueens.get(i) != \"No value can be found\":\n",
    "        print(hashtableQueens.get(i), \"with id\", i, \"in Queens\")\n",
    "print(\"-\" * 20)\n",
    "for i in house_list_2:\n",
    "    if hashtableStatenIsland.get(i) != \"No value can be found\":\n",
    "        print(hashtableStatenIsland.get(i), \"with id\", i, \"in Staten Island\")"
   ]
  },
  {
   "cell_type": "markdown",
   "id": "graduate-minimum",
   "metadata": {
    "papermill": {
     "duration": 0.115481,
     "end_time": "2021-05-25T06:20:26.835194",
     "exception": false,
     "start_time": "2021-05-25T06:20:26.719713",
     "status": "completed"
    },
    "tags": []
   },
   "source": [
    "****Blueground is the second host we are looking for, most of Blueground's houses are in Manhanttan just like Sonder (NYC). But unlike Sonder, he/she has  houses from other area, which is Brooklyn  ****"
   ]
  },
  {
   "cell_type": "markdown",
   "id": "canadian-forth",
   "metadata": {
    "papermill": {
     "duration": 0.114375,
     "end_time": "2021-05-25T06:20:27.064777",
     "exception": false,
     "start_time": "2021-05-25T06:20:26.950402",
     "status": "completed"
    },
    "tags": []
   },
   "source": [
    "## Finding the busiest hosts with availability_365"
   ]
  },
  {
   "cell_type": "code",
   "execution_count": 73,
   "id": "vulnerable-barcelona",
   "metadata": {
    "execution": {
     "iopub.execute_input": "2021-05-25T06:20:27.302036Z",
     "iopub.status.busy": "2021-05-25T06:20:27.301376Z",
     "iopub.status.idle": "2021-05-25T06:20:27.304598Z",
     "shell.execute_reply": "2021-05-25T06:20:27.305124Z",
     "shell.execute_reply.started": "2021-05-25T06:17:39.739304Z"
    },
    "papermill": {
     "duration": 0.125383,
     "end_time": "2021-05-25T06:20:27.305301",
     "exception": false,
     "start_time": "2021-05-25T06:20:27.179918",
     "status": "completed"
    },
    "tags": []
   },
   "outputs": [
    {
     "name": "stdout",
     "output_type": "stream",
     "text": [
      "0        365\n",
      "1        355\n",
      "2        365\n",
      "3        194\n",
      "4          0\n",
      "        ... \n",
      "48890      9\n",
      "48891     36\n",
      "48892     27\n",
      "48893      2\n",
      "48894     23\n",
      "Name: availability_365, Length: 48895, dtype: int64\n"
     ]
    }
   ],
   "source": [
    "print(dataset.availability_365)"
   ]
  },
  {
   "cell_type": "code",
   "execution_count": 74,
   "id": "sought-debut",
   "metadata": {
    "execution": {
     "iopub.execute_input": "2021-05-25T06:20:27.539569Z",
     "iopub.status.busy": "2021-05-25T06:20:27.538586Z",
     "iopub.status.idle": "2021-05-25T06:20:28.384445Z",
     "shell.execute_reply": "2021-05-25T06:20:28.384935Z",
     "shell.execute_reply.started": "2021-05-25T06:17:41.674644Z"
    },
    "papermill": {
     "duration": 0.964849,
     "end_time": "2021-05-25T06:20:28.385130",
     "exception": false,
     "start_time": "2021-05-25T06:20:27.420281",
     "status": "completed"
    },
    "tags": []
   },
   "outputs": [],
   "source": [
    "# Put all availability_365 variables into Binary Tree Data Structure to implement the Binary Tree Search Algorithm\n",
    "bst_availability_365 = BinarySearchTree()\n",
    "for i in range(len(dataset.availability_365)):\n",
    "    bst_availability_365.insert(dataset.availability_365[i])"
   ]
  },
  {
   "cell_type": "code",
   "execution_count": 75,
   "id": "advised-stephen",
   "metadata": {
    "execution": {
     "iopub.execute_input": "2021-05-25T06:20:28.613003Z",
     "iopub.status.busy": "2021-05-25T06:20:28.612050Z",
     "iopub.status.idle": "2021-05-25T06:20:28.617872Z",
     "shell.execute_reply": "2021-05-25T06:20:28.617294Z",
     "shell.execute_reply.started": "2021-05-25T06:17:43.009560Z"
    },
    "papermill": {
     "duration": 0.120574,
     "end_time": "2021-05-25T06:20:28.618005",
     "exception": false,
     "start_time": "2021-05-25T06:20:28.497431",
     "status": "completed"
    },
    "tags": []
   },
   "outputs": [
    {
     "data": {
      "text/plain": [
       "365"
      ]
     },
     "execution_count": 75,
     "metadata": {},
     "output_type": "execute_result"
    }
   ],
   "source": [
    "# Get the maximum availability_365\n",
    "bst_availability_365.get_max()"
   ]
  },
  {
   "cell_type": "markdown",
   "id": "treated-finding",
   "metadata": {
    "papermill": {
     "duration": 0.113988,
     "end_time": "2021-05-25T06:20:28.845054",
     "exception": false,
     "start_time": "2021-05-25T06:20:28.731066",
     "status": "completed"
    },
    "tags": []
   },
   "source": [
    "The busiest hosts are the hosts with rooms that listing is always available for booking in a year as the get_max() return the value of 365"
   ]
  },
  {
   "cell_type": "code",
   "execution_count": 76,
   "id": "stainless-place",
   "metadata": {
    "execution": {
     "iopub.execute_input": "2021-05-25T06:20:29.103137Z",
     "iopub.status.busy": "2021-05-25T06:20:29.097880Z",
     "iopub.status.idle": "2021-05-25T06:20:29.744449Z",
     "shell.execute_reply": "2021-05-25T06:20:29.743824Z",
     "shell.execute_reply.started": "2021-05-25T06:17:44.559725Z"
    },
    "papermill": {
     "duration": 0.785167,
     "end_time": "2021-05-25T06:20:29.744584",
     "exception": false,
     "start_time": "2021-05-25T06:20:28.959417",
     "status": "completed"
    },
    "tags": []
   },
   "outputs": [],
   "source": [
    "# Find all the houses associated with this busiest hostthrough host id\n",
    "availability_list = []\n",
    "for i in range(len(dataset.availability_365)):\n",
    "    if dataset.availability_365[i] == bst_availability_365.get_max():\n",
    "        availability_list.append(dataset.id[i])\n",
    "       "
   ]
  },
  {
   "cell_type": "code",
   "execution_count": 77,
   "id": "religious-multiple",
   "metadata": {
    "execution": {
     "iopub.execute_input": "2021-05-25T06:20:29.978601Z",
     "iopub.status.busy": "2021-05-25T06:20:29.977851Z",
     "iopub.status.idle": "2021-05-25T06:20:29.981053Z",
     "shell.execute_reply": "2021-05-25T06:20:29.982118Z",
     "shell.execute_reply.started": "2021-05-25T06:17:46.015013Z"
    },
    "papermill": {
     "duration": 0.123443,
     "end_time": "2021-05-25T06:20:29.982354",
     "exception": false,
     "start_time": "2021-05-25T06:20:29.858911",
     "status": "completed"
    },
    "tags": []
   },
   "outputs": [
    {
     "name": "stdout",
     "output_type": "stream",
     "text": [
      "1295\n"
     ]
    }
   ],
   "source": [
    "print(len(availability_list))"
   ]
  },
  {
   "cell_type": "code",
   "execution_count": 78,
   "id": "differential-tourist",
   "metadata": {
    "execution": {
     "iopub.execute_input": "2021-05-25T06:20:30.228434Z",
     "iopub.status.busy": "2021-05-25T06:20:30.227362Z",
     "iopub.status.idle": "2021-05-25T06:20:30.911000Z",
     "shell.execute_reply": "2021-05-25T06:20:30.910485Z",
     "shell.execute_reply.started": "2021-05-25T06:17:47.503091Z"
    },
    "papermill": {
     "duration": 0.811789,
     "end_time": "2021-05-25T06:20:30.911148",
     "exception": false,
     "start_time": "2021-05-25T06:20:30.099359",
     "status": "completed"
    },
    "tags": []
   },
   "outputs": [
    {
     "name": "stdout",
     "output_type": "stream",
     "text": [
      "Vie with id 63610 in Bronx\n",
      "David with id 1956677 in Bronx\n",
      "Emery with id 2223628 in Bronx\n",
      "Angel with id 2628191 in Bronx\n",
      "Ada Azra with id 2772111 in Bronx\n",
      "Julio with id 3627326 in Bronx\n",
      "Vie with id 4093399 in Bronx\n",
      "Carol Gloria with id 4278389 in Bronx\n",
      "Junior with id 6256470 in Bronx\n",
      "John with id 11497938 in Bronx\n",
      "Andrea with id 12988898 in Bronx\n",
      "Francisca with id 15754561 in Bronx\n",
      "Evguenia with id 16058082 in Bronx\n",
      "Misael with id 16186828 in Bronx\n",
      "Jeremiah with id 16506121 in Bronx\n",
      "Justine with id 16781601 in Bronx\n",
      "Zain with id 17880254 in Bronx\n",
      "Carlton with id 18078720 in Bronx\n",
      "Aminata Mody with id 18546787 in Bronx\n",
      "Justine with id 18992796 in Bronx\n",
      "Justine with id 20817614 in Bronx\n",
      "Mercedes with id 21405904 in Bronx\n",
      "Rashida with id 21739805 in Bronx\n",
      "Nguyen with id 21960659 in Bronx\n",
      "Mandela with id 22400368 in Bronx\n",
      "Zain with id 23859490 in Bronx\n",
      "Christophe with id 24122725 in Bronx\n",
      "Lamesha with id 25287115 in Bronx\n",
      "Camille with id 26003692 in Bronx\n",
      "Rees with id 26137778 in Bronx\n",
      "Deon with id 26142708 in Bronx\n",
      "Carol Gloria with id 26518547 in Bronx\n",
      "Catherine with id 27808723 in Bronx\n",
      "Catherine with id 27817851 in Bronx\n",
      "Steve with id 28206177 in Bronx\n",
      "Aaron with id 28522394 in Bronx\n",
      "Steve with id 28567040 in Bronx\n",
      "Wayne with id 30314964 in Bronx\n",
      "Marii with id 30326645 in Bronx\n",
      "Vie with id 31225319 in Bronx\n",
      "Catherine with id 32062178 in Bronx\n",
      "Joe with id 32403617 in Bronx\n",
      "Xian with id 32808836 in Bronx\n",
      "Juice with id 32897532 in Bronx\n",
      "Nanyuma with id 33315073 in Bronx\n",
      "Imperial with id 34547780 in Bronx\n",
      "Orit with id 34718463 in Bronx\n",
      "Juice with id 34851748 in Bronx\n",
      "Ashley with id 34860549 in Bronx\n",
      "Curtis with id 34868325 in Bronx\n",
      "Joan with id 35170169 in Bronx\n",
      "Carsandra with id 35648435 in Bronx\n",
      "Dennis with id 35866719 in Bronx\n",
      "Dennis with id 35891506 in Bronx\n",
      "--------------------\n",
      "John with id 2539 in Brooklyn\n",
      "Vt with id 11452 in Brooklyn\n",
      "Harriet with id 11943 in Brooklyn\n",
      "Sahr with id 32037 in Brooklyn\n",
      "Antonín with id 63546 in Brooklyn\n",
      "Sahr with id 89427 in Brooklyn\n",
      "Sadatu with id 94209 in Brooklyn\n",
      "Sahr with id 96471 in Brooklyn\n",
      "Antonín with id 125594 in Brooklyn\n",
      "Pepe with id 158290 in Brooklyn\n",
      "Alon with id 243229 in Brooklyn\n",
      "Javier Pedraza with id 270680 in Brooklyn\n",
      "Javier Pedraza with id 270681 in Brooklyn\n",
      "Dena with id 276216 in Brooklyn\n",
      "Rosa with id 277207 in Brooklyn\n",
      "Marvet with id 352651 in Brooklyn\n",
      "Shell with id 414801 in Brooklyn\n",
      "Jenna with id 525388 in Brooklyn\n",
      "Tom with id 545261 in Brooklyn\n",
      "Yonatan with id 548184 in Brooklyn\n",
      "Steve with id 553862 in Brooklyn\n",
      "Alessandra with id 568684 in Brooklyn\n",
      "Stephon & Luke with id 577824 in Brooklyn\n",
      "Wendy with id 607735 in Brooklyn\n",
      "Ryan with id 644464 in Brooklyn\n",
      "Edward with id 651648 in Brooklyn\n",
      "Ruth with id 659880 in Brooklyn\n",
      "Lina with id 667549 in Brooklyn\n",
      "Roberto with id 702213 in Brooklyn\n",
      "Marvet with id 703971 in Brooklyn\n",
      "Santiago with id 773497 in Brooklyn\n",
      "Aziza with id 778381 in Brooklyn\n",
      "Jerbean with id 819956 in Brooklyn\n",
      "Alex & Britta with id 843524 in Brooklyn\n",
      "Julie with id 850148 in Brooklyn\n",
      "Tara with id 857810 in Brooklyn\n",
      "Vivian with id 883209 in Brooklyn\n",
      "Andrew with id 890839 in Brooklyn\n",
      "Michael with id 941179 in Brooklyn\n",
      "Kayla with id 960210 in Brooklyn\n",
      "Lorna with id 985338 in Brooklyn\n",
      "Shahdiya with id 992977 in Brooklyn\n",
      "Chris with id 1009973 in Brooklyn\n",
      "Alicia with id 1018181 in Brooklyn\n",
      "Wilfredo with id 1098863 in Brooklyn\n",
      "Paresh with id 1137093 in Brooklyn\n",
      "Dawn with id 1183005 in Brooklyn\n",
      "Matt with id 1251889 in Brooklyn\n",
      "Lenny with id 1256768 in Brooklyn\n",
      "Adero with id 1264663 in Brooklyn\n",
      "Jesse with id 1316961 in Brooklyn\n",
      "Peter with id 1322432 in Brooklyn\n",
      "Joanne with id 1374457 in Brooklyn\n",
      "Ben with id 1425801 in Brooklyn\n",
      "Aqila with id 1442450 in Brooklyn\n",
      "Irene with id 1503618 in Brooklyn\n",
      "Alex with id 1534212 in Brooklyn\n",
      "Yvonne with id 1690764 in Brooklyn\n",
      "Reginald with id 1844705 in Brooklyn\n",
      "Vivian with id 1898110 in Brooklyn\n",
      "Harry with id 1981656 in Brooklyn\n",
      "Vida with id 2126576 in Brooklyn\n",
      "Ajang with id 2136511 in Brooklyn\n",
      "Benjamin with id 2160591 in Brooklyn\n",
      "Brett with id 2169106 in Brooklyn\n",
      "Clayton with id 2297259 in Brooklyn\n",
      "Vida with id 2314553 in Brooklyn\n",
      "Krystal with id 2361020 in Brooklyn\n",
      "Vashti with id 2684223 in Brooklyn\n",
      "Jessica with id 2952861 in Brooklyn\n",
      "Jessica with id 2953058 in Brooklyn\n",
      "Jessica with id 2969427 in Brooklyn\n",
      "Tenisha & Marty with id 3145484 in Brooklyn\n",
      "Folake with id 3209866 in Brooklyn\n",
      "Benjamin with id 3249726 in Brooklyn\n",
      "Randall with id 3415102 in Brooklyn\n",
      "Lionel with id 3432660 in Brooklyn\n",
      "Lionel with id 3479019 in Brooklyn\n",
      "Shell with id 3552043 in Brooklyn\n",
      "Ken with id 3583482 in Brooklyn\n",
      "Vida with id 3636967 in Brooklyn\n",
      "Drew & Kristen with id 3674757 in Brooklyn\n",
      "Parris with id 3683236 in Brooklyn\n",
      "Arleta with id 3693901 in Brooklyn\n",
      "Terry with id 3703805 in Brooklyn\n",
      "Nicole with id 3904135 in Brooklyn\n",
      "Tony with id 3908257 in Brooklyn\n",
      "Stephanie with id 3914962 in Brooklyn\n",
      "Ade with id 3946471 in Brooklyn\n",
      "Fagan with id 4089492 in Brooklyn\n",
      "Clarise with id 4179420 in Brooklyn\n",
      "Ken with id 4263880 in Brooklyn\n",
      "Tony with id 4280053 in Brooklyn\n",
      "Murad with id 4339924 in Brooklyn\n",
      "Tony with id 4366049 in Brooklyn\n",
      "Michelle with id 4405874 in Brooklyn\n",
      "Ingrid with id 4603954 in Brooklyn\n",
      "Danny with id 4718436 in Brooklyn\n",
      "Kylie with id 4752249 in Brooklyn\n",
      "Tanda with id 4815886 in Brooklyn\n",
      "Azza with id 4867016 in Brooklyn\n",
      "Gilad with id 5507784 in Brooklyn\n",
      "Sam with id 5582283 in Brooklyn\n",
      "Kizzy with id 5649163 in Brooklyn\n",
      "Qudsia with id 5874326 in Brooklyn\n",
      "Jessica with id 5925343 in Brooklyn\n",
      "Charles with id 6071456 in Brooklyn\n",
      "Sawyer with id 6237065 in Brooklyn\n",
      "Qudsia with id 6321475 in Brooklyn\n",
      "Randy with id 6492449 in Brooklyn\n",
      "Julie with id 6676250 in Brooklyn\n",
      "Jean&  Toney with id 7024342 in Brooklyn\n",
      "R Demetre with id 7320353 in Brooklyn\n",
      "Sean with id 7473810 in Brooklyn\n",
      "William with id 7484548 in Brooklyn\n",
      "Regina with id 7664692 in Brooklyn\n",
      "Ingrid with id 7693424 in Brooklyn\n",
      "Sol with id 7728553 in Brooklyn\n",
      "Jacob with id 7889596 in Brooklyn\n",
      "Leonie with id 7915831 in Brooklyn\n",
      "Erica with id 7983640 in Brooklyn\n",
      "Jessica with id 8217454 in Brooklyn\n",
      "Sinaly with id 8225035 in Brooklyn\n",
      "Danny with id 8255964 in Brooklyn\n",
      "R Demetre with id 8303074 in Brooklyn\n",
      "Sinaly with id 8305649 in Brooklyn\n",
      "Julie with id 8335539 in Brooklyn\n",
      "Sinaly with id 8369701 in Brooklyn\n",
      "Anthony with id 8520667 in Brooklyn\n",
      "Laura with id 8668115 in Brooklyn\n",
      "Maureen And Ned with id 8713685 in Brooklyn\n",
      "Brian with id 8736827 in Brooklyn\n",
      "Sol with id 8777936 in Brooklyn\n",
      "Mikael with id 8849684 in Brooklyn\n",
      "Anthony with id 8942272 in Brooklyn\n",
      "Alex with id 9006920 in Brooklyn\n",
      "Koppel with id 9024549 in Brooklyn\n",
      "Evelyn with id 9132731 in Brooklyn\n",
      "Alex with id 9369514 in Brooklyn\n",
      "Imad with id 9647450 in Brooklyn\n",
      "Paula with id 9730117 in Brooklyn\n",
      "Ellen with id 9738193 in Brooklyn\n",
      "Howard with id 9809911 in Brooklyn\n",
      "Gina with id 9837205 in Brooklyn\n",
      "Don with id 9841695 in Brooklyn\n",
      "Nadine with id 9843884 in Brooklyn\n",
      "Paris with id 9944808 in Brooklyn\n",
      "Don with id 10098921 in Brooklyn\n",
      "Rosa with id 10234090 in Brooklyn\n",
      "Alec with id 10316551 in Brooklyn\n",
      "Mark with id 10386936 in Brooklyn\n",
      "Cullen with id 10403199 in Brooklyn\n",
      "Alec with id 10403922 in Brooklyn\n",
      "Wesleyan with id 10438662 in Brooklyn\n",
      "Eleonora with id 10445597 in Brooklyn\n",
      "Carol with id 10553095 in Brooklyn\n",
      "Sherrilyn with id 10974609 in Brooklyn\n",
      "Attika with id 11495721 in Brooklyn\n",
      "Dominic with id 11514862 in Brooklyn\n",
      "Sotira with id 11591118 in Brooklyn\n",
      "Monzura with id 11801800 in Brooklyn\n",
      "Mariana with id 12017066 in Brooklyn\n",
      "Zhenni with id 12069335 in Brooklyn\n",
      "Eej with id 12087785 in Brooklyn\n",
      "Josh with id 12294008 in Brooklyn\n",
      "Justin with id 12328112 in Brooklyn\n",
      "Clarissa with id 12425266 in Brooklyn\n",
      "Rosa with id 12648471 in Brooklyn\n",
      "Mark with id 12851307 in Brooklyn\n",
      "Julia And Juan with id 12916189 in Brooklyn\n",
      "Mariella with id 12984506 in Brooklyn\n",
      "Francisca with id 13082571 in Brooklyn\n",
      "Briana with id 13109817 in Brooklyn\n",
      "Elicia with id 13184355 in Brooklyn\n",
      "Marie with id 13256651 in Brooklyn\n",
      "Giovanna with id 13503970 in Brooklyn\n",
      "Paula with id 13601777 in Brooklyn\n",
      "Ken with id 13780748 in Brooklyn\n",
      "Nataly with id 13859707 in Brooklyn\n",
      "Tamara with id 14014128 in Brooklyn\n",
      "Shirley with id 14037145 in Brooklyn\n",
      "Rose with id 14085512 in Brooklyn\n",
      "Rose with id 14086584 in Brooklyn\n",
      "Joy with id 14143250 in Brooklyn\n",
      "Warren with id 14196798 in Brooklyn\n",
      "Shirley with id 14769785 in Brooklyn\n",
      "Stat with id 14776203 in Brooklyn\n",
      "Dee with id 14834733 in Brooklyn\n",
      "Joe with id 14964655 in Brooklyn\n",
      "Beryl with id 14995382 in Brooklyn\n",
      "Sol with id 15180279 in Brooklyn\n",
      "Fabe with id 15506009 in Brooklyn\n",
      "Daria with id 16300101 in Brooklyn\n",
      "Daria with id 16423090 in Brooklyn\n",
      "Daria with id 16424070 in Brooklyn\n",
      "Valentin with id 16805050 in Brooklyn\n",
      "Jed with id 16807028 in Brooklyn\n",
      "Valentin with id 16822398 in Brooklyn\n",
      "Valentin with id 16834485 in Brooklyn\n",
      "Valentin with id 16835493 in Brooklyn\n",
      "Valentin with id 16837628 in Brooklyn\n",
      "Valentin with id 16852728 in Brooklyn\n",
      "Elizanda with id 17780857 in Brooklyn\n",
      "Erica with id 17791461 in Brooklyn\n",
      "Suri with id 18729985 in Brooklyn\n",
      "Salah with id 18751687 in Brooklyn\n",
      "Candace with id 18826370 in Brooklyn\n",
      "Jacob with id 18842510 in Brooklyn\n",
      "Nina with id 18946091 in Brooklyn\n",
      "Miranda with id 18997559 in Brooklyn\n",
      "Carol with id 19028078 in Brooklyn\n",
      "Cyndi with id 19209888 in Brooklyn\n",
      "Jaime And Stephen with id 19339594 in Brooklyn\n",
      "Sophie with id 19361969 in Brooklyn\n",
      "Anthony with id 19583985 in Brooklyn\n",
      "Carol with id 20294316 in Brooklyn\n",
      "Sergii with id 20499040 in Brooklyn\n",
      "Nancy with id 20649927 in Brooklyn\n",
      "Laure with id 20650685 in Brooklyn\n",
      "Michael with id 20723274 in Brooklyn\n",
      "Jessica with id 21158775 in Brooklyn\n",
      "Carol with id 21192354 in Brooklyn\n",
      "Majar with id 21474885 in Brooklyn\n",
      "Robert with id 21528682 in Brooklyn\n",
      "Sergii with id 21659702 in Brooklyn\n",
      "Sergii with id 21902630 in Brooklyn\n",
      "Sergii with id 21931557 in Brooklyn\n",
      "Sergii with id 21972403 in Brooklyn\n",
      "Sergii with id 22219529 in Brooklyn\n",
      "Mercedes with id 22230375 in Brooklyn\n",
      "Shana with id 22530764 in Brooklyn\n",
      "Phil with id 22654987 in Brooklyn\n",
      "Qusuquzah with id 22719709 in Brooklyn\n",
      "Margarita with id 22814281 in Brooklyn\n",
      "Megan with id 23021186 in Brooklyn\n",
      "Victor with id 23302837 in Brooklyn\n",
      "Алексей with id 23573326 in Brooklyn\n",
      "Sergii with id 23797329 in Brooklyn\n",
      "Rachel with id 23925434 in Brooklyn\n",
      "Nyota with id 24099108 in Brooklyn\n",
      "Carlos with id 24227739 in Brooklyn\n",
      "Sasha with id 24352967 in Brooklyn\n",
      "John with id 24414462 in Brooklyn\n",
      "Andy with id 24582124 in Brooklyn\n",
      "Joslyn And Pansy with id 24632914 in Brooklyn\n",
      "Baris with id 24805348 in Brooklyn\n",
      "Giana with id 24834739 in Brooklyn\n",
      "Alyssa with id 24854139 in Brooklyn\n",
      "Suri with id 25030760 in Brooklyn\n",
      "Shandor with id 25135694 in Brooklyn\n",
      "Laure-Anne with id 25140344 in Brooklyn\n",
      "Stephanie with id 25365916 in Brooklyn\n",
      "The 6o2 with id 25416257 in Brooklyn\n",
      "Christina with id 25511717 in Brooklyn\n",
      "Gail with id 25520827 in Brooklyn\n",
      "Yvonne with id 25622574 in Brooklyn\n",
      "Muhammad with id 26298570 in Brooklyn\n",
      "Dana with id 26383405 in Brooklyn\n",
      "Melissa with id 26417009 in Brooklyn\n",
      "Melissa with id 26419291 in Brooklyn\n",
      "Melissa with id 26420626 in Brooklyn\n",
      "Clarise with id 26463879 in Brooklyn\n",
      "Hiram with id 26472112 in Brooklyn\n",
      "Melissa with id 26739075 in Brooklyn\n",
      "Bryant with id 26787899 in Brooklyn\n",
      "Fransheska with id 26793665 in Brooklyn\n",
      "Fransheska with id 26794624 in Brooklyn\n",
      "Angie with id 26840133 in Brooklyn\n",
      "Angie with id 26846269 in Brooklyn\n",
      "Emily Wes with id 26858223 in Brooklyn\n",
      "Angie with id 26866483 in Brooklyn\n",
      "Aaron & Ivy with id 26884320 in Brooklyn\n",
      "Ivy And Andrew with id 26884438 in Brooklyn\n",
      "Ivy And Andrew with id 26884455 in Brooklyn\n",
      "Sergii with id 26933416 in Brooklyn\n",
      "Sergii with id 26934153 in Brooklyn\n",
      "Blake And Madia with id 26938086 in Brooklyn\n",
      "Michael with id 26983743 in Brooklyn\n",
      "Cherri with id 26984883 in Brooklyn\n",
      "Shell with id 27047594 in Brooklyn\n",
      "Jolene And Ryan with id 27246155 in Brooklyn\n",
      "Jolene And Ryan with id 27257929 in Brooklyn\n",
      "Dadrine with id 27314038 in Brooklyn\n",
      "Elias with id 27322746 in Brooklyn\n",
      "Melissa with id 27422684 in Brooklyn\n",
      "Melissa with id 27596820 in Brooklyn\n",
      "Dee Daisy And Peter with id 27723975 in Brooklyn\n",
      "Melissa with id 27952152 in Brooklyn\n",
      "Melissa with id 27955732 in Brooklyn\n",
      "Qusuquzah with id 27960021 in Brooklyn\n",
      "Candace with id 28014073 in Brooklyn\n",
      "Jewell with id 28015516 in Brooklyn\n",
      "Candace with id 28217921 in Brooklyn\n",
      "Dadrine with id 28228599 in Brooklyn\n",
      "Anting with id 28309473 in Brooklyn\n",
      "Darry with id 28453441 in Brooklyn\n",
      "Candace with id 28497028 in Brooklyn\n",
      "Bladimil with id 28519821 in Brooklyn\n",
      "Meg with id 28537361 in Brooklyn\n",
      "Melissa with id 28606853 in Brooklyn\n",
      "Melissa with id 28608462 in Brooklyn\n",
      "Mr. G with id 28610567 in Brooklyn\n",
      "Nina with id 28661542 in Brooklyn\n",
      "Eufemia with id 28680995 in Brooklyn\n",
      "Sunny with id 28690371 in Brooklyn\n",
      "Darry with id 28720687 in Brooklyn\n",
      "Alex with id 28760070 in Brooklyn\n",
      "Steven with id 28909276 in Brooklyn\n",
      "Kathy with id 28916864 in Brooklyn\n",
      "Kathy with id 28917505 in Brooklyn\n",
      "Kathy with id 28918134 in Brooklyn\n",
      "Levi with id 28918211 in Brooklyn\n",
      "Kathy with id 28918405 in Brooklyn\n",
      "Kathy with id 28918624 in Brooklyn\n",
      "Emily Wes with id 28961203 in Brooklyn\n",
      "Shane with id 28983494 in Brooklyn\n",
      "Levi with id 29059334 in Brooklyn\n",
      "Dadrine with id 29080980 in Brooklyn\n",
      "Dadrine with id 29081288 in Brooklyn\n",
      "Nadine with id 29126587 in Brooklyn\n",
      "Joel And Julian with id 29133389 in Brooklyn\n",
      "Kennedy with id 29134423 in Brooklyn\n",
      "Alan with id 29206535 in Brooklyn\n",
      "Peter with id 29219456 in Brooklyn\n",
      "Manny with id 29278083 in Brooklyn\n",
      "Joel And Julian with id 29417620 in Brooklyn\n",
      "Joel And Julian with id 29418015 in Brooklyn\n",
      "Yvonne with id 29420970 in Brooklyn\n",
      "Anting with id 29455913 in Brooklyn\n",
      "Anting with id 29455925 in Brooklyn\n",
      "Felix Lion with id 29460026 in Brooklyn\n",
      "Felix Lion with id 29460203 in Brooklyn\n",
      "Mikosya with id 29472696 in Brooklyn\n",
      "Lisa And Julian with id 29513616 in Brooklyn\n",
      "Jean with id 29524623 in Brooklyn\n",
      "Anting with id 29533829 in Brooklyn\n",
      "Nina with id 29538751 in Brooklyn\n",
      "Levi with id 29595432 in Brooklyn\n",
      "Alec with id 29628979 in Brooklyn\n",
      "Steven with id 29708352 in Brooklyn\n",
      "Pettrina with id 29778309 in Brooklyn\n",
      "Vanessa with id 29832431 in Brooklyn\n",
      "Anting with id 29899704 in Brooklyn\n",
      "Anting with id 29900395 in Brooklyn\n",
      "Anting with id 29982568 in Brooklyn\n",
      "Sergii with id 30015813 in Brooklyn\n",
      "Sergii with id 30031841 in Brooklyn\n",
      "Maryna with id 30109765 in Brooklyn\n",
      "Johnathan with id 30144337 in Brooklyn\n",
      "Anthony with id 30175606 in Brooklyn\n",
      "David with id 30205920 in Brooklyn\n",
      "Michael with id 30314819 in Brooklyn\n",
      "Lizzy with id 30324273 in Brooklyn\n",
      "Anting with id 30370124 in Brooklyn\n",
      "Anting with id 30370448 in Brooklyn\n",
      "Rob with id 30406899 in Brooklyn\n",
      "Hiram with id 30478251 in Brooklyn\n",
      "Damaris with id 30525680 in Brooklyn\n",
      "Oketo with id 30538753 in Brooklyn\n",
      "Anting with id 30667695 in Brooklyn\n",
      "Morrece with id 30696675 in Brooklyn\n",
      "Sergii with id 30733899 in Brooklyn\n",
      "Sergey with id 30952008 in Brooklyn\n",
      "Sergey with id 30952896 in Brooklyn\n",
      "Sergey with id 30953126 in Brooklyn\n",
      "Alexander with id 30973590 in Brooklyn\n",
      "Alexander with id 30975610 in Brooklyn\n",
      "Awa with id 31017171 in Brooklyn\n",
      "Dj with id 31038842 in Brooklyn\n",
      "Dj with id 31066679 in Brooklyn\n",
      "Michael with id 31258461 in Brooklyn\n",
      "Karen with id 31290477 in Brooklyn\n",
      "Henry with id 31438520 in Brooklyn\n",
      "Idris with id 31815470 in Brooklyn\n",
      "Alex with id 31845412 in Brooklyn\n",
      "Sainabou with id 32090300 in Brooklyn\n",
      "Clement & Rose with id 32241239 in Brooklyn\n",
      "Ali with id 32285425 in Brooklyn\n",
      "Sam with id 32311383 in Brooklyn\n",
      "Vena with id 32382542 in Brooklyn\n",
      "Peter with id 32546490 in Brooklyn\n",
      "Zoe with id 32635569 in Brooklyn\n",
      "Maria with id 32742238 in Brooklyn\n",
      "Jay/Carolina Bastidas Family with id 32886361 in Brooklyn\n",
      "Gleason with id 32917116 in Brooklyn\n",
      "Shiri with id 33078564 in Brooklyn\n",
      "Candace with id 33586112 in Brooklyn\n",
      "Candace with id 33614825 in Brooklyn\n",
      "Heleen with id 33775328 in Brooklyn\n",
      "Glen with id 33782653 in Brooklyn\n",
      "Filip with id 33936370 in Brooklyn\n",
      "Parrish with id 34022664 in Brooklyn\n",
      "John with id 34032390 in Brooklyn\n",
      "Viola with id 34123769 in Brooklyn\n",
      "Ben with id 34205576 in Brooklyn\n",
      "Andrew with id 34222823 in Brooklyn\n",
      "Ben with id 34253845 in Brooklyn\n",
      "Levi with id 34316575 in Brooklyn\n",
      "Kennedy with id 34316984 in Brooklyn\n",
      "Renee with id 34345750 in Brooklyn\n",
      "Heleen with id 34353572 in Brooklyn\n",
      "Gladwyn with id 34468721 in Brooklyn\n",
      "Gladwyn with id 34535182 in Brooklyn\n",
      "Gladwyn with id 34539406 in Brooklyn\n",
      "Gladwyn with id 34542878 in Brooklyn\n",
      "Mike with id 34625967 in Brooklyn\n",
      "Franck And Joshua with id 34640201 in Brooklyn\n",
      "Darry with id 34670157 in Brooklyn\n",
      "Sherley with id 34681778 in Brooklyn\n",
      "John with id 34688471 in Brooklyn\n",
      "Yasmeen with id 34745985 in Brooklyn\n",
      "Daniel with id 34784681 in Brooklyn\n",
      "Candace with id 34818674 in Brooklyn\n",
      "Candace with id 34834104 in Brooklyn\n",
      "Bunmi with id 34997985 in Brooklyn\n",
      "Sasha with id 35172393 in Brooklyn\n",
      "Sasha with id 35172821 in Brooklyn\n",
      "Sasha with id 35172841 in Brooklyn\n",
      "David with id 35183442 in Brooklyn\n",
      "Gladwyn with id 35222567 in Brooklyn\n",
      "Noah with id 35290565 in Brooklyn\n",
      "Howard with id 35317128 in Brooklyn\n",
      "Alex with id 35345358 in Brooklyn\n",
      "Rachel with id 35388353 in Brooklyn\n",
      "Lora with id 35464315 in Brooklyn\n",
      "Samuel with id 35485080 in Brooklyn\n",
      "Sergii with id 35487169 in Brooklyn\n",
      "Kettly with id 35615611 in Brooklyn\n",
      "Sergii with id 35639950 in Brooklyn\n",
      "Sergii with id 35705482 in Brooklyn\n",
      "Ashley with id 35718147 in Brooklyn\n",
      "Duane with id 35742909 in Brooklyn\n",
      "Dadrine with id 35766933 in Brooklyn\n",
      "Tam with id 35777392 in Brooklyn\n",
      "Timbrooke with id 35794273 in Brooklyn\n",
      "Trevor with id 35798611 in Brooklyn\n",
      "Steve with id 35842254 in Brooklyn\n",
      "Amy with id 35878332 in Brooklyn\n",
      "Shasha with id 35971141 in Brooklyn\n",
      "Xueming with id 35991399 in Brooklyn\n",
      "Loves with id 35991548 in Brooklyn\n",
      "Veronica with id 36004612 in Brooklyn\n",
      "Muhammad Tahir Khan with id 36205494 in Brooklyn\n",
      "Bamboo with id 36206222 in Brooklyn\n",
      "Bamboo with id 36206792 in Brooklyn\n",
      "Avi with id 36244479 in Brooklyn\n",
      "RoseMarie with id 36315537 in Brooklyn\n",
      "Chiz with id 36316884 in Brooklyn\n",
      "Belinda with id 36374510 in Brooklyn\n",
      "Simon And Julian with id 36415840 in Brooklyn\n",
      "Diana with id 36473253 in Brooklyn\n",
      "Melki with id 36481315 in Brooklyn\n",
      "Melki with id 36483152 in Brooklyn\n",
      "--------------------\n",
      "Elisabeth with id 3647 in Manhanttan\n",
      "Elliott with id 21644 in Manhanttan\n",
      "Sylvia with id 40453 in Manhanttan\n",
      "Douglas with id 54466 in Manhanttan\n",
      "Blanca with id 60611 in Manhanttan\n",
      "Cynthia with id 60673 in Manhanttan\n",
      "Jason with id 103806 in Manhanttan\n",
      "Kimberly with id 154934 in Manhanttan\n",
      "David with id 189181 in Manhanttan\n",
      "Yvette with id 250536 in Manhanttan\n",
      "Yvette with id 250537 in Manhanttan\n",
      "James with id 271694 in Manhanttan\n",
      "M with id 272044 in Manhanttan\n",
      "Erica with id 279093 in Manhanttan\n",
      "Ben with id 309342 in Manhanttan\n",
      "Ben with id 343971 in Manhanttan\n",
      "Tracey with id 363673 in Manhanttan\n",
      "Amanda with id 402037 in Manhanttan\n",
      "Dan with id 413876 in Manhanttan\n",
      "Robert with id 435776 in Manhanttan\n",
      "Lior with id 482365 in Manhanttan\n",
      "T with id 591135 in Manhanttan\n",
      "Ana with id 595604 in Manhanttan\n",
      "Gina with id 640589 in Manhanttan\n",
      "David with id 649561 in Manhanttan\n",
      "Mike with id 652691 in Manhanttan\n",
      "Jay with id 658515 in Manhanttan\n",
      "Mathew with id 702551 in Manhanttan\n",
      "Crystal with id 719914 in Manhanttan\n",
      "Lex And Derek with id 728498 in Manhanttan\n",
      "Mike with id 728764 in Manhanttan\n",
      "Mike with id 740947 in Manhanttan\n",
      "Tauheed with id 772679 in Manhanttan\n",
      "Wendee with id 808476 in Manhanttan\n",
      "Fiona with id 840594 in Manhanttan\n",
      "Joseph with id 841211 in Manhanttan\n",
      "Rachel...You Can Call Me Kaya :) with id 862890 in Manhanttan\n",
      "Amal with id 872035 in Manhanttan\n",
      "Somaya with id 895368 in Manhanttan\n",
      "Amal with id 908046 in Manhanttan\n",
      "Tj with id 1016352 in Manhanttan\n",
      "Anthony with id 1059891 in Manhanttan\n",
      "David with id 1113125 in Manhanttan\n",
      "Gita with id 1123960 in Manhanttan\n",
      "Mike with id 1145288 in Manhanttan\n",
      "Lori with id 1166947 in Manhanttan\n",
      "Noelle with id 1171581 in Manhanttan\n",
      "Chris with id 1177971 in Manhanttan\n",
      "Kevin with id 1209492 in Manhanttan\n",
      "Emmett with id 1215122 in Manhanttan\n",
      "Karim with id 1221962 in Manhanttan\n",
      "Nancy with id 1229630 in Manhanttan\n",
      "Maya with id 1352657 in Manhanttan\n",
      "Max with id 1360932 in Manhanttan\n",
      "Shamara with id 1371957 in Manhanttan\n",
      "Jessica with id 1448703 in Manhanttan\n",
      "Jorion with id 1462341 in Manhanttan\n",
      "Erin with id 1586935 in Manhanttan\n",
      "Caspar with id 1646838 in Manhanttan\n",
      "Lior with id 1654738 in Manhanttan\n",
      "Zee with id 1683227 in Manhanttan\n",
      "Golan with id 1691798 in Manhanttan\n",
      "Kindra with id 1721115 in Manhanttan\n",
      "Lo with id 1803165 in Manhanttan\n",
      "Na'Im with id 1810640 in Manhanttan\n",
      "Jonathan with id 1906993 in Manhanttan\n",
      "Joseph with id 1971540 in Manhanttan\n",
      "Deda with id 2023577 in Manhanttan\n",
      "Dana with id 2102651 in Manhanttan\n",
      "Alejandro with id 2142092 in Manhanttan\n",
      "Alex with id 2172139 in Manhanttan\n",
      "Ariel with id 2277707 in Manhanttan\n",
      "Gita with id 2318126 in Manhanttan\n",
      "Tal with id 2392051 in Manhanttan\n",
      "Sally with id 2417098 in Manhanttan\n",
      "G with id 2574386 in Manhanttan\n",
      "Rebecca with id 2669352 in Manhanttan\n",
      "Henriette with id 2784311 in Manhanttan\n",
      "Leo with id 2793740 in Manhanttan\n",
      "Chriis with id 2838061 in Manhanttan\n",
      "Nataliya with id 2958912 in Manhanttan\n",
      "Mike with id 3003228 in Manhanttan\n",
      "Alison with id 3005261 in Manhanttan\n",
      "Mike with id 3026848 in Manhanttan\n",
      "Mike with id 3048234 in Manhanttan\n",
      "Mike with id 3091202 in Manhanttan\n",
      "Manhattan with id 3137426 in Manhanttan\n",
      "Joe with id 3220725 in Manhanttan\n",
      "Spencer with id 3343038 in Manhanttan\n",
      "Mor with id 3387493 in Manhanttan\n",
      "Han with id 3420648 in Manhanttan\n",
      "Mat with id 3468942 in Manhanttan\n",
      "Kayvon with id 3550879 in Manhanttan\n",
      "Anne with id 3600518 in Manhanttan\n",
      "John with id 3721826 in Manhanttan\n",
      "Gina with id 3780951 in Manhanttan\n",
      "Mike with id 3808620 in Manhanttan\n",
      "Corey with id 3818187 in Manhanttan\n",
      "Mike with id 3849347 in Manhanttan\n",
      "Susan with id 3861943 in Manhanttan\n",
      "Mike with id 3866843 in Manhanttan\n",
      "Michael with id 3876850 in Manhanttan\n",
      "Shi Qing with id 3891031 in Manhanttan\n",
      "Jesse with id 3896701 in Manhanttan\n",
      "Jonathan with id 3914773 in Manhanttan\n",
      "Genevieve with id 4204302 in Manhanttan\n",
      "Niraj with id 4484212 in Manhanttan\n",
      "Jeremy with id 4509357 in Manhanttan\n",
      "Re with id 4660022 in Manhanttan\n",
      "Avi with id 4677056 in Manhanttan\n",
      "Cris with id 4720752 in Manhanttan\n",
      "Byron with id 4753866 in Manhanttan\n",
      "Indi with id 4777903 in Manhanttan\n",
      "Julia with id 4796070 in Manhanttan\n",
      "Anthony with id 4801661 in Manhanttan\n",
      "Mike with id 4848528 in Manhanttan\n",
      "Amie with id 5015281 in Manhanttan\n",
      "William with id 5060771 in Manhanttan\n",
      "Host with id 5259407 in Manhanttan\n",
      "Mike with id 5316908 in Manhanttan\n",
      "Jonathan with id 5509802 in Manhanttan\n",
      "Gita with id 5651679 in Manhanttan\n",
      "Kat with id 5697517 in Manhanttan\n",
      "Matias & Marlana with id 5757333 in Manhanttan\n",
      "Chris with id 6384383 in Manhanttan\n",
      "Nicola with id 6388315 in Manhanttan\n",
      "Ross with id 6389473 in Manhanttan\n",
      "Bobi with id 6428482 in Manhanttan\n",
      "Alfredo with id 6662967 in Manhanttan\n",
      "Ze with id 6725463 in Manhanttan\n",
      "Manon with id 6833395 in Manhanttan\n",
      "Dominque with id 6991749 in Manhanttan\n",
      "Anne-Sophie with id 7095426 in Manhanttan\n",
      "Benjamin with id 7603640 in Manhanttan\n",
      "John with id 7816449 in Manhanttan\n",
      "Nkatha with id 7955889 in Manhanttan\n",
      "Orlando with id 8034665 in Manhanttan\n",
      "Kara with id 8078896 in Manhanttan\n",
      "Kara with id 8081037 in Manhanttan\n",
      "Filippo with id 8103766 in Manhanttan\n",
      "Kara with id 8320129 in Manhanttan\n",
      "Vincent with id 8568094 in Manhanttan\n",
      "Paul with id 8709068 in Manhanttan\n",
      "Mike with id 8752714 in Manhanttan\n",
      "Marcelo with id 8761013 in Manhanttan\n",
      "Kara with id 8810949 in Manhanttan\n",
      "Ruchi with id 9024193 in Manhanttan\n",
      "Kara with id 9107626 in Manhanttan\n",
      "Shirley with id 9133959 in Manhanttan\n",
      "Wolcott with id 9248558 in Manhanttan\n",
      "Wolcott with id 9250241 in Manhanttan\n",
      "Zachary Robert with id 9384723 in Manhanttan\n",
      "Jt with id 9401880 in Manhanttan\n",
      "Mike with id 9415568 in Manhanttan\n",
      "Nissim with id 9426526 in Manhanttan\n",
      "Nissim with id 9445501 in Manhanttan\n",
      "Timur with id 9574936 in Manhanttan\n",
      "John with id 9713997 in Manhanttan\n",
      "Allegra with id 9793542 in Manhanttan\n",
      "Jeremy & Laura with id 9808859 in Manhanttan\n",
      "Zoe with id 9991265 in Manhanttan\n",
      "Mark with id 10089727 in Manhanttan\n",
      "Wendy with id 10233563 in Manhanttan\n",
      "Ken with id 10249886 in Manhanttan\n",
      "Jeremy & Laura with id 10291127 in Manhanttan\n",
      "Norman with id 10307009 in Manhanttan\n",
      "Ofir with id 10512575 in Manhanttan\n",
      "David with id 10924304 in Manhanttan\n",
      "Lior with id 10939344 in Manhanttan\n",
      "Eliahu with id 11044453 in Manhanttan\n",
      "Victoria with id 11640318 in Manhanttan\n",
      "Bill & May with id 11652590 in Manhanttan\n",
      "Leomaris with id 11844556 in Manhanttan\n",
      "Kara with id 11866751 in Manhanttan\n",
      "Kara with id 11881208 in Manhanttan\n",
      "Mark with id 11894427 in Manhanttan\n",
      "Stephen with id 12005923 in Manhanttan\n",
      "Nka with id 12025076 in Manhanttan\n",
      "R with id 12063562 in Manhanttan\n",
      "Kamini with id 12153709 in Manhanttan\n",
      "Nka with id 12315833 in Manhanttan\n",
      "Joe with id 12560137 in Manhanttan\n",
      "Mike with id 12672036 in Manhanttan\n",
      "Ken with id 12833187 in Manhanttan\n",
      "David with id 12847720 in Manhanttan\n",
      "Sarah with id 12888849 in Manhanttan\n",
      "Mike with id 12947670 in Manhanttan\n",
      "Kara with id 12951215 in Manhanttan\n",
      "Michelle with id 13004967 in Manhanttan\n",
      "Jeremy & Laura with id 13059537 in Manhanttan\n",
      "Mike with id 13064717 in Manhanttan\n",
      "Ken with id 13079614 in Manhanttan\n",
      "Kara with id 13092482 in Manhanttan\n",
      "Carla with id 13093642 in Manhanttan\n",
      "Ken with id 13125150 in Manhanttan\n",
      "Austen with id 13173263 in Manhanttan\n",
      "Ken with id 13186721 in Manhanttan\n",
      "Ken with id 13186804 in Manhanttan\n",
      "Ken with id 13188839 in Manhanttan\n",
      "Ruchi with id 13230556 in Manhanttan\n",
      "Ruchi with id 13231183 in Manhanttan\n",
      "Skye with id 13231399 in Manhanttan\n",
      "Kara with id 13341820 in Manhanttan\n",
      "Patrick with id 13369841 in Manhanttan\n",
      "Kara with id 13425518 in Manhanttan\n",
      "Kara with id 13426171 in Manhanttan\n",
      "Kara with id 13426681 in Manhanttan\n",
      "Kara with id 13427591 in Manhanttan\n",
      "Kara with id 13430012 in Manhanttan\n",
      "Kara with id 13430483 in Manhanttan\n",
      "Kara with id 13430794 in Manhanttan\n",
      "Kara with id 13431257 in Manhanttan\n",
      "Kara with id 13431793 in Manhanttan\n",
      "Kara with id 13432015 in Manhanttan\n",
      "Kara with id 13522873 in Manhanttan\n",
      "Ken with id 13558387 in Manhanttan\n",
      "Ruchi with id 13562635 in Manhanttan\n",
      "Richard with id 14129429 in Manhanttan\n",
      "Ruchi with id 14231719 in Manhanttan\n",
      "Jeremy & Laura with id 14245639 in Manhanttan\n",
      "Ken with id 14355768 in Manhanttan\n",
      "Kara with id 14442338 in Manhanttan\n",
      "Andrew with id 14443766 in Manhanttan\n",
      "Francesca with id 14536003 in Manhanttan\n",
      "Jason with id 14570492 in Manhanttan\n",
      "Ruchi with id 14683956 in Manhanttan\n",
      "Orquid with id 14713835 in Manhanttan\n",
      "Henry with id 14730708 in Manhanttan\n",
      "Ken with id 14834097 in Manhanttan\n",
      "Richard with id 14928864 in Manhanttan\n",
      "Kara with id 14932887 in Manhanttan\n",
      "Kara with id 14946346 in Manhanttan\n",
      "Kyle with id 15125599 in Manhanttan\n",
      "Wynpoints with id 15149591 in Manhanttan\n",
      "Wynpoints with id 15204878 in Manhanttan\n",
      "Wynpoints with id 15205915 in Manhanttan\n",
      "Wynpoints with id 15206157 in Manhanttan\n",
      "Wynpoints with id 15206607 in Manhanttan\n",
      "Wynpoints with id 15206836 in Manhanttan\n",
      "Wynpoints with id 15218066 in Manhanttan\n",
      "Wynpoints with id 15218299 in Manhanttan\n",
      "Wynpoints with id 15218579 in Manhanttan\n",
      "Wynpoints with id 15218699 in Manhanttan\n",
      "Kara with id 15229456 in Manhanttan\n",
      "Bluebird with id 15229619 in Manhanttan\n",
      "Bluebird with id 15230339 in Manhanttan\n",
      "Bluebird with id 15230576 in Manhanttan\n",
      "Henry with id 15314054 in Manhanttan\n",
      "Wynpoints with id 15325255 in Manhanttan\n",
      "Daniel with id 15327553 in Manhanttan\n",
      "Henry with id 15347268 in Manhanttan\n",
      "Bluebird with id 15496314 in Manhanttan\n",
      "Bluebird with id 15496616 in Manhanttan\n",
      "Bluebird with id 15497088 in Manhanttan\n",
      "Bluebird with id 15497229 in Manhanttan\n",
      "Bluebird with id 15497406 in Manhanttan\n",
      "Bluebird with id 15497673 in Manhanttan\n",
      "Bluebird with id 15497821 in Manhanttan\n",
      "Bluebird with id 15505535 in Manhanttan\n",
      "Grand with id 15507436 in Manhanttan\n",
      "Wynpoints with id 15735305 in Manhanttan\n",
      "Moustafa with id 15756248 in Manhanttan\n",
      "Ken with id 15767882 in Manhanttan\n",
      "Kara with id 15769964 in Manhanttan\n",
      "Phenix with id 15772067 in Manhanttan\n",
      "Golden&Mavy with id 15832098 in Manhanttan\n",
      "Alyssa with id 15857334 in Manhanttan\n",
      "Francis with id 15858680 in Manhanttan\n",
      "Umut&Deniz with id 15986677 in Manhanttan\n",
      "C.D. with id 15992078 in Manhanttan\n",
      "Chayla with id 16018094 in Manhanttan\n",
      "Chayla with id 16087249 in Manhanttan\n",
      "Chayla with id 16087406 in Manhanttan\n",
      "Chayla with id 16098020 in Manhanttan\n",
      "Chayla with id 16099666 in Manhanttan\n",
      "Chayla with id 16100032 in Manhanttan\n",
      "Chayla with id 16147304 in Manhanttan\n",
      "Chayla with id 16159901 in Manhanttan\n",
      "Nina with id 16177263 in Manhanttan\n",
      "Katya with id 16255284 in Manhanttan\n",
      "Chayla with id 16310798 in Manhanttan\n",
      "Chayla with id 16437326 in Manhanttan\n",
      "Ken with id 16487077 in Manhanttan\n",
      "Chayla with id 16487823 in Manhanttan\n",
      "Chayla with id 16489149 in Manhanttan\n",
      "Regina with id 16542864 in Manhanttan\n",
      "Audrey with id 16741935 in Manhanttan\n",
      "Ken with id 16751838 in Manhanttan\n",
      "Dwayne with id 16869999 in Manhanttan\n",
      "Laura with id 17168007 in Manhanttan\n",
      "Kyle with id 17508709 in Manhanttan\n",
      "Kyle with id 17512282 in Manhanttan\n",
      "Kyle with id 17512883 in Manhanttan\n",
      "Ashley with id 17682543 in Manhanttan\n",
      "Duryea with id 17849234 in Manhanttan\n",
      "Mike with id 18005789 in Manhanttan\n",
      "Charles with id 18075511 in Manhanttan\n",
      "Ken with id 18103710 in Manhanttan\n",
      "Ken with id 18105293 in Manhanttan\n",
      "Kricket with id 18271282 in Manhanttan\n",
      "Lesley with id 18340320 in Manhanttan\n",
      "Jennifer with id 18393354 in Manhanttan\n",
      "Ken with id 18425106 in Manhanttan\n",
      "Willie with id 18584089 in Manhanttan\n",
      "Magd with id 18611347 in Manhanttan\n",
      "Stanley with id 18750465 in Manhanttan\n",
      "Stanley with id 18792703 in Manhanttan\n",
      "Stanley with id 18820446 in Manhanttan\n",
      "Stanley with id 19409299 in Manhanttan\n",
      "Georgia with id 19548503 in Manhanttan\n",
      "Stanley with id 19563107 in Manhanttan\n",
      "Ethan with id 19928987 in Manhanttan\n",
      "Stanley with id 19929209 in Manhanttan\n",
      "Tiffany with id 19931860 in Manhanttan\n",
      "Stanley with id 19933967 in Manhanttan\n",
      "Stanley with id 20202650 in Manhanttan\n",
      "Portia with id 20350704 in Manhanttan\n",
      "Michael with id 20523979 in Manhanttan\n",
      "Ali with id 20679666 in Manhanttan\n",
      "Rated with id 20686099 in Manhanttan\n",
      "Rated with id 20686701 in Manhanttan\n",
      "Eliahu with id 20729981 in Manhanttan\n",
      "Rated with id 20753634 in Manhanttan\n",
      "Rated with id 20755049 in Manhanttan\n",
      "Rated with id 20755691 in Manhanttan\n",
      "Rated with id 20756864 in Manhanttan\n",
      "Rated with id 20757749 in Manhanttan\n",
      "Rated with id 20766398 in Manhanttan\n",
      "Eliahu with id 20772462 in Manhanttan\n",
      "Stanley with id 20857108 in Manhanttan\n",
      "Haley with id 20882090 in Manhanttan\n",
      "Rated with id 21212937 in Manhanttan\n",
      "Nals with id 21241079 in Manhanttan\n",
      "Lena with id 21274914 in Manhanttan\n",
      "Stanley with id 21378053 in Manhanttan\n",
      "Zoey with id 21413190 in Manhanttan\n",
      "Chemme with id 21432084 in Manhanttan\n",
      "Aly with id 21469568 in Manhanttan\n",
      "Nadia with id 21755486 in Manhanttan\n",
      "Christopher with id 21851100 in Manhanttan\n",
      "Stanley with id 21878080 in Manhanttan\n",
      "Stanley with id 21893129 in Manhanttan\n",
      "Stanley with id 21908184 in Manhanttan\n",
      "Bluebird with id 21996983 in Manhanttan\n",
      "Kem with id 22000255 in Manhanttan\n",
      "Cynthia with id 22302785 in Manhanttan\n",
      "Robert with id 22440046 in Manhanttan\n",
      "Bobi with id 22514364 in Manhanttan\n",
      "Annamaria with id 22579551 in Manhanttan\n",
      "Annamaria with id 22579704 in Manhanttan\n",
      "Honey with id 22656618 in Manhanttan\n",
      "Lauren with id 22669096 in Manhanttan\n",
      "Nicolo with id 22704580 in Manhanttan\n",
      "Waj with id 22748332 in Manhanttan\n",
      "Eliahu with id 22796888 in Manhanttan\n",
      "Charles with id 23078172 in Manhanttan\n",
      "Bob with id 23450331 in Manhanttan\n",
      "Antonio with id 23463017 in Manhanttan\n",
      "Terry with id 23644523 in Manhanttan\n",
      "Rated with id 23754446 in Manhanttan\n",
      "Sonder with id 23763165 in Manhanttan\n",
      "J with id 23894929 in Manhanttan\n",
      "Avner with id 23980622 in Manhanttan\n",
      "Avner with id 23986569 in Manhanttan\n",
      "Ray with id 24345718 in Manhanttan\n",
      "C-Van with id 24583029 in Manhanttan\n",
      "Stanley with id 24799807 in Manhanttan\n",
      "Marwa with id 25085816 in Manhanttan\n",
      "Anastasia with id 25232254 in Manhanttan\n",
      "Sonder with id 25452588 in Manhanttan\n",
      "Adonis with id 26005261 in Manhanttan\n",
      "John with id 26132476 in Manhanttan\n",
      "현선 with id 26139678 in Manhanttan\n",
      "Alyssa with id 26157426 in Manhanttan\n",
      "Ali with id 26247578 in Manhanttan\n",
      "Erik with id 26253826 in Manhanttan\n",
      "Stanley with id 26357145 in Manhanttan\n",
      "J with id 26422007 in Manhanttan\n",
      "Sydney with id 26520475 in Manhanttan\n",
      "Diana with id 26743115 in Manhanttan\n",
      "Paul with id 26750740 in Manhanttan\n",
      "Chemme with id 26815405 in Manhanttan\n",
      "Nancy with id 26868019 in Manhanttan\n",
      "Mat with id 27034834 in Manhanttan\n",
      "Ohran with id 27056608 in Manhanttan\n",
      "Pranjal with id 27149630 in Manhanttan\n",
      "Pranjal with id 27215273 in Manhanttan\n",
      "Pranjal with id 27216072 in Manhanttan\n",
      "Pranjal with id 27385914 in Manhanttan\n",
      "Vanessa with id 27394468 in Manhanttan\n",
      "Freehand with id 27598707 in Manhanttan\n",
      "Loris with id 27602495 in Manhanttan\n",
      "James with id 27629043 in Manhanttan\n",
      "Luis with id 27802387 in Manhanttan\n",
      "Alexis with id 28008714 in Manhanttan\n",
      "Ziva with id 28043390 in Manhanttan\n",
      "Pranjal with id 28128149 in Manhanttan\n",
      "Brad with id 28187115 in Manhanttan\n",
      "Sonder with id 28607874 in Manhanttan\n",
      "Nita with id 28635863 in Manhanttan\n",
      "John with id 28666578 in Manhanttan\n",
      "Gloria with id 28688612 in Manhanttan\n",
      "Kdn with id 28896728 in Manhanttan\n",
      "Jason with id 28913324 in Manhanttan\n",
      "Dionyssios with id 29059533 in Manhanttan\n",
      "Travis with id 29107308 in Manhanttan\n",
      "Pranjal with id 29150883 in Manhanttan\n",
      "Ofir with id 29215529 in Manhanttan\n",
      "Elisa with id 29243359 in Manhanttan\n",
      "Erika with id 29281128 in Manhanttan\n",
      "Mary with id 29316421 in Manhanttan\n",
      "Ben with id 29331513 in Manhanttan\n",
      "Martha with id 29424522 in Manhanttan\n",
      "Sophie with id 29429036 in Manhanttan\n",
      "Pranjal with id 29480256 in Manhanttan\n",
      "Greg with id 29486682 in Manhanttan\n",
      "Dionyssios with id 29505792 in Manhanttan\n",
      "Robin with id 29542012 in Manhanttan\n",
      "Ruchi with id 29674137 in Manhanttan\n",
      "Julia with id 29676417 in Manhanttan\n",
      "John with id 29900575 in Manhanttan\n",
      "Mike with id 29925332 in Manhanttan\n",
      "Silver with id 30019535 in Manhanttan\n",
      "Chris with id 30029831 in Manhanttan\n",
      "Cynthia with id 30088906 in Manhanttan\n",
      "Stanley with id 30125704 in Manhanttan\n",
      "Luxury Property with id 30146411 in Manhanttan\n",
      "G with id 30179548 in Manhanttan\n",
      "G with id 30179869 in Manhanttan\n",
      "Ronni with id 30227667 in Manhanttan\n",
      "Raphael with id 30229988 in Manhanttan\n",
      "Asia with id 30264608 in Manhanttan\n",
      "Adeola with id 30274568 in Manhanttan\n",
      "Jen with id 30313152 in Manhanttan\n",
      "Meg with id 30378211 in Manhanttan\n",
      "Blueground with id 30393171 in Manhanttan\n",
      "Marilynn with id 30469464 in Manhanttan\n",
      "Laur with id 30483899 in Manhanttan\n",
      "Kay with id 30589636 in Manhanttan\n",
      "Lisa with id 30722712 in Manhanttan\n",
      "0123 with id 30735480 in Manhanttan\n",
      "Avner with id 30806012 in Manhanttan\n",
      "Gal with id 30817001 in Manhanttan\n",
      "Gabriel with id 30817038 in Manhanttan\n",
      "韦达 with id 30927844 in Manhanttan\n",
      "Alyssa with id 30950513 in Manhanttan\n",
      "Eliahu with id 30967230 in Manhanttan\n",
      "Alyssa with id 31001555 in Manhanttan\n",
      "Leticia with id 31018857 in Manhanttan\n",
      "Alyssa with id 31019621 in Manhanttan\n",
      "Michael with id 31055254 in Manhanttan\n",
      "Michael with id 31122807 in Manhanttan\n",
      "Carlos with id 31178588 in Manhanttan\n",
      "Larissa with id 31315479 in Manhanttan\n",
      "Matt with id 31340283 in Manhanttan\n",
      "Hajah with id 31356462 in Manhanttan\n",
      "Cecile with id 31447999 in Manhanttan\n",
      "Bobi with id 31582772 in Manhanttan\n",
      "Yaacov with id 31652563 in Manhanttan\n",
      "Denise with id 31835917 in Manhanttan\n",
      "Eyal with id 31877856 in Manhanttan\n",
      "Gabriel with id 31947645 in Manhanttan\n",
      "Lara with id 31980005 in Manhanttan\n",
      "Michael with id 32007435 in Manhanttan\n",
      "Flavia with id 32104211 in Manhanttan\n",
      "Eliahu with id 32207083 in Manhanttan\n",
      "Eliahu with id 32207090 in Manhanttan\n",
      "Eliahu with id 32207337 in Manhanttan\n",
      "Florentino with id 32377751 in Manhanttan\n",
      "Belkis with id 32404978 in Manhanttan\n",
      "Dustin with id 32463948 in Manhanttan\n",
      "Sonder (NYC) with id 32466179 in Manhanttan\n",
      "Billie with id 32467835 in Manhanttan\n",
      "Pranjal with id 32483378 in Manhanttan\n",
      "Brianna with id 32704496 in Manhanttan\n",
      "Tk with id 32802904 in Manhanttan\n",
      "Audrey with id 32892845 in Manhanttan\n",
      "Linden & Bah with id 32916183 in Manhanttan\n",
      "Gúney with id 33033160 in Manhanttan\n",
      "Gúney with id 33035339 in Manhanttan\n",
      "Min with id 33093166 in Manhanttan\n",
      "Mina with id 33269114 in Manhanttan\n",
      "Yun with id 33399665 in Manhanttan\n",
      "Yun with id 33399897 in Manhanttan\n",
      "Yun with id 33400613 in Manhanttan\n",
      "Yun with id 33406391 in Manhanttan\n",
      "Yun with id 33406453 in Manhanttan\n",
      "Warren with id 33434235 in Manhanttan\n",
      "Edgar with id 33453326 in Manhanttan\n",
      "Sonder (NYC) with id 33528090 in Manhanttan\n",
      "Kyle with id 33560460 in Manhanttan\n",
      "Demir with id 33579691 in Manhanttan\n",
      "Sonder (NYC) with id 33708600 in Manhanttan\n",
      "Josh with id 33717623 in Manhanttan\n",
      "Kenneth with id 33798389 in Manhanttan\n",
      "David with id 33809888 in Manhanttan\n",
      "David with id 33810134 in Manhanttan\n",
      "Albert with id 33837065 in Manhanttan\n",
      "Erik with id 33915843 in Manhanttan\n",
      "Hank with id 34036047 in Manhanttan\n",
      "Maria with id 34091327 in Manhanttan\n",
      "Samantha with id 34147683 in Manhanttan\n",
      "Maria with id 34150332 in Manhanttan\n",
      "Djily with id 34174357 in Manhanttan\n",
      "Sonder (NYC) with id 34177117 in Manhanttan\n",
      "Sonder (NYC) with id 34202946 in Manhanttan\n",
      "Erin with id 34206654 in Manhanttan\n",
      "Erin with id 34206709 in Manhanttan\n",
      "Erin with id 34206762 in Manhanttan\n",
      "Erin with id 34206858 in Manhanttan\n",
      "Erin with id 34207902 in Manhanttan\n",
      "Sonder (NYC) with id 34213482 in Manhanttan\n",
      "Sonder (NYC) with id 34323565 in Manhanttan\n",
      "Michelle with id 34340357 in Manhanttan\n",
      "Michelle with id 34370526 in Manhanttan\n",
      "Silver with id 34371447 in Manhanttan\n",
      "Mat with id 34415580 in Manhanttan\n",
      "Rachel with id 34418130 in Manhanttan\n",
      "Park Lane with id 34483343 in Manhanttan\n",
      "Park Lane with id 34483425 in Manhanttan\n",
      "Park Lane with id 34483431 in Manhanttan\n",
      "David with id 34511422 in Manhanttan\n",
      "Jessica with id 34543201 in Manhanttan\n",
      "Sonder (NYC) with id 34570839 in Manhanttan\n",
      "Florentino with id 34624240 in Manhanttan\n",
      "Paola with id 34659944 in Manhanttan\n",
      "Florentino with id 34665824 in Manhanttan\n",
      "Carmen with id 34678758 in Manhanttan\n",
      "Kuzey with id 34812878 in Manhanttan\n",
      "Kuzey with id 34813189 in Manhanttan\n",
      "Kuzey with id 34813479 in Manhanttan\n",
      "Kuzey with id 34813915 in Manhanttan\n",
      "Kuzey with id 34814184 in Manhanttan\n",
      "Ash with id 34834383 in Manhanttan\n",
      "Ash with id 34835501 in Manhanttan\n",
      "Alfonso with id 34890465 in Manhanttan\n",
      "David with id 34972982 in Manhanttan\n",
      "Sonder (NYC) with id 35005829 in Manhanttan\n",
      "Sonder (NYC) with id 35005862 in Manhanttan\n",
      "Ahmet with id 35032803 in Manhanttan\n",
      "Ahmet with id 35033921 in Manhanttan\n",
      "Vivian with id 35084260 in Manhanttan\n",
      "Monisha with id 35088621 in Manhanttan\n",
      "Alexis with id 35195915 in Manhanttan\n",
      "Fabiana & Christopher with id 35228596 in Manhanttan\n",
      "Jessica with id 35230465 in Manhanttan\n",
      "Emm & Gabe with id 35233037 in Manhanttan\n",
      "Christiane with id 35233128 in Manhanttan\n",
      "Tomer with id 35238264 in Manhanttan\n",
      "Lely & Gary with id 35252356 in Manhanttan\n",
      "Werley & Maria with id 35252737 in Manhanttan\n",
      "Shei with id 35347096 in Manhanttan\n",
      "Vanessa with id 35351599 in Manhanttan\n",
      "Tiffany with id 35442636 in Manhanttan\n",
      "Adam with id 35607369 in Manhanttan\n",
      "Adam with id 35607568 in Manhanttan\n",
      "Andy with id 35711828 in Manhanttan\n",
      "Ash with id 35795970 in Manhanttan\n",
      "Noura with id 35803740 in Manhanttan\n",
      "Jeffrey with id 35841291 in Manhanttan\n",
      "Rita with id 35892874 in Manhanttan\n",
      "Marcos with id 35946646 in Manhanttan\n",
      "Christian with id 35962668 in Manhanttan\n",
      "Gal with id 36031282 in Manhanttan\n",
      "Jenny with id 36056808 in Manhanttan\n",
      "Lenore with id 36061406 in Manhanttan\n",
      "Abbey with id 36109087 in Manhanttan\n",
      "Denise with id 36305881 in Manhanttan\n",
      "Edna with id 36312667 in Manhanttan\n",
      "Karin with id 36315267 in Manhanttan\n",
      "Jas with id 36388748 in Manhanttan\n",
      "Will with id 36453952 in Manhanttan\n",
      "--------------------\n",
      "Mark with id 45910 in Queens\n",
      "Jullett with id 51850 in Queens\n",
      "Mark with id 53470 in Queens\n",
      "Mark with id 53477 in Queens\n",
      "Mark with id 59121 in Queens\n",
      "Savannah with id 94035 in Queens\n",
      "Sharma with id 254131 in Queens\n",
      "De & Claudia with id 538590 in Queens\n",
      "Miriam with id 602250 in Queens\n",
      "Miriam with id 611408 in Queens\n",
      "Jullett with id 676295 in Queens\n",
      "Harry with id 926337 in Queens\n",
      "Atlanta with id 1025786 in Queens\n",
      "Sen with id 1076324 in Queens\n",
      "Marjorie with id 1452786 in Queens\n",
      "Harry with id 1471244 in Queens\n",
      "Jorge with id 1571455 in Queens\n",
      "Marinez with id 1614964 in Queens\n",
      "Florian / Anna with id 2171821 in Queens\n",
      "Hugh with id 2880864 in Queens\n",
      "Edvaldo with id 3499016 in Queens\n",
      "Pat & Ray with id 3523001 in Queens\n",
      "Haya with id 3652230 in Queens\n",
      "Eddie with id 4641291 in Queens\n",
      "Freda with id 4772987 in Queens\n",
      "Dong Ming with id 4998221 in Queens\n",
      "Paul with id 5233345 in Queens\n",
      "Adrian with id 5904178 in Queens\n",
      "William with id 6045917 in Queens\n",
      "Paul & Hana with id 6077354 in Queens\n",
      "Michael with id 6574537 in Queens\n",
      "Gregory with id 6883096 in Queens\n",
      "Etkin with id 7034787 in Queens\n",
      "Nataraj with id 7208745 in Queens\n",
      "Carl with id 7433174 in Queens\n",
      "Falana with id 7689651 in Queens\n",
      "Jay with id 7764516 in Queens\n",
      "Josie with id 8028767 in Queens\n",
      "Shining with id 8341919 in Queens\n",
      "Aston with id 9374263 in Queens\n",
      "Jose with id 9990448 in Queens\n",
      "Jake with id 10185955 in Queens\n",
      "Hasi with id 11823125 in Queens\n",
      "A.B. with id 11912865 in Queens\n",
      "Ren with id 12167819 in Queens\n",
      "Tony with id 12205049 in Queens\n",
      "Joseph with id 13170687 in Queens\n",
      "Bridget with id 13209317 in Queens\n",
      "Gabriela with id 13410813 in Queens\n",
      "Noemi with id 13485043 in Queens\n",
      "Nickesha with id 13959556 in Queens\n",
      "Jared with id 13998679 in Queens\n",
      "Ramazan with id 14215061 in Queens\n",
      "Edyta with id 14332083 in Queens\n",
      "Jared with id 14760402 in Queens\n",
      "Elliot with id 14778622 in Queens\n",
      "Luffy with id 14821756 in Queens\n",
      "Nickesha with id 15049253 in Queens\n",
      "Ahmad with id 15176641 in Queens\n",
      "Pamela with id 15328242 in Queens\n",
      "Lisa with id 15409309 in Queens\n",
      "Stella with id 15476794 in Queens\n",
      "Lidia with id 15482966 in Queens\n",
      "Jared with id 15787037 in Queens\n",
      "Dr. Shirin with id 15970318 in Queens\n",
      "Nepreil with id 16039453 in Queens\n",
      "Atif with id 16575852 in Queens\n",
      "Jackie with id 16604913 in Queens\n",
      "Hao with id 17517940 in Queens\n",
      "Simone with id 17682843 in Queens\n",
      "Kevin with id 17707963 in Queens\n",
      "Sata with id 18175061 in Queens\n",
      "Alan with id 18805588 in Queens\n",
      "Sergii with id 19141112 in Queens\n",
      "Sergii with id 19141662 in Queens\n",
      "Sergii with id 19157481 in Queens\n",
      "Valentin with id 19197129 in Queens\n",
      "Dr. Shirin with id 19362485 in Queens\n",
      "Jim&Lisa with id 19385941 in Queens\n",
      "Hannah M with id 19699241 in Queens\n",
      "Veronica with id 19814107 in Queens\n",
      "Veronica with id 20022549 in Queens\n",
      "Veronica with id 20337158 in Queens\n",
      "Veronica with id 20427684 in Queens\n",
      "Ali with id 20676192 in Queens\n",
      "Lidia with id 20886432 in Queens\n",
      "Max with id 20996070 in Queens\n",
      "Jimmy &Cindy with id 21139541 in Queens\n",
      "Hillside Hotel with id 21231543 in Queens\n",
      "Hillside Hotel with id 21243952 in Queens\n",
      "Hillside Hotel with id 21244035 in Queens\n",
      "Hillside Hotel with id 21311903 in Queens\n",
      "Hillside Hotel with id 21312075 in Queens\n",
      "Hillside Hotel with id 21312191 in Queens\n",
      "Hillside Hotel with id 21312225 in Queens\n",
      "Yi with id 21354322 in Queens\n",
      "Marilyn with id 21763302 in Queens\n",
      "Felicita with id 22102113 in Queens\n",
      "Steve & Irina with id 22204167 in Queens\n",
      "Andres with id 22281921 in Queens\n",
      "Danlin with id 22766857 in Queens\n",
      "Kimberley with id 23727923 in Queens\n",
      "Vera with id 24232309 in Queens\n",
      "Amira with id 24607535 in Queens\n",
      "Michael with id 24656201 in Queens\n",
      "Andrew with id 24694397 in Queens\n",
      "Brandon with id 24746319 in Queens\n",
      "Wolfe with id 24784400 in Queens\n",
      "Christine with id 24834058 in Queens\n",
      "Stanley with id 25208234 in Queens\n",
      "Kisha with id 25356602 in Queens\n",
      "Pedro Y Martha with id 26131004 in Queens\n",
      "Majidudeen with id 26135711 in Queens\n",
      "Ana with id 26255072 in Queens\n",
      "Alberto with id 26351877 in Queens\n",
      "Brock with id 26359068 in Queens\n",
      "Nicola with id 26992139 in Queens\n",
      "Liqin with id 27312914 in Queens\n",
      "Sata with id 27457026 in Queens\n",
      "Nikole with id 27975725 in Queens\n",
      "Nikole with id 27975978 in Queens\n",
      "Kenny with id 28030557 in Queens\n",
      "Nikole with id 28043195 in Queens\n",
      "Nikole with id 28044146 in Queens\n",
      "Apostle John with id 28137157 in Queens\n",
      "Nikole with id 28183270 in Queens\n",
      "Desmond with id 28215216 in Queens\n",
      "Arq with id 28606397 in Queens\n",
      "Marisa with id 28868139 in Queens\n",
      "Anting with id 28959784 in Queens\n",
      "Saron with id 29001863 in Queens\n",
      "Nadia with id 29058075 in Queens\n",
      "Nikole with id 29337184 in Queens\n",
      "Sherley with id 29677326 in Queens\n",
      "Darry with id 29722985 in Queens\n",
      "Darry with id 29724480 in Queens\n",
      "Shan with id 29800895 in Queens\n",
      "Jon with id 29856229 in Queens\n",
      "Jessy & Christian with id 29869390 in Queens\n",
      "Liam with id 29906659 in Queens\n",
      "Zulema with id 30059579 in Queens\n",
      "Oksana with id 30201810 in Queens\n",
      "Carol with id 30266235 in Queens\n",
      "Fatema with id 30403504 in Queens\n",
      "Jeniffer with id 30567827 in Queens\n",
      "Julio with id 30728438 in Queens\n",
      "Ahmed with id 30769303 in Queens\n",
      "Clara with id 30769456 in Queens\n",
      "Sergii with id 30949075 in Queens\n",
      "Sergii with id 30949331 in Queens\n",
      "KImberly with id 31176143 in Queens\n",
      "Modupe with id 31177757 in Queens\n",
      "Rodrigo with id 31263006 in Queens\n",
      "Nicola with id 31641160 in Queens\n",
      "Adrian with id 31997308 in Queens\n",
      "Nellie with id 32285578 in Queens\n",
      "Jocelyn with id 32519021 in Queens\n",
      "Jose with id 32814024 in Queens\n",
      "Geovanny with id 33068174 in Queens\n",
      "Sercan with id 33110021 in Queens\n",
      "Jocelyn with id 33361856 in Queens\n",
      "Jocelyn with id 33362260 in Queens\n",
      "Jocelyn with id 33363704 in Queens\n",
      "Marcelo Y Lucio with id 33571420 in Queens\n",
      "Marcelo Y Lucio with id 33607370 in Queens\n",
      "Ode with id 33823598 in Queens\n",
      "Leslie with id 34233572 in Queens\n",
      "Sata with id 34253279 in Queens\n",
      "Patrice with id 34285600 in Queens\n",
      "Alan with id 34362400 in Queens\n",
      "Jocelyn with id 34534332 in Queens\n",
      "Darry with id 34670547 in Queens\n",
      "Jungyen with id 34737337 in Queens\n",
      "Jungyen with id 34771161 in Queens\n",
      "Ny with id 34907385 in Queens\n",
      "Angie with id 34981452 in Queens\n",
      "Joyann with id 35043094 in Queens\n",
      "Lucio with id 35065348 in Queens\n",
      "Kristina with id 35160490 in Queens\n",
      "Sata with id 35199464 in Queens\n",
      "Hannah M with id 35233865 in Queens\n",
      "Ken with id 35282577 in Queens\n",
      "Diego with id 35287395 in Queens\n",
      "Ken with id 35314647 in Queens\n",
      "Ken with id 35319902 in Queens\n",
      "Ken with id 35320280 in Queens\n",
      "Ken with id 35336938 in Queens\n",
      "Marie with id 35416869 in Queens\n",
      "Jenny with id 35515415 in Queens\n",
      "Ronny with id 35542686 in Queens\n",
      "Carlos with id 35543291 in Queens\n",
      "Jungyen with id 35558366 in Queens\n",
      "Alejandro with id 35576552 in Queens\n",
      "Alex with id 35634704 in Queens\n",
      "Chen with id 35706068 in Queens\n",
      "Baboucarr with id 35707474 in Queens\n",
      "Jacqueline with id 35848679 in Queens\n",
      "Sara with id 35995074 in Queens\n",
      "Karlene with id 36082721 in Queens\n",
      "Marvy with id 36243744 in Queens\n",
      "Lucy with id 36276859 in Queens\n",
      "Giorgio Residence with id 36354796 in Queens\n",
      "PengYu with id 36372006 in Queens\n",
      "Giorgio Residence with id 36384346 in Queens\n",
      "--------------------\n",
      "Johnny with id 1096326 in Staten Island\n",
      "Mel with id 7144807 in Staten Island\n",
      "Michael J with id 12230928 in Staten Island\n",
      "Tyreq with id 14654676 in Staten Island\n",
      "Louis with id 19236716 in Staten Island\n",
      "Mark with id 20305160 in Staten Island\n",
      "Courtney with id 20572837 in Staten Island\n",
      "Genny with id 26274490 in Staten Island\n",
      "Samuel with id 31560479 in Staten Island\n",
      "Valerie with id 32545866 in Staten Island\n",
      "Valerie with id 32890299 in Staten Island\n",
      "Genny with id 32918029 in Staten Island\n"
     ]
    }
   ],
   "source": [
    "# finding the host names and the area there houses are located by the get() method from Hash Table\n",
    "for i in availability_list:\n",
    "    if hashtableBronx.get(i) != \"No value can be found\":\n",
    "        print(hashtableBronx.get(i),\"with id\", i, \"in Bronx\")\n",
    "print(\"-\" * 20)    \n",
    "for i in availability_list:\n",
    "    if hashtableBrooklyn.get(i) != \"No value can be found\":\n",
    "        print(hashtableBrooklyn.get(i),\"with id\", i, \"in Brooklyn\")\n",
    "print(\"-\" * 20)\n",
    "for i in availability_list:\n",
    "    if hashtableManhattan.get(i) != \"No value can be found\":\n",
    "        print(hashtableManhattan.get(i), \"with id\", i, \"in Manhanttan\")\n",
    "print(\"-\" * 20)\n",
    "for i in availability_list:\n",
    "    if hashtableQueens.get(i) != \"No value can be found\":\n",
    "        print(hashtableQueens.get(i), \"with id\", i, \"in Queens\")\n",
    "print(\"-\" * 20)\n",
    "for i in availability_list:\n",
    "    if hashtableStatenIsland.get(i) != \"No value can be found\":\n",
    "        print(hashtableStatenIsland.get(i), \"with id\", i, \"in Staten Island\")"
   ]
  },
  {
   "cell_type": "markdown",
   "id": "coastal-clone",
   "metadata": {
    "papermill": {
     "duration": 0.14515,
     "end_time": "2021-05-25T06:20:31.189589",
     "exception": false,
     "start_time": "2021-05-25T06:20:31.044439",
     "status": "completed"
    },
    "tags": []
   },
   "source": [
    "These are the list of busiest hosts in different areas determined by the number of days when listing is available for booking. The highest number of days when listing is available for booking is 365"
   ]
  },
  {
   "cell_type": "markdown",
   "id": "traditional-significance",
   "metadata": {
    "papermill": {
     "duration": 0.146049,
     "end_time": "2021-05-25T06:20:31.504306",
     "exception": false,
     "start_time": "2021-05-25T06:20:31.358257",
     "status": "completed"
    },
    "tags": []
   },
   "source": [
    "## Number of reviews research"
   ]
  },
  {
   "cell_type": "code",
   "execution_count": 79,
   "id": "medical-livestock",
   "metadata": {
    "execution": {
     "iopub.execute_input": "2021-05-25T06:20:31.760723Z",
     "iopub.status.busy": "2021-05-25T06:20:31.759988Z",
     "iopub.status.idle": "2021-05-25T06:20:31.766992Z",
     "shell.execute_reply": "2021-05-25T06:20:31.766484Z",
     "shell.execute_reply.started": "2021-05-25T06:18:02.739804Z"
    },
    "papermill": {
     "duration": 0.129354,
     "end_time": "2021-05-25T06:20:31.767142",
     "exception": false,
     "start_time": "2021-05-25T06:20:31.637788",
     "status": "completed"
    },
    "tags": []
   },
   "outputs": [
    {
     "data": {
      "text/plain": [
       "0      10052\n",
       "1       5244\n",
       "2       3465\n",
       "3       2520\n",
       "4       1994\n",
       "       ...  \n",
       "326        1\n",
       "439        1\n",
       "594        1\n",
       "335        1\n",
       "607        1\n",
       "Name: number_of_reviews, Length: 394, dtype: int64"
      ]
     },
     "execution_count": 79,
     "metadata": {},
     "output_type": "execute_result"
    }
   ],
   "source": [
    "dataset['number_of_reviews'].value_counts()"
   ]
  },
  {
   "cell_type": "markdown",
   "id": "compact-beaver",
   "metadata": {
    "papermill": {
     "duration": 0.118076,
     "end_time": "2021-05-25T06:20:32.005402",
     "exception": false,
     "start_time": "2021-05-25T06:20:31.887326",
     "status": "completed"
    },
    "tags": []
   },
   "source": [
    "There are around 10000 of airbnb houses that don't receive any reviews users"
   ]
  },
  {
   "cell_type": "markdown",
   "id": "institutional-lover",
   "metadata": {
    "papermill": {
     "duration": 0.118607,
     "end_time": "2021-05-25T06:20:32.242857",
     "exception": false,
     "start_time": "2021-05-25T06:20:32.124250",
     "status": "completed"
    },
    "tags": []
   },
   "source": [
    "There is one Airbnb house that receive the most number of 607 reviews"
   ]
  },
  {
   "cell_type": "code",
   "execution_count": 80,
   "id": "minute-homeless",
   "metadata": {
    "execution": {
     "iopub.execute_input": "2021-05-25T06:20:32.500540Z",
     "iopub.status.busy": "2021-05-25T06:20:32.488494Z",
     "iopub.status.idle": "2021-05-25T06:20:32.506991Z",
     "shell.execute_reply": "2021-05-25T06:20:32.506500Z",
     "shell.execute_reply.started": "2021-05-25T06:17:59.063774Z"
    },
    "papermill": {
     "duration": 0.144671,
     "end_time": "2021-05-25T06:20:32.507148",
     "exception": false,
     "start_time": "2021-05-25T06:20:32.362477",
     "status": "completed"
    },
    "tags": []
   },
   "outputs": [
    {
     "data": {
      "text/html": [
       "<div>\n",
       "<style scoped>\n",
       "    .dataframe tbody tr th:only-of-type {\n",
       "        vertical-align: middle;\n",
       "    }\n",
       "\n",
       "    .dataframe tbody tr th {\n",
       "        vertical-align: top;\n",
       "    }\n",
       "\n",
       "    .dataframe thead th {\n",
       "        text-align: right;\n",
       "    }\n",
       "</style>\n",
       "<table border=\"1\" class=\"dataframe\">\n",
       "  <thead>\n",
       "    <tr style=\"text-align: right;\">\n",
       "      <th></th>\n",
       "      <th>id</th>\n",
       "      <th>name</th>\n",
       "      <th>host_id</th>\n",
       "      <th>host_name</th>\n",
       "      <th>neighbourhood_group</th>\n",
       "      <th>neighbourhood</th>\n",
       "      <th>latitude</th>\n",
       "      <th>longitude</th>\n",
       "      <th>room_type</th>\n",
       "      <th>price</th>\n",
       "      <th>minimum_nights</th>\n",
       "      <th>number_of_reviews</th>\n",
       "      <th>last_review</th>\n",
       "      <th>reviews_per_month</th>\n",
       "      <th>calculated_host_listings_count</th>\n",
       "      <th>availability_365</th>\n",
       "    </tr>\n",
       "  </thead>\n",
       "  <tbody>\n",
       "    <tr>\n",
       "      <th>2031</th>\n",
       "      <td>903972</td>\n",
       "      <td>Great Bedroom in Manhattan</td>\n",
       "      <td>4734398</td>\n",
       "      <td>Jj</td>\n",
       "      <td>Manhattan</td>\n",
       "      <td>Harlem</td>\n",
       "      <td>40.82085</td>\n",
       "      <td>-73.94025</td>\n",
       "      <td>Private room</td>\n",
       "      <td>49</td>\n",
       "      <td>1</td>\n",
       "      <td>607</td>\n",
       "      <td>2019-06-21</td>\n",
       "      <td>7.75</td>\n",
       "      <td>3</td>\n",
       "      <td>293</td>\n",
       "    </tr>\n",
       "  </tbody>\n",
       "</table>\n",
       "</div>"
      ],
      "text/plain": [
       "          id                        name  host_id host_name  \\\n",
       "2031  903972  Great Bedroom in Manhattan  4734398        Jj   \n",
       "\n",
       "     neighbourhood_group neighbourhood  latitude  longitude     room_type  \\\n",
       "2031           Manhattan        Harlem  40.82085  -73.94025  Private room   \n",
       "\n",
       "      price  minimum_nights  number_of_reviews last_review  reviews_per_month  \\\n",
       "2031     49               1                607  2019-06-21               7.75   \n",
       "\n",
       "      calculated_host_listings_count  availability_365  \n",
       "2031                               3               293  "
      ]
     },
     "execution_count": 80,
     "metadata": {},
     "output_type": "execute_result"
    }
   ],
   "source": [
    "dataset[dataset['number_of_reviews'] == 607]"
   ]
  },
  {
   "cell_type": "markdown",
   "id": "still-january",
   "metadata": {
    "papermill": {
     "duration": 0.119175,
     "end_time": "2021-05-25T06:20:32.745467",
     "exception": false,
     "start_time": "2021-05-25T06:20:32.626292",
     "status": "completed"
    },
    "tags": []
   },
   "source": [
    "\"Great Bedroom in Manhattan\" in Manhattan owned by Ji has the most reviews. It has a private room type with the price of 49 Dollars per night"
   ]
  },
  {
   "cell_type": "code",
   "execution_count": null,
   "id": "sophisticated-negotiation",
   "metadata": {
    "papermill": {
     "duration": 0.118871,
     "end_time": "2021-05-25T06:20:32.984678",
     "exception": false,
     "start_time": "2021-05-25T06:20:32.865807",
     "status": "completed"
    },
    "tags": []
   },
   "outputs": [],
   "source": []
  }
 ],
 "metadata": {
  "kernelspec": {
   "display_name": "Python 3",
   "language": "python",
   "name": "python3"
  },
  "language_info": {
   "codemirror_mode": {
    "name": "ipython",
    "version": 3
   },
   "file_extension": ".py",
   "mimetype": "text/x-python",
   "name": "python",
   "nbconvert_exporter": "python",
   "pygments_lexer": "ipython3",
   "version": "3.7.10"
  },
  "papermill": {
   "default_parameters": {},
   "duration": 133.026962,
   "end_time": "2021-05-25T06:20:33.813379",
   "environment_variables": {},
   "exception": null,
   "input_path": "__notebook__.ipynb",
   "output_path": "__notebook__.ipynb",
   "parameters": {},
   "start_time": "2021-05-25T06:18:20.786417",
   "version": "2.3.3"
  }
 },
 "nbformat": 4,
 "nbformat_minor": 5
}